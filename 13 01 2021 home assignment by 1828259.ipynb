{
 "cells": [
  {
   "cell_type": "markdown",
   "metadata": {},
   "source": [
    "#  Write a Python program to find the average of highest 3 values in a dictionary."
   ]
  },
  {
   "cell_type": "code",
   "execution_count": 1,
   "metadata": {},
   "outputs": [
    {
     "name": "stdout",
     "output_type": "stream",
     "text": [
      "Initial Dictionary:\n",
      "{'A': 67, 'B': 23, 'C': 45, 'D': 56, 'E': 12, 'F': 69} \n",
      "\n",
      "Dictionary with 3 highest values:\n",
      "Keys: Values\n",
      "F  : 69  \n",
      "A  : 67  \n",
      "D  : 56  \n"
     ]
    }
   ],
   "source": [
    "from collections import Counter \n",
    "  \n",
    "# Initial Dictionary \n",
    "my_dict = {'A': 67, 'B': 23, 'C': 45,  \n",
    "           'D': 56, 'E': 12, 'F': 69} \n",
    "  \n",
    "k = Counter(my_dict) \n",
    "  \n",
    "# Finding 3 highest values \n",
    "high = k.most_common(3)  \n",
    "  \n",
    "print(\"Initial Dictionary:\") \n",
    "print(my_dict, \"\\n\") \n",
    "  \n",
    "  \n",
    "print(\"Dictionary with 3 highest values:\") \n",
    "print(\"Keys: Values\") \n",
    "  \n",
    "for i in high: \n",
    "    print(i[0],\" :\",i[1],\" \") "
   ]
  },
  {
   "cell_type": "markdown",
   "metadata": {},
   "source": [
    "# Write a Python program to get the top FIVE items in an inventry."
   ]
  },
  {
   "cell_type": "code",
   "execution_count": 12,
   "metadata": {},
   "outputs": [],
   "source": [
    "inv = [2,5,77,92,18,56,27,71]\n",
    "for i in range(5):\n",
    "    inv"
   ]
  },
  {
   "cell_type": "code",
   "execution_count": null,
   "metadata": {},
   "outputs": [],
   "source": []
  }
 ],
 "metadata": {
  "kernelspec": {
   "display_name": "Python 3",
   "language": "python",
   "name": "python3"
  },
  "language_info": {
   "codemirror_mode": {
    "name": "ipython",
    "version": 3
   },
   "file_extension": ".py",
   "mimetype": "text/x-python",
   "name": "python",
   "nbconvert_exporter": "python",
   "pygments_lexer": "ipython3",
   "version": "3.7.6"
  }
 },
 "nbformat": 4,
 "nbformat_minor": 4
}
