{
 "cells": [
  {
   "cell_type": "markdown",
   "metadata": {},
   "source": [
    "# part A"
   ]
  },
  {
   "cell_type": "markdown",
   "metadata": {},
   "source": [
    "# q1"
   ]
  },
  {
   "cell_type": "code",
   "execution_count": 124,
   "metadata": {},
   "outputs": [],
   "source": [
    "# 1.Find those groups which have more “True” values than\n",
    "# “False” values in the below dataframe:\n",
    "\n",
    "# df = pd.DataFrame({'A': ['group1', 'group1', 'group2', 'group1','group2',\n",
    "# 'group1', 'group2', 'group2','group2','group1'],\n",
    "# 'B': ['true', 'true', 'true', 'false', 'false', 'false', 'false', 'true','false','true']})"
   ]
  },
  {
   "cell_type": "code",
   "execution_count": 159,
   "metadata": {},
   "outputs": [],
   "source": [
    "import pandas as pd\n",
    "import numpy as np"
   ]
  },
  {
   "cell_type": "code",
   "execution_count": 160,
   "metadata": {},
   "outputs": [],
   "source": [
    "df = pd.DataFrame({'A': ['group1', 'group1', 'group2', 'group1','group2',\n",
    "'group1', 'group2', 'group2','group2','group1'],\n",
    "'B': ['true', 'true', 'true', 'false', 'false', 'false', 'false', 'true','false','true']})"
   ]
  },
  {
   "cell_type": "code",
   "execution_count": 161,
   "metadata": {},
   "outputs": [
    {
     "data": {
      "text/html": [
       "<div>\n",
       "<style scoped>\n",
       "    .dataframe tbody tr th:only-of-type {\n",
       "        vertical-align: middle;\n",
       "    }\n",
       "\n",
       "    .dataframe tbody tr th {\n",
       "        vertical-align: top;\n",
       "    }\n",
       "\n",
       "    .dataframe thead th {\n",
       "        text-align: right;\n",
       "    }\n",
       "</style>\n",
       "<table border=\"1\" class=\"dataframe\">\n",
       "  <thead>\n",
       "    <tr style=\"text-align: right;\">\n",
       "      <th></th>\n",
       "      <th>A</th>\n",
       "      <th>B</th>\n",
       "    </tr>\n",
       "  </thead>\n",
       "  <tbody>\n",
       "    <tr>\n",
       "      <th>0</th>\n",
       "      <td>group1</td>\n",
       "      <td>true</td>\n",
       "    </tr>\n",
       "    <tr>\n",
       "      <th>1</th>\n",
       "      <td>group1</td>\n",
       "      <td>true</td>\n",
       "    </tr>\n",
       "    <tr>\n",
       "      <th>2</th>\n",
       "      <td>group2</td>\n",
       "      <td>true</td>\n",
       "    </tr>\n",
       "    <tr>\n",
       "      <th>3</th>\n",
       "      <td>group1</td>\n",
       "      <td>false</td>\n",
       "    </tr>\n",
       "    <tr>\n",
       "      <th>4</th>\n",
       "      <td>group2</td>\n",
       "      <td>false</td>\n",
       "    </tr>\n",
       "    <tr>\n",
       "      <th>5</th>\n",
       "      <td>group1</td>\n",
       "      <td>false</td>\n",
       "    </tr>\n",
       "    <tr>\n",
       "      <th>6</th>\n",
       "      <td>group2</td>\n",
       "      <td>false</td>\n",
       "    </tr>\n",
       "    <tr>\n",
       "      <th>7</th>\n",
       "      <td>group2</td>\n",
       "      <td>true</td>\n",
       "    </tr>\n",
       "    <tr>\n",
       "      <th>8</th>\n",
       "      <td>group2</td>\n",
       "      <td>false</td>\n",
       "    </tr>\n",
       "    <tr>\n",
       "      <th>9</th>\n",
       "      <td>group1</td>\n",
       "      <td>true</td>\n",
       "    </tr>\n",
       "  </tbody>\n",
       "</table>\n",
       "</div>"
      ],
      "text/plain": [
       "        A      B\n",
       "0  group1   true\n",
       "1  group1   true\n",
       "2  group2   true\n",
       "3  group1  false\n",
       "4  group2  false\n",
       "5  group1  false\n",
       "6  group2  false\n",
       "7  group2   true\n",
       "8  group2  false\n",
       "9  group1   true"
      ]
     },
     "execution_count": 161,
     "metadata": {},
     "output_type": "execute_result"
    }
   ],
   "source": [
    "df"
   ]
  },
  {
   "cell_type": "code",
   "execution_count": 162,
   "metadata": {},
   "outputs": [
    {
     "data": {
      "text/html": [
       "<div>\n",
       "<style scoped>\n",
       "    .dataframe tbody tr th:only-of-type {\n",
       "        vertical-align: middle;\n",
       "    }\n",
       "\n",
       "    .dataframe tbody tr th {\n",
       "        vertical-align: top;\n",
       "    }\n",
       "\n",
       "    .dataframe thead th {\n",
       "        text-align: right;\n",
       "    }\n",
       "</style>\n",
       "<table border=\"1\" class=\"dataframe\">\n",
       "  <thead>\n",
       "    <tr style=\"text-align: right;\">\n",
       "      <th></th>\n",
       "      <th>A</th>\n",
       "      <th>B</th>\n",
       "    </tr>\n",
       "  </thead>\n",
       "  <tbody>\n",
       "    <tr>\n",
       "      <th>0</th>\n",
       "      <td>group1</td>\n",
       "      <td>true</td>\n",
       "    </tr>\n",
       "    <tr>\n",
       "      <th>1</th>\n",
       "      <td>group1</td>\n",
       "      <td>true</td>\n",
       "    </tr>\n",
       "    <tr>\n",
       "      <th>9</th>\n",
       "      <td>group1</td>\n",
       "      <td>true</td>\n",
       "    </tr>\n",
       "  </tbody>\n",
       "</table>\n",
       "</div>"
      ],
      "text/plain": [
       "        A     B\n",
       "0  group1  true\n",
       "1  group1  true\n",
       "9  group1  true"
      ]
     },
     "execution_count": 162,
     "metadata": {},
     "output_type": "execute_result"
    }
   ],
   "source": [
    "df[(df['B']=='true') & (df['A']=='group1')]"
   ]
  },
  {
   "cell_type": "code",
   "execution_count": 163,
   "metadata": {},
   "outputs": [
    {
     "data": {
      "text/html": [
       "<div>\n",
       "<style scoped>\n",
       "    .dataframe tbody tr th:only-of-type {\n",
       "        vertical-align: middle;\n",
       "    }\n",
       "\n",
       "    .dataframe tbody tr th {\n",
       "        vertical-align: top;\n",
       "    }\n",
       "\n",
       "    .dataframe thead th {\n",
       "        text-align: right;\n",
       "    }\n",
       "</style>\n",
       "<table border=\"1\" class=\"dataframe\">\n",
       "  <thead>\n",
       "    <tr style=\"text-align: right;\">\n",
       "      <th></th>\n",
       "      <th>A</th>\n",
       "      <th>B</th>\n",
       "    </tr>\n",
       "  </thead>\n",
       "  <tbody>\n",
       "    <tr>\n",
       "      <th>2</th>\n",
       "      <td>group2</td>\n",
       "      <td>true</td>\n",
       "    </tr>\n",
       "    <tr>\n",
       "      <th>7</th>\n",
       "      <td>group2</td>\n",
       "      <td>true</td>\n",
       "    </tr>\n",
       "  </tbody>\n",
       "</table>\n",
       "</div>"
      ],
      "text/plain": [
       "        A     B\n",
       "2  group2  true\n",
       "7  group2  true"
      ]
     },
     "execution_count": 163,
     "metadata": {},
     "output_type": "execute_result"
    }
   ],
   "source": [
    "df.loc[(df['B']=='true') & (df['A']=='group2')]"
   ]
  },
  {
   "cell_type": "code",
   "execution_count": 166,
   "metadata": {},
   "outputs": [
    {
     "data": {
      "text/plain": [
       "'group1'"
      ]
     },
     "execution_count": 166,
     "metadata": {},
     "output_type": "execute_result"
    }
   ],
   "source": [
    "df1 = df.groupby('A').apply(lambda x:x['B'].value_counts().index[0]) \n",
    "df1 = df1.reset_index()\n",
    "df1['A'][0]\n"
   ]
  },
  {
   "cell_type": "code",
   "execution_count": 30,
   "metadata": {},
   "outputs": [],
   "source": [
    "# hence we can see that we have 3 number of true in grp 1 and 2 number of true in grp2\n"
   ]
  },
  {
   "cell_type": "markdown",
   "metadata": {},
   "source": [
    "# q2 "
   ]
  },
  {
   "cell_type": "code",
   "execution_count": 35,
   "metadata": {},
   "outputs": [],
   "source": [
    "#  2.\n",
    "# a.   Get the items not common to both series A and series B (Without\n",
    "#      using loops)\n",
    "# b)   Get the items common to both series A and series B(Without using\n",
    "#      loops)\n",
    "#      input\n",
    "#       ser1 = pd.Series([1, 2, 3, 4, 5])\n",
    "#       ser2 = pd.Series([4, 5, 6, 7, 8])"
   ]
  },
  {
   "cell_type": "code",
   "execution_count": 36,
   "metadata": {},
   "outputs": [],
   "source": [
    "ser1 = pd.Series([1, 2, 3, 4, 5])\n",
    "ser2 = pd.Series([4, 5, 6, 7, 8])"
   ]
  },
  {
   "cell_type": "code",
   "execution_count": 44,
   "metadata": {},
   "outputs": [],
   "source": [
    "union = pd.Series(np.union1d(ser1, ser2))"
   ]
  },
  {
   "cell_type": "code",
   "execution_count": 45,
   "metadata": {},
   "outputs": [],
   "source": [
    "intersect = pd.Series(np.intersect1d(ser1, ser2))"
   ]
  },
  {
   "cell_type": "code",
   "execution_count": 48,
   "metadata": {},
   "outputs": [
    {
     "data": {
      "text/plain": [
       "0    1\n",
       "1    2\n",
       "2    3\n",
       "5    6\n",
       "6    7\n",
       "7    8\n",
       "dtype: int64"
      ]
     },
     "execution_count": 48,
     "metadata": {},
     "output_type": "execute_result"
    }
   ],
   "source": [
    "notcommonseries = union[~union.isin(intersect)]\n",
    "notcommonseries  ### unique to each series"
   ]
  },
  {
   "cell_type": "code",
   "execution_count": 52,
   "metadata": {},
   "outputs": [
    {
     "data": {
      "text/plain": [
       "0    4\n",
       "1    5\n",
       "dtype: int64"
      ]
     },
     "execution_count": 52,
     "metadata": {},
     "output_type": "execute_result"
    }
   ],
   "source": [
    "intersect  ### commmon to both series"
   ]
  },
  {
   "cell_type": "markdown",
   "metadata": {},
   "source": [
    "# q3"
   ]
  },
  {
   "cell_type": "code",
   "execution_count": 53,
   "metadata": {},
   "outputs": [],
   "source": [
    "# 3.a.Generate a random series of length 10 and find the positions of\n",
    "# numbers that are multiples of 3 from a series?\n",
    "# b.Compute the cumulative difference between the consecutive\n",
    "# number for the same series(without using loops).\n",
    "# # input\n",
    "# Series ==>[1, 3, 6, 10, 15, 21, 27, 35]\n",
    "# # Desired Output\n",
    "# # [nan, 2.0, 3.0, 4.0, 5.0, 6.0, 6.0, 8.0]"
   ]
  },
  {
   "cell_type": "code",
   "execution_count": 54,
   "metadata": {},
   "outputs": [],
   "source": [
    "num = pd.Series(np.random.randint(1,50,10))"
   ]
  },
  {
   "cell_type": "code",
   "execution_count": 76,
   "metadata": {},
   "outputs": [
    {
     "data": {
      "text/plain": [
       "[0     True\n",
       " 1     True\n",
       " 2    False\n",
       " 3    False\n",
       " 4    False\n",
       " 5    False\n",
       " 6     True\n",
       " 7    False\n",
       " 8    False\n",
       " 9    False\n",
       " dtype: bool]"
      ]
     },
     "execution_count": 76,
     "metadata": {},
     "output_type": "execute_result"
    }
   ],
   "source": [
    "result = [num%3==0]\n",
    "result"
   ]
  },
  {
   "cell_type": "code",
   "execution_count": 58,
   "metadata": {},
   "outputs": [
    {
     "data": {
      "text/plain": [
       "0    15\n",
       "1    12\n",
       "2    28\n",
       "3     7\n",
       "4     2\n",
       "5    37\n",
       "6     9\n",
       "7    34\n",
       "8    29\n",
       "9    29\n",
       "dtype: int32"
      ]
     },
     "execution_count": 58,
     "metadata": {},
     "output_type": "execute_result"
    }
   ],
   "source": [
    "num"
   ]
  },
  {
   "cell_type": "code",
   "execution_count": 131,
   "metadata": {},
   "outputs": [
    {
     "data": {
      "text/plain": [
       "0    15\n",
       "1    12\n",
       "6     9\n",
       "dtype: int32"
      ]
     },
     "execution_count": 131,
     "metadata": {},
     "output_type": "execute_result"
    }
   ],
   "source": [
    "num[num%3==0]"
   ]
  },
  {
   "cell_type": "code",
   "execution_count": 134,
   "metadata": {},
   "outputs": [
    {
     "data": {
      "text/plain": [
       "[-3, 16, -21, -5, 35, -28, 25, -5, 0]"
      ]
     },
     "execution_count": 134,
     "metadata": {},
     "output_type": "execute_result"
    }
   ],
   "source": [
    "# b.Compute the cumulative difference between the consecutive\n",
    "# number for the same series(without using loops).\n",
    "\n",
    "import operator\n",
    "res = list(map(operator.sub,num[1:],num[:-1]))\n",
    "res"
   ]
  },
  {
   "cell_type": "markdown",
   "metadata": {},
   "source": [
    "# PART B"
   ]
  },
  {
   "cell_type": "markdown",
   "metadata": {},
   "source": [
    "# q1"
   ]
  },
  {
   "cell_type": "code",
   "execution_count": 136,
   "metadata": {},
   "outputs": [],
   "source": [
    "# 1. Find the Average price of project from each state"
   ]
  },
  {
   "cell_type": "code",
   "execution_count": 137,
   "metadata": {},
   "outputs": [],
   "source": [
    "df = pd.read_csv('Grouby_Assignment_Data.csv')"
   ]
  },
  {
   "cell_type": "code",
   "execution_count": 138,
   "metadata": {},
   "outputs": [
    {
     "data": {
      "text/html": [
       "<div>\n",
       "<style scoped>\n",
       "    .dataframe tbody tr th:only-of-type {\n",
       "        vertical-align: middle;\n",
       "    }\n",
       "\n",
       "    .dataframe tbody tr th {\n",
       "        vertical-align: top;\n",
       "    }\n",
       "\n",
       "    .dataframe thead th {\n",
       "        text-align: right;\n",
       "    }\n",
       "</style>\n",
       "<table border=\"1\" class=\"dataframe\">\n",
       "  <thead>\n",
       "    <tr style=\"text-align: right;\">\n",
       "      <th></th>\n",
       "      <th>Unnamed: 0</th>\n",
       "      <th>Unnamed: 0.1</th>\n",
       "      <th>school_state</th>\n",
       "      <th>teacher_prefix</th>\n",
       "      <th>project_grade_category</th>\n",
       "      <th>teacher_number_of_previously_posted_projects</th>\n",
       "      <th>project_is_approved</th>\n",
       "      <th>project_subject_categories</th>\n",
       "      <th>project_subject_subcategories</th>\n",
       "      <th>price</th>\n",
       "      <th>quantity</th>\n",
       "    </tr>\n",
       "  </thead>\n",
       "  <tbody>\n",
       "    <tr>\n",
       "      <th>0</th>\n",
       "      <td>0</td>\n",
       "      <td>0</td>\n",
       "      <td>in</td>\n",
       "      <td>mrs</td>\n",
       "      <td>grades_prek_2</td>\n",
       "      <td>0</td>\n",
       "      <td>0</td>\n",
       "      <td>literacy_language</td>\n",
       "      <td>esl_literacy</td>\n",
       "      <td>154.60</td>\n",
       "      <td>23</td>\n",
       "    </tr>\n",
       "    <tr>\n",
       "      <th>1</th>\n",
       "      <td>1</td>\n",
       "      <td>1</td>\n",
       "      <td>fl</td>\n",
       "      <td>mr</td>\n",
       "      <td>grades_6_8</td>\n",
       "      <td>7</td>\n",
       "      <td>1</td>\n",
       "      <td>history_civics_health_sports</td>\n",
       "      <td>civics_government_teamsports</td>\n",
       "      <td>299.00</td>\n",
       "      <td>1</td>\n",
       "    </tr>\n",
       "    <tr>\n",
       "      <th>2</th>\n",
       "      <td>2</td>\n",
       "      <td>2</td>\n",
       "      <td>az</td>\n",
       "      <td>ms</td>\n",
       "      <td>grades_6_8</td>\n",
       "      <td>1</td>\n",
       "      <td>0</td>\n",
       "      <td>health_sports</td>\n",
       "      <td>health_wellness_teamsports</td>\n",
       "      <td>516.85</td>\n",
       "      <td>22</td>\n",
       "    </tr>\n",
       "    <tr>\n",
       "      <th>3</th>\n",
       "      <td>3</td>\n",
       "      <td>3</td>\n",
       "      <td>ky</td>\n",
       "      <td>mrs</td>\n",
       "      <td>grades_prek_2</td>\n",
       "      <td>4</td>\n",
       "      <td>1</td>\n",
       "      <td>literacy_language_math_science</td>\n",
       "      <td>literacy_mathematics</td>\n",
       "      <td>232.90</td>\n",
       "      <td>4</td>\n",
       "    </tr>\n",
       "  </tbody>\n",
       "</table>\n",
       "</div>"
      ],
      "text/plain": [
       "   Unnamed: 0  Unnamed: 0.1 school_state teacher_prefix  \\\n",
       "0           0             0           in            mrs   \n",
       "1           1             1           fl             mr   \n",
       "2           2             2           az             ms   \n",
       "3           3             3           ky            mrs   \n",
       "\n",
       "  project_grade_category  teacher_number_of_previously_posted_projects  \\\n",
       "0          grades_prek_2                                             0   \n",
       "1             grades_6_8                                             7   \n",
       "2             grades_6_8                                             1   \n",
       "3          grades_prek_2                                             4   \n",
       "\n",
       "   project_is_approved      project_subject_categories  \\\n",
       "0                    0               literacy_language   \n",
       "1                    1    history_civics_health_sports   \n",
       "2                    0                   health_sports   \n",
       "3                    1  literacy_language_math_science   \n",
       "\n",
       "  project_subject_subcategories   price  quantity  \n",
       "0                  esl_literacy  154.60        23  \n",
       "1  civics_government_teamsports  299.00         1  \n",
       "2    health_wellness_teamsports  516.85        22  \n",
       "3          literacy_mathematics  232.90         4  "
      ]
     },
     "execution_count": 138,
     "metadata": {},
     "output_type": "execute_result"
    }
   ],
   "source": [
    "df.head(4)"
   ]
  },
  {
   "cell_type": "code",
   "execution_count": 139,
   "metadata": {},
   "outputs": [
    {
     "data": {
      "text/plain": [
       "school_state\n",
       "ak    337.510667\n",
       "al    298.641397\n",
       "ar    278.166613\n",
       "az    252.355673\n",
       "ca    323.282639\n",
       "co    252.666940\n",
       "ct    311.030415\n",
       "dc    360.152267\n",
       "de    234.136735\n",
       "fl    297.499525\n",
       "ga    308.207945\n",
       "hi    365.838639\n",
       "ia    284.773153\n",
       "id    253.708874\n",
       "il    284.538685\n",
       "in    249.736221\n",
       "ks    246.894763\n",
       "ky    280.020031\n",
       "la    358.954185\n",
       "ma    328.623520\n",
       "md    303.952794\n",
       "me    274.640000\n",
       "mi    299.793970\n",
       "mn    249.289851\n",
       "mo    276.094635\n",
       "ms    306.512922\n",
       "mt    278.000490\n",
       "nc    254.037568\n",
       "nd    256.985035\n",
       "ne    286.515307\n",
       "nh    330.994425\n",
       "nj    336.891618\n",
       "nm    297.836876\n",
       "nv    283.005000\n",
       "ny    335.973861\n",
       "oh    271.301090\n",
       "ok    264.163071\n",
       "or    289.779098\n",
       "pa    279.585613\n",
       "ri    296.904035\n",
       "sc    247.343586\n",
       "sd    249.673433\n",
       "tn    279.079419\n",
       "tx    304.977799\n",
       "ut    310.182139\n",
       "va    267.539311\n",
       "vt    289.467250\n",
       "wa    283.266018\n",
       "wi    301.433963\n",
       "wv    258.633121\n",
       "wy    307.638878\n",
       "Name: price, dtype: float64"
      ]
     },
     "execution_count": 139,
     "metadata": {},
     "output_type": "execute_result"
    }
   ],
   "source": [
    "df.groupby('school_state').mean()['price']"
   ]
  },
  {
   "cell_type": "markdown",
   "metadata": {},
   "source": [
    "## q2"
   ]
  },
  {
   "cell_type": "code",
   "execution_count": 140,
   "metadata": {},
   "outputs": [],
   "source": [
    "# 2.\n",
    "# a. Find the total number of projects previously posted by all the\n",
    "# teachers belonging to each teacher prefix.\n",
    "# For Example all the teachers having prefix as dr have posted a total of\n",
    "# 13 projects combined previously.\n"
   ]
  },
  {
   "cell_type": "code",
   "execution_count": 141,
   "metadata": {},
   "outputs": [
    {
     "data": {
      "text/html": [
       "<div>\n",
       "<style scoped>\n",
       "    .dataframe tbody tr th:only-of-type {\n",
       "        vertical-align: middle;\n",
       "    }\n",
       "\n",
       "    .dataframe tbody tr th {\n",
       "        vertical-align: top;\n",
       "    }\n",
       "\n",
       "    .dataframe thead th {\n",
       "        text-align: right;\n",
       "    }\n",
       "</style>\n",
       "<table border=\"1\" class=\"dataframe\">\n",
       "  <thead>\n",
       "    <tr style=\"text-align: right;\">\n",
       "      <th></th>\n",
       "      <th>Unnamed: 0</th>\n",
       "      <th>Unnamed: 0.1</th>\n",
       "      <th>school_state</th>\n",
       "      <th>teacher_prefix</th>\n",
       "      <th>project_grade_category</th>\n",
       "      <th>teacher_number_of_previously_posted_projects</th>\n",
       "      <th>project_is_approved</th>\n",
       "      <th>project_subject_categories</th>\n",
       "      <th>project_subject_subcategories</th>\n",
       "      <th>price</th>\n",
       "      <th>quantity</th>\n",
       "    </tr>\n",
       "  </thead>\n",
       "  <tbody>\n",
       "    <tr>\n",
       "      <th>0</th>\n",
       "      <td>0</td>\n",
       "      <td>0</td>\n",
       "      <td>in</td>\n",
       "      <td>mrs</td>\n",
       "      <td>grades_prek_2</td>\n",
       "      <td>0</td>\n",
       "      <td>0</td>\n",
       "      <td>literacy_language</td>\n",
       "      <td>esl_literacy</td>\n",
       "      <td>154.60</td>\n",
       "      <td>23</td>\n",
       "    </tr>\n",
       "    <tr>\n",
       "      <th>1</th>\n",
       "      <td>1</td>\n",
       "      <td>1</td>\n",
       "      <td>fl</td>\n",
       "      <td>mr</td>\n",
       "      <td>grades_6_8</td>\n",
       "      <td>7</td>\n",
       "      <td>1</td>\n",
       "      <td>history_civics_health_sports</td>\n",
       "      <td>civics_government_teamsports</td>\n",
       "      <td>299.00</td>\n",
       "      <td>1</td>\n",
       "    </tr>\n",
       "    <tr>\n",
       "      <th>2</th>\n",
       "      <td>2</td>\n",
       "      <td>2</td>\n",
       "      <td>az</td>\n",
       "      <td>ms</td>\n",
       "      <td>grades_6_8</td>\n",
       "      <td>1</td>\n",
       "      <td>0</td>\n",
       "      <td>health_sports</td>\n",
       "      <td>health_wellness_teamsports</td>\n",
       "      <td>516.85</td>\n",
       "      <td>22</td>\n",
       "    </tr>\n",
       "  </tbody>\n",
       "</table>\n",
       "</div>"
      ],
      "text/plain": [
       "   Unnamed: 0  Unnamed: 0.1 school_state teacher_prefix  \\\n",
       "0           0             0           in            mrs   \n",
       "1           1             1           fl             mr   \n",
       "2           2             2           az             ms   \n",
       "\n",
       "  project_grade_category  teacher_number_of_previously_posted_projects  \\\n",
       "0          grades_prek_2                                             0   \n",
       "1             grades_6_8                                             7   \n",
       "2             grades_6_8                                             1   \n",
       "\n",
       "   project_is_approved    project_subject_categories  \\\n",
       "0                    0             literacy_language   \n",
       "1                    1  history_civics_health_sports   \n",
       "2                    0                 health_sports   \n",
       "\n",
       "  project_subject_subcategories   price  quantity  \n",
       "0                  esl_literacy  154.60        23  \n",
       "1  civics_government_teamsports  299.00         1  \n",
       "2    health_wellness_teamsports  516.85        22  "
      ]
     },
     "execution_count": 141,
     "metadata": {},
     "output_type": "execute_result"
    }
   ],
   "source": [
    "df.head(3)"
   ]
  },
  {
   "cell_type": "code",
   "execution_count": 142,
   "metadata": {},
   "outputs": [
    {
     "data": {
      "text/plain": [
       "teacher_prefix\n",
       "dr             53\n",
       "mr         129516\n",
       "mrs        639471\n",
       "ms         441295\n",
       "teacher      7671\n",
       "Name: teacher_number_of_previously_posted_projects, dtype: int64"
      ]
     },
     "execution_count": 142,
     "metadata": {},
     "output_type": "execute_result"
    }
   ],
   "source": [
    "df.groupby('teacher_prefix').sum()['teacher_number_of_previously_posted_projects']"
   ]
  },
  {
   "cell_type": "code",
   "execution_count": 143,
   "metadata": {},
   "outputs": [],
   "source": [
    "# b. Find the prefix of the teacher who has posted the maximum of\n",
    "# projects previously"
   ]
  },
  {
   "cell_type": "code",
   "execution_count": 144,
   "metadata": {},
   "outputs": [
    {
     "data": {
      "text/plain": [
       "'mrs'"
      ]
     },
     "execution_count": 144,
     "metadata": {},
     "output_type": "execute_result"
    }
   ],
   "source": [
    "df['teacher_prefix'][df['teacher_number_of_previously_posted_projects'].max()]"
   ]
  },
  {
   "cell_type": "code",
   "execution_count": 145,
   "metadata": {},
   "outputs": [
    {
     "data": {
      "text/plain": [
       "451"
      ]
     },
     "execution_count": 145,
     "metadata": {},
     "output_type": "execute_result"
    }
   ],
   "source": [
    "df['teacher_number_of_previously_posted_projects'].max()"
   ]
  },
  {
   "cell_type": "markdown",
   "metadata": {},
   "source": [
    "# q3"
   ]
  },
  {
   "cell_type": "code",
   "execution_count": 146,
   "metadata": {},
   "outputs": [],
   "source": [
    "# 3. Find the number of projects approved for each project subject\n",
    "# category belonging to the project grade category 'grade_9_12'"
   ]
  },
  {
   "cell_type": "code",
   "execution_count": 147,
   "metadata": {},
   "outputs": [
    {
     "data": {
      "text/plain": [
       "0"
      ]
     },
     "execution_count": 147,
     "metadata": {},
     "output_type": "execute_result"
    }
   ],
   "source": [
    "df[df['project_grade_category']=='grade_9_12']['project_is_approved'].sum()"
   ]
  },
  {
   "cell_type": "code",
   "execution_count": 208,
   "metadata": {},
   "outputs": [
    {
     "name": "stdout",
     "output_type": "stream",
     "text": [
      "number of projects approved for each project subject category belonging to the project grade category 'grade_9_12' : \n",
      "project_subject_categories\n",
      "appliedlearning                        494\n",
      "appliedlearning_health_sports           43\n",
      "appliedlearning_history_civics          72\n",
      "appliedlearning_literacy_language      219\n",
      "appliedlearning_math_science           171\n",
      "appliedlearning_music_arts             175\n",
      "appliedlearning_specialneeds           124\n",
      "appliedlearning_warmth_care_hunger       1\n",
      "health_sports                         1137\n",
      "health_sports_appliedlearning            7\n",
      "health_sports_history_civics             9\n",
      "health_sports_literacy_language         12\n",
      "health_sports_math_science              10\n",
      "health_sports_music_arts                22\n",
      "health_sports_specialneeds              67\n",
      "health_sports_warmth_care_hunger         2\n",
      "history_civics                         531\n",
      "history_civics_appliedlearning          11\n",
      "history_civics_health_sports             6\n",
      "history_civics_literacy_language       104\n",
      "history_civics_math_science             20\n",
      "history_civics_music_arts               60\n",
      "history_civics_specialneeds             65\n",
      "literacy_language                     2030\n",
      "literacy_language_appliedlearning       26\n",
      "literacy_language_health_sports          9\n",
      "literacy_language_history_civics        61\n",
      "literacy_language_math_science          85\n",
      "literacy_language_music_arts           189\n",
      "literacy_language_specialneeds         256\n",
      "math_science                          2408\n",
      "math_science_appliedlearning           174\n",
      "math_science_health_sports              62\n",
      "math_science_history_civics             39\n",
      "math_science_literacy_language          76\n",
      "math_science_music_arts                176\n",
      "math_science_specialneeds              208\n",
      "math_science_warmth_care_hunger          2\n",
      "music_arts                            1125\n",
      "music_arts_appliedlearning               1\n",
      "music_arts_health_sports                 6\n",
      "music_arts_history_civics                1\n",
      "music_arts_specialneeds                 19\n",
      "specialneeds                           390\n",
      "specialneeds_health_sports              18\n",
      "specialneeds_music_arts                 49\n",
      "specialneeds_warmth_care_hunger          5\n",
      "warmth_care_hunger                     183\n",
      "Name: project_is_approved, dtype: int64\n"
     ]
    }
   ],
   "source": [
    "x = df[df.project_grade_category == 'grades_9_12'].groupby('project_subject_categories')['project_is_approved'].count()\n",
    "print(\"number of projects approved for each project subject category belonging to the project grade category 'grade_9_12' : \")\n",
    "print(x)"
   ]
  },
  {
   "cell_type": "markdown",
   "metadata": {},
   "source": [
    "# q4"
   ]
  },
  {
   "cell_type": "code",
   "execution_count": 148,
   "metadata": {},
   "outputs": [],
   "source": [
    "# 4.Replace teacher_prefix with the average number of approved\n",
    "# projects for each teacher prefix"
   ]
  },
  {
   "cell_type": "code",
   "execution_count": 172,
   "metadata": {},
   "outputs": [
    {
     "data": {
      "text/html": [
       "<div>\n",
       "<style scoped>\n",
       "    .dataframe tbody tr th:only-of-type {\n",
       "        vertical-align: middle;\n",
       "    }\n",
       "\n",
       "    .dataframe tbody tr th {\n",
       "        vertical-align: top;\n",
       "    }\n",
       "\n",
       "    .dataframe thead th {\n",
       "        text-align: right;\n",
       "    }\n",
       "</style>\n",
       "<table border=\"1\" class=\"dataframe\">\n",
       "  <thead>\n",
       "    <tr style=\"text-align: right;\">\n",
       "      <th></th>\n",
       "      <th>A</th>\n",
       "      <th>B</th>\n",
       "    </tr>\n",
       "  </thead>\n",
       "  <tbody>\n",
       "    <tr>\n",
       "      <th>0</th>\n",
       "      <td>group1</td>\n",
       "      <td>true</td>\n",
       "    </tr>\n",
       "    <tr>\n",
       "      <th>1</th>\n",
       "      <td>group1</td>\n",
       "      <td>true</td>\n",
       "    </tr>\n",
       "    <tr>\n",
       "      <th>2</th>\n",
       "      <td>group2</td>\n",
       "      <td>true</td>\n",
       "    </tr>\n",
       "  </tbody>\n",
       "</table>\n",
       "</div>"
      ],
      "text/plain": [
       "        A     B\n",
       "0  group1  true\n",
       "1  group1  true\n",
       "2  group2  true"
      ]
     },
     "execution_count": 172,
     "metadata": {},
     "output_type": "execute_result"
    }
   ],
   "source": [
    "df.head(3)"
   ]
  },
  {
   "cell_type": "code",
   "execution_count": 206,
   "metadata": {},
   "outputs": [
    {
     "data": {
      "text/html": [
       "<div>\n",
       "<style scoped>\n",
       "    .dataframe tbody tr th:only-of-type {\n",
       "        vertical-align: middle;\n",
       "    }\n",
       "\n",
       "    .dataframe tbody tr th {\n",
       "        vertical-align: top;\n",
       "    }\n",
       "\n",
       "    .dataframe thead th {\n",
       "        text-align: right;\n",
       "    }\n",
       "</style>\n",
       "<table border=\"1\" class=\"dataframe\">\n",
       "  <thead>\n",
       "    <tr style=\"text-align: right;\">\n",
       "      <th></th>\n",
       "      <th>Unnamed: 0</th>\n",
       "      <th>Unnamed: 0.1</th>\n",
       "      <th>school_state</th>\n",
       "      <th>teacher_prefix</th>\n",
       "      <th>project_grade_category</th>\n",
       "      <th>teacher_number_of_previously_posted_projects</th>\n",
       "      <th>project_subject_categories</th>\n",
       "      <th>project_subject_subcategories</th>\n",
       "      <th>price</th>\n",
       "      <th>quantity</th>\n",
       "    </tr>\n",
       "    <tr>\n",
       "      <th>project_is_approved</th>\n",
       "      <th></th>\n",
       "      <th></th>\n",
       "      <th></th>\n",
       "      <th></th>\n",
       "      <th></th>\n",
       "      <th></th>\n",
       "      <th></th>\n",
       "      <th></th>\n",
       "      <th></th>\n",
       "      <th></th>\n",
       "    </tr>\n",
       "  </thead>\n",
       "  <tbody>\n",
       "    <tr>\n",
       "      <th>0</th>\n",
       "      <td>16540</td>\n",
       "      <td>16540</td>\n",
       "      <td>16540</td>\n",
       "      <td>16540</td>\n",
       "      <td>16540</td>\n",
       "      <td>16540</td>\n",
       "      <td>16540</td>\n",
       "      <td>16540</td>\n",
       "      <td>16540</td>\n",
       "      <td>16540</td>\n",
       "    </tr>\n",
       "    <tr>\n",
       "      <th>1</th>\n",
       "      <td>92686</td>\n",
       "      <td>92686</td>\n",
       "      <td>92686</td>\n",
       "      <td>92686</td>\n",
       "      <td>92686</td>\n",
       "      <td>92686</td>\n",
       "      <td>92686</td>\n",
       "      <td>92686</td>\n",
       "      <td>92686</td>\n",
       "      <td>92686</td>\n",
       "    </tr>\n",
       "  </tbody>\n",
       "</table>\n",
       "</div>"
      ],
      "text/plain": [
       "                     Unnamed: 0  Unnamed: 0.1  school_state  teacher_prefix  \\\n",
       "project_is_approved                                                           \n",
       "0                         16540         16540         16540           16540   \n",
       "1                         92686         92686         92686           92686   \n",
       "\n",
       "                     project_grade_category  \\\n",
       "project_is_approved                           \n",
       "0                                     16540   \n",
       "1                                     92686   \n",
       "\n",
       "                     teacher_number_of_previously_posted_projects  \\\n",
       "project_is_approved                                                 \n",
       "0                                                           16540   \n",
       "1                                                           92686   \n",
       "\n",
       "                     project_subject_categories  \\\n",
       "project_is_approved                               \n",
       "0                                         16540   \n",
       "1                                         92686   \n",
       "\n",
       "                     project_subject_subcategories  price  quantity  \n",
       "project_is_approved                                                  \n",
       "0                                            16540  16540     16540  \n",
       "1                                            92686  92686     92686  "
      ]
     },
     "execution_count": 206,
     "metadata": {},
     "output_type": "execute_result"
    }
   ],
   "source": [
    "df.groupby('project_is_approved').count()"
   ]
  },
  {
   "cell_type": "code",
   "execution_count": 205,
   "metadata": {},
   "outputs": [
    {
     "data": {
      "text/plain": [
       "teacher_prefix\n",
       "0.692308    0.692308\n",
       "0.795339    0.795339\n",
       "0.841522    0.841522\n",
       "0.843519    0.843519\n",
       "0.855546    0.855546\n",
       "Name: project_is_approved, dtype: float64"
      ]
     },
     "execution_count": 205,
     "metadata": {},
     "output_type": "execute_result"
    }
   ],
   "source": [
    "df.groupby('teacher_prefix').mean()['project_is_approved']"
   ]
  },
  {
   "cell_type": "markdown",
   "metadata": {},
   "source": [
    "# q5"
   ]
  },
  {
   "cell_type": "code",
   "execution_count": 151,
   "metadata": {},
   "outputs": [],
   "source": [
    "# 5.Find the desired output as shown in the image below."
   ]
  },
  {
   "cell_type": "code",
   "execution_count": 152,
   "metadata": {},
   "outputs": [],
   "source": [
    "df1 = df[['school_state','project_is_approved']]"
   ]
  },
  {
   "cell_type": "code",
   "execution_count": 153,
   "metadata": {},
   "outputs": [
    {
     "data": {
      "text/html": [
       "<div>\n",
       "<style scoped>\n",
       "    .dataframe tbody tr th:only-of-type {\n",
       "        vertical-align: middle;\n",
       "    }\n",
       "\n",
       "    .dataframe tbody tr th {\n",
       "        vertical-align: top;\n",
       "    }\n",
       "\n",
       "    .dataframe thead th {\n",
       "        text-align: right;\n",
       "    }\n",
       "</style>\n",
       "<table border=\"1\" class=\"dataframe\">\n",
       "  <thead>\n",
       "    <tr style=\"text-align: right;\">\n",
       "      <th></th>\n",
       "      <th>school_state</th>\n",
       "      <th>project_is_approved</th>\n",
       "    </tr>\n",
       "  </thead>\n",
       "  <tbody>\n",
       "    <tr>\n",
       "      <th>0</th>\n",
       "      <td>in</td>\n",
       "      <td>0</td>\n",
       "    </tr>\n",
       "    <tr>\n",
       "      <th>1</th>\n",
       "      <td>fl</td>\n",
       "      <td>1</td>\n",
       "    </tr>\n",
       "    <tr>\n",
       "      <th>2</th>\n",
       "      <td>az</td>\n",
       "      <td>0</td>\n",
       "    </tr>\n",
       "    <tr>\n",
       "      <th>3</th>\n",
       "      <td>ky</td>\n",
       "      <td>1</td>\n",
       "    </tr>\n",
       "    <tr>\n",
       "      <th>4</th>\n",
       "      <td>tx</td>\n",
       "      <td>1</td>\n",
       "    </tr>\n",
       "  </tbody>\n",
       "</table>\n",
       "</div>"
      ],
      "text/plain": [
       "  school_state  project_is_approved\n",
       "0           in                    0\n",
       "1           fl                    1\n",
       "2           az                    0\n",
       "3           ky                    1\n",
       "4           tx                    1"
      ]
     },
     "execution_count": 153,
     "metadata": {},
     "output_type": "execute_result"
    }
   ],
   "source": [
    "df1.head(5)"
   ]
  },
  {
   "cell_type": "code",
   "execution_count": 154,
   "metadata": {},
   "outputs": [
    {
     "data": {
      "text/html": [
       "<div>\n",
       "<style scoped>\n",
       "    .dataframe tbody tr th:only-of-type {\n",
       "        vertical-align: middle;\n",
       "    }\n",
       "\n",
       "    .dataframe tbody tr th {\n",
       "        vertical-align: top;\n",
       "    }\n",
       "\n",
       "    .dataframe thead th {\n",
       "        text-align: right;\n",
       "    }\n",
       "</style>\n",
       "<table border=\"1\" class=\"dataframe\">\n",
       "  <thead>\n",
       "    <tr style=\"text-align: right;\">\n",
       "      <th></th>\n",
       "      <th>school_state</th>\n",
       "      <th>project_is_approved</th>\n",
       "    </tr>\n",
       "  </thead>\n",
       "  <tbody>\n",
       "    <tr>\n",
       "      <th>0</th>\n",
       "      <td>in</td>\n",
       "      <td>0</td>\n",
       "    </tr>\n",
       "    <tr>\n",
       "      <th>30</th>\n",
       "      <td>in</td>\n",
       "      <td>1</td>\n",
       "    </tr>\n",
       "    <tr>\n",
       "      <th>155</th>\n",
       "      <td>in</td>\n",
       "      <td>1</td>\n",
       "    </tr>\n",
       "    <tr>\n",
       "      <th>171</th>\n",
       "      <td>in</td>\n",
       "      <td>1</td>\n",
       "    </tr>\n",
       "    <tr>\n",
       "      <th>189</th>\n",
       "      <td>in</td>\n",
       "      <td>1</td>\n",
       "    </tr>\n",
       "    <tr>\n",
       "      <th>...</th>\n",
       "      <td>...</td>\n",
       "      <td>...</td>\n",
       "    </tr>\n",
       "    <tr>\n",
       "      <th>109101</th>\n",
       "      <td>in</td>\n",
       "      <td>1</td>\n",
       "    </tr>\n",
       "    <tr>\n",
       "      <th>109111</th>\n",
       "      <td>in</td>\n",
       "      <td>1</td>\n",
       "    </tr>\n",
       "    <tr>\n",
       "      <th>109121</th>\n",
       "      <td>in</td>\n",
       "      <td>1</td>\n",
       "    </tr>\n",
       "    <tr>\n",
       "      <th>109140</th>\n",
       "      <td>in</td>\n",
       "      <td>1</td>\n",
       "    </tr>\n",
       "    <tr>\n",
       "      <th>109215</th>\n",
       "      <td>in</td>\n",
       "      <td>1</td>\n",
       "    </tr>\n",
       "  </tbody>\n",
       "</table>\n",
       "<p>2620 rows × 2 columns</p>\n",
       "</div>"
      ],
      "text/plain": [
       "       school_state  project_is_approved\n",
       "0                in                    0\n",
       "30               in                    1\n",
       "155              in                    1\n",
       "171              in                    1\n",
       "189              in                    1\n",
       "...             ...                  ...\n",
       "109101           in                    1\n",
       "109111           in                    1\n",
       "109121           in                    1\n",
       "109140           in                    1\n",
       "109215           in                    1\n",
       "\n",
       "[2620 rows x 2 columns]"
      ]
     },
     "execution_count": 154,
     "metadata": {},
     "output_type": "execute_result"
    }
   ],
   "source": [
    "df1[df1['school_state']=='in']"
   ]
  },
  {
   "cell_type": "code",
   "execution_count": 155,
   "metadata": {},
   "outputs": [
    {
     "data": {
      "text/html": [
       "<div>\n",
       "<style scoped>\n",
       "    .dataframe tbody tr th:only-of-type {\n",
       "        vertical-align: middle;\n",
       "    }\n",
       "\n",
       "    .dataframe tbody tr th {\n",
       "        vertical-align: top;\n",
       "    }\n",
       "\n",
       "    .dataframe thead th {\n",
       "        text-align: right;\n",
       "    }\n",
       "</style>\n",
       "<table border=\"1\" class=\"dataframe\">\n",
       "  <thead>\n",
       "    <tr style=\"text-align: right;\">\n",
       "      <th></th>\n",
       "      <th>school_state</th>\n",
       "    </tr>\n",
       "    <tr>\n",
       "      <th>project_is_approved</th>\n",
       "      <th></th>\n",
       "    </tr>\n",
       "  </thead>\n",
       "  <tbody>\n",
       "    <tr>\n",
       "      <th>0</th>\n",
       "      <td>406</td>\n",
       "    </tr>\n",
       "    <tr>\n",
       "      <th>1</th>\n",
       "      <td>2214</td>\n",
       "    </tr>\n",
       "  </tbody>\n",
       "</table>\n",
       "</div>"
      ],
      "text/plain": [
       "                     school_state\n",
       "project_is_approved              \n",
       "0                             406\n",
       "1                            2214"
      ]
     },
     "execution_count": 155,
     "metadata": {},
     "output_type": "execute_result"
    }
   ],
   "source": [
    "df1[df1['school_state']=='in'].groupby('project_is_approved').count()"
   ]
  },
  {
   "cell_type": "code",
   "execution_count": 167,
   "metadata": {},
   "outputs": [
    {
     "name": "stdout",
     "output_type": "stream",
     "text": [
      "  state  class\n",
      "0     A      0\n",
      "1     B      1\n",
      "2     C      1\n",
      "3     A      0\n",
      "4     A      1\n",
      "5     B      1\n",
      "6     A      0\n",
      "7     A      1\n",
      "8     C      1\n",
      "9     C      0\n"
     ]
    },
    {
     "data": {
      "text/html": [
       "<div>\n",
       "<style scoped>\n",
       "    .dataframe tbody tr th:only-of-type {\n",
       "        vertical-align: middle;\n",
       "    }\n",
       "\n",
       "    .dataframe tbody tr th {\n",
       "        vertical-align: top;\n",
       "    }\n",
       "\n",
       "    .dataframe thead th {\n",
       "        text-align: right;\n",
       "    }\n",
       "</style>\n",
       "<table border=\"1\" class=\"dataframe\">\n",
       "  <thead>\n",
       "    <tr style=\"text-align: right;\">\n",
       "      <th></th>\n",
       "      <th>state_0</th>\n",
       "      <th>state_1</th>\n",
       "    </tr>\n",
       "  </thead>\n",
       "  <tbody>\n",
       "    <tr>\n",
       "      <th>0</th>\n",
       "      <td>0.600000</td>\n",
       "      <td>0.400000</td>\n",
       "    </tr>\n",
       "    <tr>\n",
       "      <th>1</th>\n",
       "      <td>0.000000</td>\n",
       "      <td>1.000000</td>\n",
       "    </tr>\n",
       "    <tr>\n",
       "      <th>2</th>\n",
       "      <td>0.333333</td>\n",
       "      <td>0.666667</td>\n",
       "    </tr>\n",
       "    <tr>\n",
       "      <th>3</th>\n",
       "      <td>0.600000</td>\n",
       "      <td>0.400000</td>\n",
       "    </tr>\n",
       "    <tr>\n",
       "      <th>4</th>\n",
       "      <td>0.600000</td>\n",
       "      <td>0.400000</td>\n",
       "    </tr>\n",
       "    <tr>\n",
       "      <th>5</th>\n",
       "      <td>0.000000</td>\n",
       "      <td>1.000000</td>\n",
       "    </tr>\n",
       "    <tr>\n",
       "      <th>6</th>\n",
       "      <td>0.600000</td>\n",
       "      <td>0.400000</td>\n",
       "    </tr>\n",
       "    <tr>\n",
       "      <th>7</th>\n",
       "      <td>0.600000</td>\n",
       "      <td>0.400000</td>\n",
       "    </tr>\n",
       "    <tr>\n",
       "      <th>8</th>\n",
       "      <td>0.333333</td>\n",
       "      <td>0.666667</td>\n",
       "    </tr>\n",
       "    <tr>\n",
       "      <th>9</th>\n",
       "      <td>0.333333</td>\n",
       "      <td>0.666667</td>\n",
       "    </tr>\n",
       "  </tbody>\n",
       "</table>\n",
       "</div>"
      ],
      "text/plain": [
       "    state_0   state_1\n",
       "0  0.600000  0.400000\n",
       "1  0.000000  1.000000\n",
       "2  0.333333  0.666667\n",
       "3  0.600000  0.400000\n",
       "4  0.600000  0.400000\n",
       "5  0.000000  1.000000\n",
       "6  0.600000  0.400000\n",
       "7  0.600000  0.400000\n",
       "8  0.333333  0.666667\n",
       "9  0.333333  0.666667"
      ]
     },
     "execution_count": 167,
     "metadata": {},
     "output_type": "execute_result"
    }
   ],
   "source": [
    "train_data = pd.DataFrame({\"state\":[\"A\", \"B\", \"C\", \"A\", \"A\", \"B\", \"A\", \"A\", \"C\", \"C\"], \"class\":[0, 1, 1, 0, 1, 1, 0, 1, 1, 0]})\n",
    "train_data\n",
    "\n",
    "print(train_data)\n",
    "train_data.state = train_data[\"state\"].map({\"A\":3, \"B\":0, \"C\":1})\n",
    "n = 2\n",
    "encoded_train_data = pd.DataFrame()\n",
    "encoded_train_data[\"state_0\"] = train_data.state.div(train_data.state + 2)\n",
    "encoded_train_data[\"state_1\"] = 2 / (train_data.state + 2)\n",
    "encoded_train_data"
   ]
  },
  {
   "cell_type": "code",
   "execution_count": 168,
   "metadata": {},
   "outputs": [
    {
     "name": "stdout",
     "output_type": "stream",
     "text": [
      "  State  class   State_0   State_1\n",
      "0     A      0  0.600000  0.400000\n",
      "1     A      0  0.600000  0.400000\n",
      "2     A      1  0.600000  0.400000\n",
      "3     A      0  0.600000  0.400000\n",
      "4     A      1  0.600000  0.400000\n",
      "5     B      1  0.000000  1.000000\n",
      "6     B      1  0.000000  1.000000\n",
      "7     C      1  0.333333  0.666667\n",
      "8     C      1  0.333333  0.666667\n",
      "9     C      0  0.333333  0.666667\n"
     ]
    }
   ],
   "source": [
    "Train = pd.DataFrame({'State':['A','B', 'C', 'A', 'A', 'B', 'A', 'A','C','C'],'class':[0,1,1,0,1,1,0,1,1,0]}) #Make Dataframe\n",
    "gbtr = Train.groupby('class') #Group by class\n",
    "g0 = gbtr.get_group(0) #Seperate the two groups\n",
    "g1 = gbtr.get_group(1)\n",
    "count0 = g0['State'].value_counts() #value count for both groups \n",
    "count1 = g1['State'].value_counts()\n",
    "final0 = count0.divide(count1.add(count0, fill_value=0),fill_value=0) #Finol value series to merge\n",
    "final1 = count1.divide(count1.add(count0, fill_value=0),fill_value=0)\n",
    "dff0 = pd.DataFrame({'State':list(final0.index),'State_0':list(final0)}) #Convert to suitable dataframes\n",
    "dff1 = pd.DataFrame({'State':list(final1.index),'State_1':list(final1)})\n",
    "print(Train.merge(dff0,left_on='State',right_on='State').merge(dff1,left_on='State',right_on='State')) #merge Statement"
   ]
  },
  {
   "cell_type": "code",
   "execution_count": null,
   "metadata": {},
   "outputs": [],
   "source": []
  }
 ],
 "metadata": {
  "kernelspec": {
   "display_name": "Python 3",
   "language": "python",
   "name": "python3"
  },
  "language_info": {
   "codemirror_mode": {
    "name": "ipython",
    "version": 3
   },
   "file_extension": ".py",
   "mimetype": "text/x-python",
   "name": "python",
   "nbconvert_exporter": "python",
   "pygments_lexer": "ipython3",
   "version": "3.7.6"
  }
 },
 "nbformat": 4,
 "nbformat_minor": 4
}
