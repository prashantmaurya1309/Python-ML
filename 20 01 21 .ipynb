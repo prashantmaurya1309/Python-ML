{
 "cells": [
  {
   "cell_type": "code",
   "execution_count": 3,
   "metadata": {},
   "outputs": [
    {
     "name": "stdout",
     "output_type": "stream",
     "text": [
      "enter the  number:4\n",
      "enter what optration to be done:cube\n",
      "cube of 4 is 64\n"
     ]
    }
   ],
   "source": [
    "#find the square and cube of a number'\n",
    "n = int(input('enter the  number:'))\n",
    "op = input('enter what optration to be done:')\n",
    "if op.lower()=='cube':\n",
    "    print(f'cube of {n} is {n**3}')\n",
    "elif op.lower() == 'sq':\n",
    "    print(f'square of {n} is {n**2}')\n",
    "else:\n",
    "    print(\"DIDN'T UNDERSTAND THE CMD\")"
   ]
  },
  {
   "cell_type": "raw",
   "metadata": {},
   "source": [
    "WAP TO MATCH WHETHER YOUR GUESED VALUES ARE SAME AS THAT OF SCORED VALUES AND ALSO FIND THE GRADES OF SCORED VALUES"
   ]
  },
  {
   "cell_type": "code",
   "execution_count": 6,
   "metadata": {},
   "outputs": [
    {
     "name": "stdout",
     "output_type": "stream",
     "text": [
      "enter your guess for 1 to 6:4\n",
      "incorrect GUESED \n",
      " correct value was 1\n"
     ]
    }
   ],
   "source": [
    "import random\n",
    "l = [1,2,3,4,5,6]\n",
    "value = random.choice(l)\n",
    "GUESED = input('enter your guess for 1 to 6:')\n",
    "if GUESED == value:\n",
    "    print('YAY!! u GUESED it right')\n",
    "else:\n",
    "    print(f'incorrect GUESED \\n correct value was {value}')"
   ]
  },
  {
   "cell_type": "code",
   "execution_count": 14,
   "metadata": {},
   "outputs": [
    {
     "name": "stdout",
     "output_type": "stream",
     "text": [
      "enter radius and height of cylinder:2 4\n",
      "volume of cylinder: 50.24\n",
      "11806.4 703.36\n"
     ]
    }
   ],
   "source": [
    "# WAP TO  CALCULATE THE COST OF FILLING A CYLINDER (USER WILL GIVE THE DIMENSION)  @ 235/Cu.m and \n",
    "# also the time to fill if it\n",
    "# takes 14minutes to fill 1 cu. m\n",
    "\n",
    "\n",
    "r,h = map(int,input('enter radius and height of cylinder:').split(' '))\n",
    "v= (3.14*(r**2)*h)\n",
    "print('volume of cylinder:',v)\n",
    "\n",
    "cost = 235*v\n",
    "time = 14*v\n",
    "print(cost,time)"
   ]
  },
  {
   "cell_type": "code",
   "execution_count": null,
   "metadata": {},
   "outputs": [],
   "source": [
    "\n",
    "# WAP TO PREPARE A SHOPPING LIST, ATLEAST 10 INPUTS AND TO DISPLAY THE ITEM WHICH HAS MAX PRIORITY\n",
    "\n"
   ]
  }
 ],
 "metadata": {
  "kernelspec": {
   "display_name": "Python 3",
   "language": "python",
   "name": "python3"
  },
  "language_info": {
   "codemirror_mode": {
    "name": "ipython",
    "version": 3
   },
   "file_extension": ".py",
   "mimetype": "text/x-python",
   "name": "python",
   "nbconvert_exporter": "python",
   "pygments_lexer": "ipython3",
   "version": "3.7.6"
  }
 },
 "nbformat": 4,
 "nbformat_minor": 4
}
