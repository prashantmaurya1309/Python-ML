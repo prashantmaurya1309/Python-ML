{
 "cells": [
  {
   "cell_type": "code",
   "execution_count": 6,
   "metadata": {},
   "outputs": [],
   "source": [
    "import pandas as pd \n",
    "import numpy as np\n",
    "import seaborn as sns\n",
    "import matplotlib.pyplot as plt\n",
    "from sklearn.feature_selection import VarianceThreshold\n",
    "import warnings\n",
    "warnings.filterwarnings('ignore')\n",
    "from sklearn.linear_model import LinearRegression\n",
    "from sklearn.svm import SVR\n",
    "from sklearn.tree import DecisionTreeRegressor\n",
    "from sklearn.ensemble import RandomForestRegressor\n",
    "from sklearn.model_selection import train_test_split\n",
    "from sklearn.datasets import load_boston\n",
    "from sklearn.metrics import mean_squared_error\n",
    "from sklearn.metrics import r2_score"
   ]
  },
  {
   "cell_type": "code",
   "execution_count": 7,
   "metadata": {},
   "outputs": [],
   "source": [
    "df = pd.read_csv(\"1828259.csv\")#this my dataset "
   ]
  },
  {
   "cell_type": "code",
   "execution_count": 8,
   "metadata": {},
   "outputs": [
    {
     "data": {
      "text/html": [
       "<div>\n",
       "<style scoped>\n",
       "    .dataframe tbody tr th:only-of-type {\n",
       "        vertical-align: middle;\n",
       "    }\n",
       "\n",
       "    .dataframe tbody tr th {\n",
       "        vertical-align: top;\n",
       "    }\n",
       "\n",
       "    .dataframe thead th {\n",
       "        text-align: right;\n",
       "    }\n",
       "</style>\n",
       "<table border=\"1\" class=\"dataframe\">\n",
       "  <thead>\n",
       "    <tr style=\"text-align: right;\">\n",
       "      <th></th>\n",
       "      <th>business_code</th>\n",
       "      <th>cust_number</th>\n",
       "      <th>name_customer</th>\n",
       "      <th>clear_date</th>\n",
       "      <th>buisness_year</th>\n",
       "      <th>doc_id</th>\n",
       "      <th>posting_date</th>\n",
       "      <th>document_create_date</th>\n",
       "      <th>document_create_date.1</th>\n",
       "      <th>due_in_date</th>\n",
       "      <th>invoice_currency</th>\n",
       "      <th>document type</th>\n",
       "      <th>posting_id</th>\n",
       "      <th>area_business</th>\n",
       "      <th>total_open_amount</th>\n",
       "      <th>baseline_create_date</th>\n",
       "      <th>cust_payment_terms</th>\n",
       "      <th>invoice_id</th>\n",
       "      <th>isOpen</th>\n",
       "    </tr>\n",
       "  </thead>\n",
       "  <tbody>\n",
       "    <tr>\n",
       "      <th>0</th>\n",
       "      <td>U001</td>\n",
       "      <td>0200718130</td>\n",
       "      <td>SYSCO F trust</td>\n",
       "      <td>2019-04-02 00:00:00</td>\n",
       "      <td>2019.0</td>\n",
       "      <td>1.928992e+09</td>\n",
       "      <td>2019-03-19</td>\n",
       "      <td>20190319</td>\n",
       "      <td>20190319</td>\n",
       "      <td>20190403.0</td>\n",
       "      <td>USD</td>\n",
       "      <td>RV</td>\n",
       "      <td>1.0</td>\n",
       "      <td>NaN</td>\n",
       "      <td>12568.57</td>\n",
       "      <td>20190319.0</td>\n",
       "      <td>NAA8</td>\n",
       "      <td>1.928992e+09</td>\n",
       "      <td>0</td>\n",
       "    </tr>\n",
       "    <tr>\n",
       "      <th>1</th>\n",
       "      <td>U001</td>\n",
       "      <td>0200756072</td>\n",
       "      <td>REINHA trust</td>\n",
       "      <td>2019-10-15 00:00:00</td>\n",
       "      <td>2019.0</td>\n",
       "      <td>1.929891e+09</td>\n",
       "      <td>2019-09-19</td>\n",
       "      <td>20190918</td>\n",
       "      <td>20190919</td>\n",
       "      <td>20191004.0</td>\n",
       "      <td>USD</td>\n",
       "      <td>RV</td>\n",
       "      <td>1.0</td>\n",
       "      <td>NaN</td>\n",
       "      <td>18529.02</td>\n",
       "      <td>20190919.0</td>\n",
       "      <td>NAA8</td>\n",
       "      <td>1.929891e+09</td>\n",
       "      <td>0</td>\n",
       "    </tr>\n",
       "    <tr>\n",
       "      <th>2</th>\n",
       "      <td>U002</td>\n",
       "      <td>0200501669</td>\n",
       "      <td>WAL MA</td>\n",
       "      <td>2020-02-21 00:00:00</td>\n",
       "      <td>2020.0</td>\n",
       "      <td>1.990569e+09</td>\n",
       "      <td>2020-01-11</td>\n",
       "      <td>20200109</td>\n",
       "      <td>20200111</td>\n",
       "      <td>20200215.0</td>\n",
       "      <td>USD</td>\n",
       "      <td>RV</td>\n",
       "      <td>1.0</td>\n",
       "      <td>NaN</td>\n",
       "      <td>8807.20</td>\n",
       "      <td>20200111.0</td>\n",
       "      <td>NAG2</td>\n",
       "      <td>1.990569e+09</td>\n",
       "      <td>0</td>\n",
       "    </tr>\n",
       "    <tr>\n",
       "      <th>3</th>\n",
       "      <td>U001</td>\n",
       "      <td>0200790107</td>\n",
       "      <td>ROU corporation</td>\n",
       "      <td>2019-10-30 00:00:00</td>\n",
       "      <td>2019.0</td>\n",
       "      <td>1.930010e+09</td>\n",
       "      <td>2019-10-15</td>\n",
       "      <td>20191014</td>\n",
       "      <td>20191015</td>\n",
       "      <td>20191030.0</td>\n",
       "      <td>USD</td>\n",
       "      <td>RV</td>\n",
       "      <td>1.0</td>\n",
       "      <td>NaN</td>\n",
       "      <td>38797.25</td>\n",
       "      <td>20191015.0</td>\n",
       "      <td>NAC6</td>\n",
       "      <td>1.930010e+09</td>\n",
       "      <td>0</td>\n",
       "    </tr>\n",
       "    <tr>\n",
       "      <th>4</th>\n",
       "      <td>U001</td>\n",
       "      <td>0200704858</td>\n",
       "      <td>WAKE foundation</td>\n",
       "      <td>2019-06-10 00:00:00</td>\n",
       "      <td>2019.0</td>\n",
       "      <td>1.929359e+09</td>\n",
       "      <td>2019-05-24</td>\n",
       "      <td>20190522</td>\n",
       "      <td>20190524</td>\n",
       "      <td>20190608.0</td>\n",
       "      <td>USD</td>\n",
       "      <td>RV</td>\n",
       "      <td>1.0</td>\n",
       "      <td>NaN</td>\n",
       "      <td>22399.43</td>\n",
       "      <td>20190524.0</td>\n",
       "      <td>NAA8</td>\n",
       "      <td>1.929359e+09</td>\n",
       "      <td>0</td>\n",
       "    </tr>\n",
       "  </tbody>\n",
       "</table>\n",
       "</div>"
      ],
      "text/plain": [
       "  business_code cust_number    name_customer           clear_date  \\\n",
       "0          U001  0200718130    SYSCO F trust  2019-04-02 00:00:00   \n",
       "1          U001  0200756072     REINHA trust  2019-10-15 00:00:00   \n",
       "2          U002  0200501669          WAL MA   2020-02-21 00:00:00   \n",
       "3          U001  0200790107  ROU corporation  2019-10-30 00:00:00   \n",
       "4          U001  0200704858  WAKE foundation  2019-06-10 00:00:00   \n",
       "\n",
       "   buisness_year        doc_id posting_date  document_create_date  \\\n",
       "0         2019.0  1.928992e+09   2019-03-19              20190319   \n",
       "1         2019.0  1.929891e+09   2019-09-19              20190918   \n",
       "2         2020.0  1.990569e+09   2020-01-11              20200109   \n",
       "3         2019.0  1.930010e+09   2019-10-15              20191014   \n",
       "4         2019.0  1.929359e+09   2019-05-24              20190522   \n",
       "\n",
       "   document_create_date.1  due_in_date invoice_currency document type  \\\n",
       "0                20190319   20190403.0              USD            RV   \n",
       "1                20190919   20191004.0              USD            RV   \n",
       "2                20200111   20200215.0              USD            RV   \n",
       "3                20191015   20191030.0              USD            RV   \n",
       "4                20190524   20190608.0              USD            RV   \n",
       "\n",
       "   posting_id  area_business  total_open_amount  baseline_create_date  \\\n",
       "0         1.0            NaN           12568.57            20190319.0   \n",
       "1         1.0            NaN           18529.02            20190919.0   \n",
       "2         1.0            NaN            8807.20            20200111.0   \n",
       "3         1.0            NaN           38797.25            20191015.0   \n",
       "4         1.0            NaN           22399.43            20190524.0   \n",
       "\n",
       "  cust_payment_terms    invoice_id  isOpen  \n",
       "0               NAA8  1.928992e+09       0  \n",
       "1               NAA8  1.929891e+09       0  \n",
       "2               NAG2  1.990569e+09       0  \n",
       "3               NAC6  1.930010e+09       0  \n",
       "4               NAA8  1.929359e+09       0  "
      ]
     },
     "execution_count": 8,
     "metadata": {},
     "output_type": "execute_result"
    }
   ],
   "source": [
    "df.head()"
   ]
  },
  {
   "cell_type": "code",
   "execution_count": 9,
   "metadata": {},
   "outputs": [
    {
     "data": {
      "text/plain": [
       "(50000, 19)"
      ]
     },
     "execution_count": 9,
     "metadata": {},
     "output_type": "execute_result"
    }
   ],
   "source": [
    "df.shape"
   ]
  },
  {
   "cell_type": "code",
   "execution_count": 10,
   "metadata": {},
   "outputs": [
    {
     "name": "stdout",
     "output_type": "stream",
     "text": [
      "<class 'pandas.core.frame.DataFrame'>\n",
      "RangeIndex: 50000 entries, 0 to 49999\n",
      "Data columns (total 19 columns):\n",
      " #   Column                  Non-Null Count  Dtype  \n",
      "---  ------                  --------------  -----  \n",
      " 0   business_code           50000 non-null  object \n",
      " 1   cust_number             50000 non-null  object \n",
      " 2   name_customer           50000 non-null  object \n",
      " 3   clear_date              46506 non-null  object \n",
      " 4   buisness_year           50000 non-null  float64\n",
      " 5   doc_id                  50000 non-null  float64\n",
      " 6   posting_date            50000 non-null  object \n",
      " 7   document_create_date    50000 non-null  int64  \n",
      " 8   document_create_date.1  50000 non-null  int64  \n",
      " 9   due_in_date             50000 non-null  float64\n",
      " 10  invoice_currency        50000 non-null  object \n",
      " 11  document type           50000 non-null  object \n",
      " 12  posting_id              50000 non-null  float64\n",
      " 13  area_business           0 non-null      float64\n",
      " 14  total_open_amount       50000 non-null  float64\n",
      " 15  baseline_create_date    50000 non-null  float64\n",
      " 16  cust_payment_terms      50000 non-null  object \n",
      " 17  invoice_id              49995 non-null  float64\n",
      " 18  isOpen                  50000 non-null  int64  \n",
      "dtypes: float64(8), int64(3), object(8)\n",
      "memory usage: 7.2+ MB\n"
     ]
    }
   ],
   "source": [
    "df.info()"
   ]
  },
  {
   "cell_type": "markdown",
   "metadata": {},
   "source": [
    "# Step 2 - Seprating dataframe having null value and no null value in clear date and removing useless fetures "
   ]
  },
  {
   "cell_type": "code",
   "execution_count": 11,
   "metadata": {},
   "outputs": [],
   "source": [
    "#clearing data based on clear_date as not null and we will perform oprations on this one only.\n",
    "traina = df[~df['clear_date'].isnull()]"
   ]
  },
  {
   "cell_type": "code",
   "execution_count": 12,
   "metadata": {},
   "outputs": [
    {
     "data": {
      "text/plain": [
       "(46506, 19)"
      ]
     },
     "execution_count": 12,
     "metadata": {},
     "output_type": "execute_result"
    }
   ],
   "source": [
    "#calculating the shape of the dataframe which has value of clear_date as notnull an we will perform the operations on this.\n",
    "traina.shape"
   ]
  },
  {
   "cell_type": "code",
   "execution_count": 13,
   "metadata": {},
   "outputs": [],
   "source": [
    "#this particular data_set contains the vallue if clear_date is null.\n",
    "testb = df[df['clear_date'].isnull()]"
   ]
  },
  {
   "cell_type": "code",
   "execution_count": 14,
   "metadata": {},
   "outputs": [
    {
     "data": {
      "text/plain": [
       "business_code                 6\n",
       "cust_number                1439\n",
       "name_customer              4219\n",
       "clear_date                  403\n",
       "buisness_year                 2\n",
       "doc_id                    46506\n",
       "posting_date                425\n",
       "document_create_date        428\n",
       "document_create_date.1      425\n",
       "due_in_date                 490\n",
       "invoice_currency              2\n",
       "document type                 2\n",
       "posting_id                    1\n",
       "area_business                 0\n",
       "total_open_amount         42102\n",
       "baseline_create_date        430\n",
       "cust_payment_terms           72\n",
       "invoice_id                46501\n",
       "isOpen                        1\n",
       "dtype: int64"
      ]
     },
     "execution_count": 14,
     "metadata": {},
     "output_type": "execute_result"
    }
   ],
   "source": [
    "#counting unique value in data frame a\n",
    "traina.nunique()#here 0 tell us that it has only no unique value it woill of no use we shall remove it"
   ]
  },
  {
   "cell_type": "code",
   "execution_count": 15,
   "metadata": {},
   "outputs": [],
   "source": [
    "#drop the entire coloum of area_business as it was null and of no use.\n",
    "traina.drop(['area_business'],axis=1,inplace=True)\n",
    "testb.drop(['area_business'],axis=1,inplace=True)"
   ]
  },
  {
   "cell_type": "code",
   "execution_count": 16,
   "metadata": {},
   "outputs": [
    {
     "data": {
      "text/plain": [
       "<bound method DataFrame.count of Empty DataFrame\n",
       "Columns: [business_code, cust_number, name_customer, clear_date, buisness_year, doc_id, posting_date, document_create_date, document_create_date.1, due_in_date, invoice_currency, document type, posting_id, total_open_amount, baseline_create_date, cust_payment_terms, invoice_id, isOpen]\n",
       "Index: []>"
      ]
     },
     "execution_count": 16,
     "metadata": {},
     "output_type": "execute_result"
    }
   ],
   "source": [
    "#counting the total number of values less  then 0 in total_open_amount\n",
    "traina[traina[\"total_open_amount\"] < 0 ].count"
   ]
  },
  {
   "cell_type": "code",
   "execution_count": 17,
   "metadata": {},
   "outputs": [
    {
     "data": {
      "text/plain": [
       "(5, 18)"
      ]
     },
     "execution_count": 17,
     "metadata": {},
     "output_type": "execute_result"
    }
   ],
   "source": [
    "#counting number of null value in invoice_id\n",
    "traina[traina[\"invoice_id\"].isnull()].shape"
   ]
  },
  {
   "cell_type": "code",
   "execution_count": 18,
   "metadata": {},
   "outputs": [
    {
     "data": {
      "text/plain": [
       "46501"
      ]
     },
     "execution_count": 18,
     "metadata": {},
     "output_type": "execute_result"
    }
   ],
   "source": [
    "#checking how many rows in doc_id and invoice_id are similar\n",
    "d=traina[\"doc_id\"]==traina[\"invoice_id\"]\n",
    "d.sum()"
   ]
  },
  {
   "cell_type": "code",
   "execution_count": 19,
   "metadata": {},
   "outputs": [],
   "source": [
    "#so from above we can remove invoice id as it is same as of doc id\n",
    "traina=traina.drop([\"invoice_id\"],axis=1)\n",
    "testb=testb.drop([\"invoice_id\"],axis=1)"
   ]
  },
  {
   "cell_type": "code",
   "execution_count": 20,
   "metadata": {},
   "outputs": [
    {
     "data": {
      "text/plain": [
       "business_code             0\n",
       "cust_number               0\n",
       "name_customer             0\n",
       "clear_date                0\n",
       "buisness_year             0\n",
       "doc_id                    0\n",
       "posting_date              0\n",
       "document_create_date      0\n",
       "document_create_date.1    0\n",
       "due_in_date               0\n",
       "invoice_currency          0\n",
       "document type             0\n",
       "posting_id                0\n",
       "total_open_amount         0\n",
       "baseline_create_date      0\n",
       "cust_payment_terms        0\n",
       "isOpen                    0\n",
       "dtype: int64"
      ]
     },
     "execution_count": 20,
     "metadata": {},
     "output_type": "execute_result"
    }
   ],
   "source": [
    "k = traina.isnull().sum()\n",
    "k # now we dont have any null values we can move forward "
   ]
  },
  {
   "cell_type": "code",
   "execution_count": 21,
   "metadata": {},
   "outputs": [],
   "source": [
    "traina = traina.drop(columns=['document type'],axis=1)\n",
    "testb = testb.drop(columns=['document type'],axis=1)"
   ]
  },
  {
   "cell_type": "markdown",
   "metadata": {},
   "source": [
    "# Step 3 Coverting categorical date variables into datetime format"
   ]
  },
  {
   "cell_type": "code",
   "execution_count": 22,
   "metadata": {},
   "outputs": [],
   "source": [
    "#converting the due_in_date  to proper date time format in format of YYmmdd.\n",
    "traina['due_in_date'] = pd.to_datetime(traina['due_in_date'], format='%Y%m%d')\n",
    "#converting the due_in_date  to proper date time format in format of YYmmdd.\n",
    "testb['due_in_date'] = pd.to_datetime(testb['due_in_date'], format='%Y%m%d')"
   ]
  },
  {
   "cell_type": "code",
   "execution_count": 23,
   "metadata": {},
   "outputs": [],
   "source": [
    "#converting the document_create_date.1 to proper yymmdd format.\n",
    "\n",
    "traina['document_create_date.1'] = pd.to_datetime(traina['document_create_date.1'], format='%Y%m%d')\n",
    "#converting the document_create_date.1 to proper yymmdd format.\n",
    "\n",
    "testb['document_create_date.1'] = pd.to_datetime(testb['document_create_date.1'], format='%Y%m%d')"
   ]
  },
  {
   "cell_type": "code",
   "execution_count": 24,
   "metadata": {},
   "outputs": [],
   "source": [
    "#conerting the clear_date data type from object to string and then to date time format\n",
    "traina[\"clear_date\"].astype(str)\n",
    "traina[\"clear_date\"]= pd.to_datetime(traina[\"clear_date\"])\n",
    "#conerting the clear_date data type from object to string and then to date time format\n",
    "testb[\"clear_date\"].astype(str)\n",
    "testb[\"clear_date\"]= pd.to_datetime(testb[\"clear_date\"])"
   ]
  },
  {
   "cell_type": "code",
   "execution_count": 25,
   "metadata": {},
   "outputs": [],
   "source": [
    "#converting the posting date type to string from object and then converting it in date time format\n",
    "traina[\"posting_date\"].astype(str)\n",
    "traina[\"posting_date\"]= pd.to_datetime(traina[\"posting_date\"])\n",
    "testb[\"posting_date\"].astype(str)\n",
    "testb[\"posting_date\"]= pd.to_datetime(testb[\"posting_date\"])"
   ]
  },
  {
   "cell_type": "code",
   "execution_count": 26,
   "metadata": {},
   "outputs": [],
   "source": [
    "traina['baseline_create_date'] = pd.to_datetime(traina['baseline_create_date'].astype(int), format='%Y%m%d')\n",
    "testb['baseline_create_date'] = pd.to_datetime(testb['baseline_create_date'].astype(int), format='%Y%m%d')"
   ]
  },
  {
   "cell_type": "code",
   "execution_count": 27,
   "metadata": {},
   "outputs": [
    {
     "data": {
      "text/plain": [
       "business_code                     object\n",
       "cust_number                       object\n",
       "name_customer                     object\n",
       "clear_date                datetime64[ns]\n",
       "buisness_year                    float64\n",
       "doc_id                           float64\n",
       "posting_date              datetime64[ns]\n",
       "document_create_date               int64\n",
       "document_create_date.1    datetime64[ns]\n",
       "due_in_date               datetime64[ns]\n",
       "invoice_currency                  object\n",
       "posting_id                       float64\n",
       "total_open_amount                float64\n",
       "baseline_create_date      datetime64[ns]\n",
       "cust_payment_terms                object\n",
       "isOpen                             int64\n",
       "dtype: object"
      ]
     },
     "execution_count": 27,
     "metadata": {},
     "output_type": "execute_result"
    }
   ],
   "source": [
    "traina.dtypes"
   ]
  },
  {
   "cell_type": "code",
   "execution_count": 28,
   "metadata": {},
   "outputs": [],
   "source": [
    "traina['buisness_year'] = traina['buisness_year'].astype('Int64')"
   ]
  },
  {
   "cell_type": "code",
   "execution_count": 29,
   "metadata": {},
   "outputs": [
    {
     "data": {
      "text/plain": [
       "business_code                     object\n",
       "cust_number                       object\n",
       "name_customer                     object\n",
       "clear_date                datetime64[ns]\n",
       "buisness_year                    float64\n",
       "doc_id                           float64\n",
       "posting_date              datetime64[ns]\n",
       "document_create_date               int64\n",
       "document_create_date.1    datetime64[ns]\n",
       "due_in_date               datetime64[ns]\n",
       "invoice_currency                  object\n",
       "posting_id                       float64\n",
       "total_open_amount                float64\n",
       "baseline_create_date      datetime64[ns]\n",
       "cust_payment_terms                object\n",
       "isOpen                             int64\n",
       "dtype: object"
      ]
     },
     "execution_count": 29,
     "metadata": {},
     "output_type": "execute_result"
    }
   ],
   "source": [
    "testb.dtypes"
   ]
  },
  {
   "cell_type": "markdown",
   "metadata": {},
   "source": [
    "# Step 4 Sanity Check/ Anamoly."
   ]
  },
  {
   "cell_type": "code",
   "execution_count": 30,
   "metadata": {},
   "outputs": [],
   "source": [
    "traina=traina.drop(['buisness_year'],axis=1)\n",
    "testb=testb.drop(['buisness_year'],axis=1)\n",
    "##Removing business_year as it is of no use"
   ]
  },
  {
   "cell_type": "code",
   "execution_count": 31,
   "metadata": {},
   "outputs": [],
   "source": [
    "traina=traina.drop(['document_create_date'],axis=1)\n",
    "testb=testb.drop(['document_create_date'],axis=1)\n",
    "##Removing document_create_date as it is of no use we have normalised version "
   ]
  },
  {
   "cell_type": "code",
   "execution_count": 32,
   "metadata": {},
   "outputs": [
    {
     "name": "stdout",
     "output_type": "stream",
     "text": [
      "['posting_id', 'isOpen']\n"
     ]
    }
   ],
   "source": [
    "constantcols =  [x for x in traina.columns if traina[x].nunique()==1] #here wea re searching for columns which are constant\n",
    "print(constantcols)"
   ]
  },
  {
   "cell_type": "code",
   "execution_count": 33,
   "metadata": {},
   "outputs": [],
   "source": [
    "traina=traina.drop(['posting_id'],axis=1)\n",
    "testb=testb.drop(['posting_id'],axis=1)\n",
    "traina=traina.drop(['isOpen'],axis=1)\n",
    "testb=testb.drop(['isOpen'],axis=1)"
   ]
  },
  {
   "cell_type": "code",
   "execution_count": 34,
   "metadata": {},
   "outputs": [],
   "source": [
    "traina.drop(columns=['doc_id'],axis=1,inplace=True)\n",
    "testb.drop(columns=['doc_id'],axis=1,inplace=True)"
   ]
  },
  {
   "cell_type": "code",
   "execution_count": 35,
   "metadata": {},
   "outputs": [
    {
     "data": {
      "text/plain": [
       "135"
      ]
     },
     "execution_count": 35,
     "metadata": {},
     "output_type": "execute_result"
    }
   ],
   "source": [
    "check1 = (df['document_create_date.1'] > df['due_in_date']).sum()\n",
    "check1"
   ]
  },
  {
   "cell_type": "code",
   "execution_count": 36,
   "metadata": {},
   "outputs": [
    {
     "data": {
      "text/plain": [
       "(46388, 11)"
      ]
     },
     "execution_count": 36,
     "metadata": {},
     "output_type": "execute_result"
    }
   ],
   "source": [
    "traina.drop(traina[traina['document_create_date.1'] > traina['due_in_date']].index, inplace=True)\n",
    "traina.shape #shape after removing anomly "
   ]
  },
  {
   "cell_type": "code",
   "execution_count": 37,
   "metadata": {},
   "outputs": [
    {
     "data": {
      "text/plain": [
       "0"
      ]
     },
     "execution_count": 37,
     "metadata": {},
     "output_type": "execute_result"
    }
   ],
   "source": [
    "check2 = (traina['document_create_date.1'] > traina['clear_date']).sum()\n",
    "check2"
   ]
  },
  {
   "cell_type": "code",
   "execution_count": 38,
   "metadata": {},
   "outputs": [
    {
     "data": {
      "text/plain": [
       "1987"
      ]
     },
     "execution_count": 38,
     "metadata": {},
     "output_type": "execute_result"
    }
   ],
   "source": [
    "check4 = (traina['baseline_create_date'] < traina['document_create_date.1']).sum()\n",
    "check4"
   ]
  },
  {
   "cell_type": "code",
   "execution_count": 39,
   "metadata": {},
   "outputs": [
    {
     "data": {
      "text/plain": [
       "(44401, 11)"
      ]
     },
     "execution_count": 39,
     "metadata": {},
     "output_type": "execute_result"
    }
   ],
   "source": [
    "#Dropping the anomaly 4\n",
    "traina.drop(traina[traina['baseline_create_date'] < traina['document_create_date.1']].index, inplace=True)\n",
    "traina.shape"
   ]
  },
  {
   "cell_type": "code",
   "execution_count": 40,
   "metadata": {},
   "outputs": [
    {
     "data": {
      "text/plain": [
       "count    44401.000000\n",
       "mean         1.158375\n",
       "std         10.960377\n",
       "min        -88.000000\n",
       "25%         -2.000000\n",
       "50%          0.000000\n",
       "75%          2.000000\n",
       "max        287.000000\n",
       "Name: Delay, dtype: float64"
      ]
     },
     "execution_count": 40,
     "metadata": {},
     "output_type": "execute_result"
    }
   ],
   "source": [
    "traina['Delay'] = (traina['clear_date']-traina['due_in_date']).dt.days\n",
    "traina[\"Delay\"].describe()"
   ]
  },
  {
   "cell_type": "code",
   "execution_count": 41,
   "metadata": {},
   "outputs": [],
   "source": [
    "traina = traina.drop(columns=['posting_date','baseline_create_date'],axis=1)\n",
    "testb = testb.drop(columns=['posting_date','baseline_create_date'],axis=1)"
   ]
  },
  {
   "cell_type": "markdown",
   "metadata": {},
   "source": [
    "# Step 5 Sorting and spliting the data"
   ]
  },
  {
   "cell_type": "code",
   "execution_count": 42,
   "metadata": {},
   "outputs": [],
   "source": [
    "#sorting the data based on document_create_date.1\n",
    "traina = traina.sort_values(by = 'document_create_date.1', ascending = True) "
   ]
  },
  {
   "cell_type": "code",
   "execution_count": 43,
   "metadata": {},
   "outputs": [
    {
     "data": {
      "text/html": [
       "<div>\n",
       "<style scoped>\n",
       "    .dataframe tbody tr th:only-of-type {\n",
       "        vertical-align: middle;\n",
       "    }\n",
       "\n",
       "    .dataframe tbody tr th {\n",
       "        vertical-align: top;\n",
       "    }\n",
       "\n",
       "    .dataframe thead th {\n",
       "        text-align: right;\n",
       "    }\n",
       "</style>\n",
       "<table border=\"1\" class=\"dataframe\">\n",
       "  <thead>\n",
       "    <tr style=\"text-align: right;\">\n",
       "      <th></th>\n",
       "      <th>business_code</th>\n",
       "      <th>cust_number</th>\n",
       "      <th>name_customer</th>\n",
       "      <th>clear_date</th>\n",
       "      <th>document_create_date.1</th>\n",
       "      <th>due_in_date</th>\n",
       "      <th>invoice_currency</th>\n",
       "      <th>total_open_amount</th>\n",
       "      <th>cust_payment_terms</th>\n",
       "      <th>Delay</th>\n",
       "    </tr>\n",
       "  </thead>\n",
       "  <tbody>\n",
       "    <tr>\n",
       "      <th>35791</th>\n",
       "      <td>U001</td>\n",
       "      <td>0200769623</td>\n",
       "      <td>WAL-MAR associates</td>\n",
       "      <td>2019-01-09</td>\n",
       "      <td>2018-12-30</td>\n",
       "      <td>2019-01-14</td>\n",
       "      <td>USD</td>\n",
       "      <td>11025.27</td>\n",
       "      <td>NAH4</td>\n",
       "      <td>-5</td>\n",
       "    </tr>\n",
       "    <tr>\n",
       "      <th>18481</th>\n",
       "      <td>U001</td>\n",
       "      <td>0200704858</td>\n",
       "      <td>WAKE co</td>\n",
       "      <td>2019-01-09</td>\n",
       "      <td>2018-12-30</td>\n",
       "      <td>2019-01-14</td>\n",
       "      <td>USD</td>\n",
       "      <td>114737.60</td>\n",
       "      <td>NAA8</td>\n",
       "      <td>-5</td>\n",
       "    </tr>\n",
       "    <tr>\n",
       "      <th>42361</th>\n",
       "      <td>U001</td>\n",
       "      <td>0200769623</td>\n",
       "      <td>WAL-MAR co</td>\n",
       "      <td>2019-01-09</td>\n",
       "      <td>2018-12-30</td>\n",
       "      <td>2019-01-14</td>\n",
       "      <td>USD</td>\n",
       "      <td>5506.22</td>\n",
       "      <td>NAH4</td>\n",
       "      <td>-5</td>\n",
       "    </tr>\n",
       "    <tr>\n",
       "      <th>32638</th>\n",
       "      <td>U001</td>\n",
       "      <td>0200769623</td>\n",
       "      <td>WAL-MAR co</td>\n",
       "      <td>2019-01-17</td>\n",
       "      <td>2018-12-30</td>\n",
       "      <td>2019-01-14</td>\n",
       "      <td>USD</td>\n",
       "      <td>12202.50</td>\n",
       "      <td>NAH4</td>\n",
       "      <td>3</td>\n",
       "    </tr>\n",
       "    <tr>\n",
       "      <th>7561</th>\n",
       "      <td>U001</td>\n",
       "      <td>0200769623</td>\n",
       "      <td>WAL-MAR in</td>\n",
       "      <td>2019-01-10</td>\n",
       "      <td>2018-12-30</td>\n",
       "      <td>2019-01-14</td>\n",
       "      <td>USD</td>\n",
       "      <td>16663.36</td>\n",
       "      <td>NAH4</td>\n",
       "      <td>-4</td>\n",
       "    </tr>\n",
       "  </tbody>\n",
       "</table>\n",
       "</div>"
      ],
      "text/plain": [
       "      business_code cust_number       name_customer clear_date  \\\n",
       "35791          U001  0200769623  WAL-MAR associates 2019-01-09   \n",
       "18481          U001  0200704858             WAKE co 2019-01-09   \n",
       "42361          U001  0200769623          WAL-MAR co 2019-01-09   \n",
       "32638          U001  0200769623          WAL-MAR co 2019-01-17   \n",
       "7561           U001  0200769623          WAL-MAR in 2019-01-10   \n",
       "\n",
       "      document_create_date.1 due_in_date invoice_currency  total_open_amount  \\\n",
       "35791             2018-12-30  2019-01-14              USD           11025.27   \n",
       "18481             2018-12-30  2019-01-14              USD          114737.60   \n",
       "42361             2018-12-30  2019-01-14              USD            5506.22   \n",
       "32638             2018-12-30  2019-01-14              USD           12202.50   \n",
       "7561              2018-12-30  2019-01-14              USD           16663.36   \n",
       "\n",
       "      cust_payment_terms  Delay  \n",
       "35791               NAH4     -5  \n",
       "18481               NAA8     -5  \n",
       "42361               NAH4     -5  \n",
       "32638               NAH4      3  \n",
       "7561                NAH4     -4  "
      ]
     },
     "execution_count": 43,
     "metadata": {},
     "output_type": "execute_result"
    }
   ],
   "source": [
    "traina.head()"
   ]
  },
  {
   "cell_type": "code",
   "execution_count": 44,
   "metadata": {},
   "outputs": [
    {
     "data": {
      "text/plain": [
       "(30940, 10)"
      ]
     },
     "execution_count": 44,
     "metadata": {},
     "output_type": "execute_result"
    }
   ],
   "source": [
    "x_train= traina[traina['document_create_date.1'] <='2019-10-05'].copy()##70% of 43065 = 30145.5\n",
    "x_train.shape"
   ]
  },
  {
   "cell_type": "code",
   "execution_count": 45,
   "metadata": {},
   "outputs": [],
   "source": [
    "validation1  = traina[traina['document_create_date.1'] >'2019-10-05'].copy()"
   ]
  },
  {
   "cell_type": "code",
   "execution_count": 46,
   "metadata": {},
   "outputs": [],
   "source": [
    "val1, val2 = train_test_split(validation1 ,test_size=.50,shuffle=False)#now remaing 30% into two parts 15% and 15%"
   ]
  },
  {
   "cell_type": "code",
   "execution_count": 47,
   "metadata": {},
   "outputs": [
    {
     "data": {
      "text/plain": [
       "((6730, 10), (6731, 10))"
      ]
     },
     "execution_count": 47,
     "metadata": {},
     "output_type": "execute_result"
    }
   ],
   "source": [
    "val1.shape,val2.shape"
   ]
  },
  {
   "cell_type": "markdown",
   "metadata": {},
   "source": [
    "# Step 6 - Performing EDA"
   ]
  },
  {
   "cell_type": "code",
   "execution_count": 48,
   "metadata": {},
   "outputs": [
    {
     "data": {
      "image/png": "[encoded data removed]",
      "text/plain": [
       "<Figure size 432x288 with 1 Axes>"
      ]
     },
     "metadata": {
      "needs_background": "light"
     },
     "output_type": "display_data"
    }
   ],
   "source": [
    "sns.lineplot(x_train['due_in_date'].dt.dayofweek, x_train['Delay'])\n",
    "plt.xlabel(\"Due Week Day\")\n",
    "plt.ylabel(\"Delay\")\n",
    "plt.title(\"Week Day vs Delay\")\n",
    "plt.show()"
   ]
  },
  {
   "cell_type": "code",
   "execution_count": 49,
   "metadata": {},
   "outputs": [
    {
     "data": {
      "image/png": "[encoded data removed]",
      "text/plain": [
       "<Figure size 432x288 with 1 Axes>"
      ]
     },
     "metadata": {
      "needs_background": "light"
     },
     "output_type": "display_data"
    }
   ],
   "source": [
    "sns.lineplot(x_train['due_in_date'].dt.month, x_train['Delay'])\n",
    "plt.xlabel(\"Due month\")\n",
    "plt.ylabel(\"Delay\")\n",
    "plt.title(\"month vs Delay\")\n",
    "plt.show()"
   ]
  },
  {
   "cell_type": "code",
   "execution_count": 50,
   "metadata": {},
   "outputs": [
    {
     "data": {
      "image/png": "[encoded data removed]",
      "text/plain": [
       "<Figure size 432x288 with 1 Axes>"
      ]
     },
     "metadata": {
      "needs_background": "light"
     },
     "output_type": "display_data"
    }
   ],
   "source": [
    "#plotting graph between due_in_date.month and difference(ie the delay colioumn\n",
    "sns.lineplot(x_train['due_in_date'].dt.quarter, x_train['Delay'])\n",
    "plt.xlabel(\"quarter month\")\n",
    "plt.ylabel(\"Delay\")\n",
    "plt.title(\"quarter vs Delay\")\n",
    "plt.show()"
   ]
  },
  {
   "cell_type": "code",
   "execution_count": 51,
   "metadata": {},
   "outputs": [
    {
     "data": {
      "image/png": "[encoded data removed]",
      "text/plain": [
       "<Figure size 432x288 with 1 Axes>"
      ]
     },
     "metadata": {
      "needs_background": "light"
     },
     "output_type": "display_data"
    }
   ],
   "source": [
    "#makeing graph between day of month vs dealy\n",
    "sns.lineplot(x_train['due_in_date'].dt.day, x_train['Delay'])\n",
    "plt.xlabel(\"Day\")\n",
    "plt.ylabel(\"Delay\")\n",
    "plt.title(\"Day vs Delay\")\n",
    "plt.show()"
   ]
  },
  {
   "cell_type": "code",
   "execution_count": 52,
   "metadata": {},
   "outputs": [
    {
     "data": {
      "text/plain": [
       "<matplotlib.axes._subplots.AxesSubplot at 0x16d5ff1f908>"
      ]
     },
     "execution_count": 52,
     "metadata": {},
     "output_type": "execute_result"
    },
    {
     "data": {
      "image/png": "[encoded data removed]",
      "text/plain": [
       "<Figure size 432x288 with 1 Axes>"
      ]
     },
     "metadata": {
      "needs_background": "light"
     },
     "output_type": "display_data"
    }
   ],
   "source": [
    "#looking for outliers\n",
    "sns.boxplot(x=x_train[\"Delay\"])"
   ]
  },
  {
   "cell_type": "code",
   "execution_count": 53,
   "metadata": {},
   "outputs": [
    {
     "data": {
      "text/html": [
       "<div>\n",
       "<style scoped>\n",
       "    .dataframe tbody tr th:only-of-type {\n",
       "        vertical-align: middle;\n",
       "    }\n",
       "\n",
       "    .dataframe tbody tr th {\n",
       "        vertical-align: top;\n",
       "    }\n",
       "\n",
       "    .dataframe thead th {\n",
       "        text-align: right;\n",
       "    }\n",
       "</style>\n",
       "<table border=\"1\" class=\"dataframe\">\n",
       "  <thead>\n",
       "    <tr style=\"text-align: right;\">\n",
       "      <th></th>\n",
       "      <th>total_open_amount</th>\n",
       "      <th>Delay</th>\n",
       "    </tr>\n",
       "  </thead>\n",
       "  <tbody>\n",
       "    <tr>\n",
       "      <th>total_open_amount</th>\n",
       "      <td>1.678133e+09</td>\n",
       "      <td>-8687.937061</td>\n",
       "    </tr>\n",
       "    <tr>\n",
       "      <th>Delay</th>\n",
       "      <td>-8.687937e+03</td>\n",
       "      <td>135.974380</td>\n",
       "    </tr>\n",
       "  </tbody>\n",
       "</table>\n",
       "</div>"
      ],
      "text/plain": [
       "                   total_open_amount        Delay\n",
       "total_open_amount       1.678133e+09 -8687.937061\n",
       "Delay                  -8.687937e+03   135.974380"
      ]
     },
     "execution_count": 53,
     "metadata": {},
     "output_type": "execute_result"
    }
   ],
   "source": [
    "x_train.cov()"
   ]
  },
  {
   "cell_type": "code",
   "execution_count": 54,
   "metadata": {},
   "outputs": [
    {
     "data": {
      "text/html": [
       "<div>\n",
       "<style scoped>\n",
       "    .dataframe tbody tr th:only-of-type {\n",
       "        vertical-align: middle;\n",
       "    }\n",
       "\n",
       "    .dataframe tbody tr th {\n",
       "        vertical-align: top;\n",
       "    }\n",
       "\n",
       "    .dataframe thead th {\n",
       "        text-align: right;\n",
       "    }\n",
       "</style>\n",
       "<table border=\"1\" class=\"dataframe\">\n",
       "  <thead>\n",
       "    <tr style=\"text-align: right;\">\n",
       "      <th></th>\n",
       "      <th>total_open_amount</th>\n",
       "      <th>Delay</th>\n",
       "    </tr>\n",
       "  </thead>\n",
       "  <tbody>\n",
       "    <tr>\n",
       "      <th>total_open_amount</th>\n",
       "      <td>1.000000</td>\n",
       "      <td>-0.018188</td>\n",
       "    </tr>\n",
       "    <tr>\n",
       "      <th>Delay</th>\n",
       "      <td>-0.018188</td>\n",
       "      <td>1.000000</td>\n",
       "    </tr>\n",
       "  </tbody>\n",
       "</table>\n",
       "</div>"
      ],
      "text/plain": [
       "                   total_open_amount     Delay\n",
       "total_open_amount           1.000000 -0.018188\n",
       "Delay                      -0.018188  1.000000"
      ]
     },
     "execution_count": 54,
     "metadata": {},
     "output_type": "execute_result"
    }
   ],
   "source": [
    "x_train.corr()"
   ]
  },
  {
   "cell_type": "code",
   "execution_count": 55,
   "metadata": {},
   "outputs": [
    {
     "data": {
      "text/plain": [
       "<seaborn.axisgrid.PairGrid at 0x16d5fe9d388>"
      ]
     },
     "execution_count": 55,
     "metadata": {},
     "output_type": "execute_result"
    },
    {
     "data": {
      "image/png": "[encoded data removed]",
      "text/plain": [
       "<Figure size 360x360 with 6 Axes>"
      ]
     },
     "metadata": {
      "needs_background": "light"
     },
     "output_type": "display_data"
    }
   ],
   "source": [
    "sns.pairplot(x_train)"
   ]
  },
  {
   "cell_type": "code",
   "execution_count": 56,
   "metadata": {},
   "outputs": [
    {
     "data": {
      "text/plain": [
       "<matplotlib.axes._subplots.AxesSubplot at 0x16d60461c48>"
      ]
     },
     "execution_count": 56,
     "metadata": {},
     "output_type": "execute_result"
    },
    {
     "data": {
      "image/png": "[encoded data removed]",
      "text/plain": [
       "<Figure size 432x288 with 2 Axes>"
      ]
     },
     "metadata": {
      "needs_background": "light"
     },
     "output_type": "display_data"
    }
   ],
   "source": [
    "color = plt.get_cmap('RdYlGn')   # default color\n",
    "color.set_bad('lightblue')\n",
    "corr=x_train.corr()\n",
    "sns.heatmap(corr,annot=True,cmap=color)"
   ]
  },
  {
   "cell_type": "markdown",
   "metadata": {},
   "source": [
    "# Step 7 - FE"
   ]
  },
  {
   "cell_type": "code",
   "execution_count": 57,
   "metadata": {},
   "outputs": [],
   "source": [
    "##Customer_naumber"
   ]
  },
  {
   "cell_type": "code",
   "execution_count": 58,
   "metadata": {},
   "outputs": [
    {
     "data": {
      "text/html": [
       "<div>\n",
       "<style scoped>\n",
       "    .dataframe tbody tr th:only-of-type {\n",
       "        vertical-align: middle;\n",
       "    }\n",
       "\n",
       "    .dataframe tbody tr th {\n",
       "        vertical-align: top;\n",
       "    }\n",
       "\n",
       "    .dataframe thead th {\n",
       "        text-align: right;\n",
       "    }\n",
       "</style>\n",
       "<table border=\"1\" class=\"dataframe\">\n",
       "  <thead>\n",
       "    <tr style=\"text-align: right;\">\n",
       "      <th></th>\n",
       "      <th>business_code</th>\n",
       "      <th>name_customer</th>\n",
       "      <th>clear_date</th>\n",
       "      <th>document_create_date.1</th>\n",
       "      <th>due_in_date</th>\n",
       "      <th>invoice_currency</th>\n",
       "      <th>total_open_amount</th>\n",
       "      <th>cust_payment_terms</th>\n",
       "      <th>Delay</th>\n",
       "      <th>Cust_number</th>\n",
       "    </tr>\n",
       "  </thead>\n",
       "  <tbody>\n",
       "    <tr>\n",
       "      <th>35791</th>\n",
       "      <td>U001</td>\n",
       "      <td>WAL-MAR associates</td>\n",
       "      <td>2019-01-09</td>\n",
       "      <td>2018-12-30</td>\n",
       "      <td>2019-01-14</td>\n",
       "      <td>USD</td>\n",
       "      <td>11025.27</td>\n",
       "      <td>NAH4</td>\n",
       "      <td>-5</td>\n",
       "      <td>-2.125443</td>\n",
       "    </tr>\n",
       "    <tr>\n",
       "      <th>18481</th>\n",
       "      <td>U001</td>\n",
       "      <td>WAKE co</td>\n",
       "      <td>2019-01-09</td>\n",
       "      <td>2018-12-30</td>\n",
       "      <td>2019-01-14</td>\n",
       "      <td>USD</td>\n",
       "      <td>114737.60</td>\n",
       "      <td>NAA8</td>\n",
       "      <td>-5</td>\n",
       "      <td>-1.812183</td>\n",
       "    </tr>\n",
       "    <tr>\n",
       "      <th>42361</th>\n",
       "      <td>U001</td>\n",
       "      <td>WAL-MAR co</td>\n",
       "      <td>2019-01-09</td>\n",
       "      <td>2018-12-30</td>\n",
       "      <td>2019-01-14</td>\n",
       "      <td>USD</td>\n",
       "      <td>5506.22</td>\n",
       "      <td>NAH4</td>\n",
       "      <td>-5</td>\n",
       "      <td>-2.125443</td>\n",
       "    </tr>\n",
       "    <tr>\n",
       "      <th>32638</th>\n",
       "      <td>U001</td>\n",
       "      <td>WAL-MAR co</td>\n",
       "      <td>2019-01-17</td>\n",
       "      <td>2018-12-30</td>\n",
       "      <td>2019-01-14</td>\n",
       "      <td>USD</td>\n",
       "      <td>12202.50</td>\n",
       "      <td>NAH4</td>\n",
       "      <td>3</td>\n",
       "      <td>-2.125443</td>\n",
       "    </tr>\n",
       "    <tr>\n",
       "      <th>7561</th>\n",
       "      <td>U001</td>\n",
       "      <td>WAL-MAR in</td>\n",
       "      <td>2019-01-10</td>\n",
       "      <td>2018-12-30</td>\n",
       "      <td>2019-01-14</td>\n",
       "      <td>USD</td>\n",
       "      <td>16663.36</td>\n",
       "      <td>NAH4</td>\n",
       "      <td>-4</td>\n",
       "      <td>-2.125443</td>\n",
       "    </tr>\n",
       "  </tbody>\n",
       "</table>\n",
       "</div>"
      ],
      "text/plain": [
       "      business_code       name_customer clear_date document_create_date.1  \\\n",
       "35791          U001  WAL-MAR associates 2019-01-09             2018-12-30   \n",
       "18481          U001             WAKE co 2019-01-09             2018-12-30   \n",
       "42361          U001          WAL-MAR co 2019-01-09             2018-12-30   \n",
       "32638          U001          WAL-MAR co 2019-01-17             2018-12-30   \n",
       "7561           U001          WAL-MAR in 2019-01-10             2018-12-30   \n",
       "\n",
       "      due_in_date invoice_currency  total_open_amount cust_payment_terms  \\\n",
       "35791  2019-01-14              USD           11025.27               NAH4   \n",
       "18481  2019-01-14              USD          114737.60               NAA8   \n",
       "42361  2019-01-14              USD            5506.22               NAH4   \n",
       "32638  2019-01-14              USD           12202.50               NAH4   \n",
       "7561   2019-01-14              USD           16663.36               NAH4   \n",
       "\n",
       "       Delay  Cust_number  \n",
       "35791     -5    -2.125443  \n",
       "18481     -5    -1.812183  \n",
       "42361     -5    -2.125443  \n",
       "32638      3    -2.125443  \n",
       "7561      -4    -2.125443  "
      ]
     },
     "execution_count": 58,
     "metadata": {},
     "output_type": "execute_result"
    }
   ],
   "source": [
    "map_cust=x_train.groupby(\"cust_number\")['Delay'].mean().to_dict()\n",
    "encode2 = x_train.groupby(\"cust_number\")['Delay'].mean().to_frame()\n",
    "x_train['Cust_number']=x_train['cust_number'].map(map_cust)\n",
    "x_train.drop('cust_number',axis = 1,inplace = True)\n",
    "x_train.head()"
   ]
  },
  {
   "cell_type": "code",
   "execution_count": 59,
   "metadata": {},
   "outputs": [
    {
     "data": {
      "text/html": [
       "<div>\n",
       "<style scoped>\n",
       "    .dataframe tbody tr th:only-of-type {\n",
       "        vertical-align: middle;\n",
       "    }\n",
       "\n",
       "    .dataframe tbody tr th {\n",
       "        vertical-align: top;\n",
       "    }\n",
       "\n",
       "    .dataframe thead th {\n",
       "        text-align: right;\n",
       "    }\n",
       "</style>\n",
       "<table border=\"1\" class=\"dataframe\">\n",
       "  <thead>\n",
       "    <tr style=\"text-align: right;\">\n",
       "      <th></th>\n",
       "      <th>business_code</th>\n",
       "      <th>name_customer</th>\n",
       "      <th>clear_date</th>\n",
       "      <th>document_create_date.1</th>\n",
       "      <th>due_in_date</th>\n",
       "      <th>invoice_currency</th>\n",
       "      <th>total_open_amount</th>\n",
       "      <th>cust_payment_terms</th>\n",
       "      <th>Delay</th>\n",
       "      <th>Cust_number</th>\n",
       "    </tr>\n",
       "  </thead>\n",
       "  <tbody>\n",
       "    <tr>\n",
       "      <th>17979</th>\n",
       "      <td>U001</td>\n",
       "      <td>TARG llc</td>\n",
       "      <td>2019-10-23</td>\n",
       "      <td>2019-10-06</td>\n",
       "      <td>2019-10-21</td>\n",
       "      <td>USD</td>\n",
       "      <td>429.61</td>\n",
       "      <td>NAA8</td>\n",
       "      <td>2</td>\n",
       "      <td>1.021583</td>\n",
       "    </tr>\n",
       "    <tr>\n",
       "      <th>38587</th>\n",
       "      <td>U001</td>\n",
       "      <td>WAL-MAR</td>\n",
       "      <td>2019-10-17</td>\n",
       "      <td>2019-10-06</td>\n",
       "      <td>2019-10-21</td>\n",
       "      <td>USD</td>\n",
       "      <td>31913.47</td>\n",
       "      <td>NAH4</td>\n",
       "      <td>-4</td>\n",
       "      <td>-2.492128</td>\n",
       "    </tr>\n",
       "    <tr>\n",
       "      <th>46497</th>\n",
       "      <td>U001</td>\n",
       "      <td>KRAFT</td>\n",
       "      <td>2019-11-27</td>\n",
       "      <td>2019-10-06</td>\n",
       "      <td>2019-11-10</td>\n",
       "      <td>USD</td>\n",
       "      <td>15161.25</td>\n",
       "      <td>NAG2</td>\n",
       "      <td>17</td>\n",
       "      <td>0.229885</td>\n",
       "    </tr>\n",
       "    <tr>\n",
       "      <th>18109</th>\n",
       "      <td>U001</td>\n",
       "      <td>WAL-MAR systems</td>\n",
       "      <td>2019-10-17</td>\n",
       "      <td>2019-10-06</td>\n",
       "      <td>2019-10-21</td>\n",
       "      <td>USD</td>\n",
       "      <td>13276.68</td>\n",
       "      <td>NAH4</td>\n",
       "      <td>-4</td>\n",
       "      <td>-2.492128</td>\n",
       "    </tr>\n",
       "    <tr>\n",
       "      <th>22</th>\n",
       "      <td>U001</td>\n",
       "      <td>C&amp;S WH</td>\n",
       "      <td>2019-10-22</td>\n",
       "      <td>2019-10-06</td>\n",
       "      <td>2019-10-21</td>\n",
       "      <td>USD</td>\n",
       "      <td>170541.56</td>\n",
       "      <td>NAC6</td>\n",
       "      <td>1</td>\n",
       "      <td>-0.434389</td>\n",
       "    </tr>\n",
       "  </tbody>\n",
       "</table>\n",
       "</div>"
      ],
      "text/plain": [
       "      business_code    name_customer clear_date document_create_date.1  \\\n",
       "17979          U001         TARG llc 2019-10-23             2019-10-06   \n",
       "38587          U001         WAL-MAR  2019-10-17             2019-10-06   \n",
       "46497          U001          KRAFT   2019-11-27             2019-10-06   \n",
       "18109          U001  WAL-MAR systems 2019-10-17             2019-10-06   \n",
       "22             U001          C&S WH  2019-10-22             2019-10-06   \n",
       "\n",
       "      due_in_date invoice_currency  total_open_amount cust_payment_terms  \\\n",
       "17979  2019-10-21              USD             429.61               NAA8   \n",
       "38587  2019-10-21              USD           31913.47               NAH4   \n",
       "46497  2019-11-10              USD           15161.25               NAG2   \n",
       "18109  2019-10-21              USD           13276.68               NAH4   \n",
       "22     2019-10-21              USD          170541.56               NAC6   \n",
       "\n",
       "       Delay  Cust_number  \n",
       "17979      2     1.021583  \n",
       "38587     -4    -2.492128  \n",
       "46497     17     0.229885  \n",
       "18109     -4    -2.492128  \n",
       "22         1    -0.434389  "
      ]
     },
     "execution_count": 59,
     "metadata": {},
     "output_type": "execute_result"
    }
   ],
   "source": [
    "\n",
    "map_cust=val1.groupby(\"cust_number\")['Delay'].mean().to_dict()\n",
    "val1['Cust_number']=val1['cust_number'].map(map_cust)\n",
    "val1.drop('cust_number',axis = 1,inplace = True)\n",
    "val1.head()"
   ]
  },
  {
   "cell_type": "code",
   "execution_count": 60,
   "metadata": {},
   "outputs": [
    {
     "data": {
      "text/html": [
       "<div>\n",
       "<style scoped>\n",
       "    .dataframe tbody tr th:only-of-type {\n",
       "        vertical-align: middle;\n",
       "    }\n",
       "\n",
       "    .dataframe tbody tr th {\n",
       "        vertical-align: top;\n",
       "    }\n",
       "\n",
       "    .dataframe thead th {\n",
       "        text-align: right;\n",
       "    }\n",
       "</style>\n",
       "<table border=\"1\" class=\"dataframe\">\n",
       "  <thead>\n",
       "    <tr style=\"text-align: right;\">\n",
       "      <th></th>\n",
       "      <th>business_code</th>\n",
       "      <th>name_customer</th>\n",
       "      <th>clear_date</th>\n",
       "      <th>document_create_date.1</th>\n",
       "      <th>due_in_date</th>\n",
       "      <th>invoice_currency</th>\n",
       "      <th>total_open_amount</th>\n",
       "      <th>cust_payment_terms</th>\n",
       "      <th>Delay</th>\n",
       "      <th>Cust_number</th>\n",
       "    </tr>\n",
       "  </thead>\n",
       "  <tbody>\n",
       "    <tr>\n",
       "      <th>36500</th>\n",
       "      <td>U001</td>\n",
       "      <td>TARG us</td>\n",
       "      <td>2019-12-26</td>\n",
       "      <td>2019-12-08</td>\n",
       "      <td>2019-12-23</td>\n",
       "      <td>USD</td>\n",
       "      <td>50428.62</td>\n",
       "      <td>NAA8</td>\n",
       "      <td>3</td>\n",
       "      <td>0.187500</td>\n",
       "    </tr>\n",
       "    <tr>\n",
       "      <th>1427</th>\n",
       "      <td>U001</td>\n",
       "      <td>WAL-MAR in</td>\n",
       "      <td>2019-12-18</td>\n",
       "      <td>2019-12-08</td>\n",
       "      <td>2019-12-23</td>\n",
       "      <td>USD</td>\n",
       "      <td>943.12</td>\n",
       "      <td>NAH4</td>\n",
       "      <td>-5</td>\n",
       "      <td>-2.453749</td>\n",
       "    </tr>\n",
       "    <tr>\n",
       "      <th>3673</th>\n",
       "      <td>U001</td>\n",
       "      <td>H E BUT foundation</td>\n",
       "      <td>2019-12-24</td>\n",
       "      <td>2019-12-08</td>\n",
       "      <td>2019-12-23</td>\n",
       "      <td>USD</td>\n",
       "      <td>15803.80</td>\n",
       "      <td>NAA8</td>\n",
       "      <td>1</td>\n",
       "      <td>-3.845238</td>\n",
       "    </tr>\n",
       "    <tr>\n",
       "      <th>41867</th>\n",
       "      <td>U001</td>\n",
       "      <td>WAL-MAR llc</td>\n",
       "      <td>2019-12-18</td>\n",
       "      <td>2019-12-08</td>\n",
       "      <td>2019-12-23</td>\n",
       "      <td>USD</td>\n",
       "      <td>394.68</td>\n",
       "      <td>NAH4</td>\n",
       "      <td>-5</td>\n",
       "      <td>-2.453749</td>\n",
       "    </tr>\n",
       "    <tr>\n",
       "      <th>37833</th>\n",
       "      <td>U001</td>\n",
       "      <td>WAL-MAR</td>\n",
       "      <td>2019-12-18</td>\n",
       "      <td>2019-12-08</td>\n",
       "      <td>2019-12-23</td>\n",
       "      <td>USD</td>\n",
       "      <td>35635.59</td>\n",
       "      <td>NAH4</td>\n",
       "      <td>-5</td>\n",
       "      <td>-2.453749</td>\n",
       "    </tr>\n",
       "  </tbody>\n",
       "</table>\n",
       "</div>"
      ],
      "text/plain": [
       "      business_code       name_customer clear_date document_create_date.1  \\\n",
       "36500          U001             TARG us 2019-12-26             2019-12-08   \n",
       "1427           U001          WAL-MAR in 2019-12-18             2019-12-08   \n",
       "3673           U001  H E BUT foundation 2019-12-24             2019-12-08   \n",
       "41867          U001         WAL-MAR llc 2019-12-18             2019-12-08   \n",
       "37833          U001            WAL-MAR  2019-12-18             2019-12-08   \n",
       "\n",
       "      due_in_date invoice_currency  total_open_amount cust_payment_terms  \\\n",
       "36500  2019-12-23              USD           50428.62               NAA8   \n",
       "1427   2019-12-23              USD             943.12               NAH4   \n",
       "3673   2019-12-23              USD           15803.80               NAA8   \n",
       "41867  2019-12-23              USD             394.68               NAH4   \n",
       "37833  2019-12-23              USD           35635.59               NAH4   \n",
       "\n",
       "       Delay  Cust_number  \n",
       "36500      3     0.187500  \n",
       "1427      -5    -2.453749  \n",
       "3673       1    -3.845238  \n",
       "41867     -5    -2.453749  \n",
       "37833     -5    -2.453749  "
      ]
     },
     "execution_count": 60,
     "metadata": {},
     "output_type": "execute_result"
    }
   ],
   "source": [
    "\n",
    "map_cust=val2.groupby(\"cust_number\")['Delay'].mean().to_dict()\n",
    "val2['Cust_number']=val2['cust_number'].map(map_cust)\n",
    "val2.drop('cust_number',axis = 1,inplace = True)\n",
    "val2.head()\n"
   ]
  },
  {
   "cell_type": "code",
   "execution_count": 61,
   "metadata": {},
   "outputs": [],
   "source": [
    "val1['Cust_number'] = np.where(val1['Cust_number'].isnull(),0,val1['Cust_number'] )\n",
    "val2['Cust_number'] = np.where(val2['Cust_number'].isnull(),0,val2['Cust_number'] )"
   ]
  },
  {
   "cell_type": "code",
   "execution_count": 62,
   "metadata": {},
   "outputs": [],
   "source": [
    "#bussiness code."
   ]
  },
  {
   "cell_type": "code",
   "execution_count": 63,
   "metadata": {},
   "outputs": [
    {
     "data": {
      "text/html": [
       "<div>\n",
       "<style scoped>\n",
       "    .dataframe tbody tr th:only-of-type {\n",
       "        vertical-align: middle;\n",
       "    }\n",
       "\n",
       "    .dataframe tbody tr th {\n",
       "        vertical-align: top;\n",
       "    }\n",
       "\n",
       "    .dataframe thead th {\n",
       "        text-align: right;\n",
       "    }\n",
       "</style>\n",
       "<table border=\"1\" class=\"dataframe\">\n",
       "  <thead>\n",
       "    <tr style=\"text-align: right;\">\n",
       "      <th></th>\n",
       "      <th>name_customer</th>\n",
       "      <th>clear_date</th>\n",
       "      <th>document_create_date.1</th>\n",
       "      <th>due_in_date</th>\n",
       "      <th>invoice_currency</th>\n",
       "      <th>total_open_amount</th>\n",
       "      <th>cust_payment_terms</th>\n",
       "      <th>Delay</th>\n",
       "      <th>Cust_number</th>\n",
       "      <th>Business_number</th>\n",
       "    </tr>\n",
       "  </thead>\n",
       "  <tbody>\n",
       "    <tr>\n",
       "      <th>35791</th>\n",
       "      <td>WAL-MAR associates</td>\n",
       "      <td>2019-01-09</td>\n",
       "      <td>2018-12-30</td>\n",
       "      <td>2019-01-14</td>\n",
       "      <td>USD</td>\n",
       "      <td>11025.27</td>\n",
       "      <td>NAH4</td>\n",
       "      <td>-5</td>\n",
       "      <td>-2.125443</td>\n",
       "      <td>0.822171</td>\n",
       "    </tr>\n",
       "    <tr>\n",
       "      <th>18481</th>\n",
       "      <td>WAKE co</td>\n",
       "      <td>2019-01-09</td>\n",
       "      <td>2018-12-30</td>\n",
       "      <td>2019-01-14</td>\n",
       "      <td>USD</td>\n",
       "      <td>114737.60</td>\n",
       "      <td>NAA8</td>\n",
       "      <td>-5</td>\n",
       "      <td>-1.812183</td>\n",
       "      <td>0.822171</td>\n",
       "    </tr>\n",
       "    <tr>\n",
       "      <th>42361</th>\n",
       "      <td>WAL-MAR co</td>\n",
       "      <td>2019-01-09</td>\n",
       "      <td>2018-12-30</td>\n",
       "      <td>2019-01-14</td>\n",
       "      <td>USD</td>\n",
       "      <td>5506.22</td>\n",
       "      <td>NAH4</td>\n",
       "      <td>-5</td>\n",
       "      <td>-2.125443</td>\n",
       "      <td>0.822171</td>\n",
       "    </tr>\n",
       "    <tr>\n",
       "      <th>32638</th>\n",
       "      <td>WAL-MAR co</td>\n",
       "      <td>2019-01-17</td>\n",
       "      <td>2018-12-30</td>\n",
       "      <td>2019-01-14</td>\n",
       "      <td>USD</td>\n",
       "      <td>12202.50</td>\n",
       "      <td>NAH4</td>\n",
       "      <td>3</td>\n",
       "      <td>-2.125443</td>\n",
       "      <td>0.822171</td>\n",
       "    </tr>\n",
       "    <tr>\n",
       "      <th>7561</th>\n",
       "      <td>WAL-MAR in</td>\n",
       "      <td>2019-01-10</td>\n",
       "      <td>2018-12-30</td>\n",
       "      <td>2019-01-14</td>\n",
       "      <td>USD</td>\n",
       "      <td>16663.36</td>\n",
       "      <td>NAH4</td>\n",
       "      <td>-4</td>\n",
       "      <td>-2.125443</td>\n",
       "      <td>0.822171</td>\n",
       "    </tr>\n",
       "  </tbody>\n",
       "</table>\n",
       "</div>"
      ],
      "text/plain": [
       "            name_customer clear_date document_create_date.1 due_in_date  \\\n",
       "35791  WAL-MAR associates 2019-01-09             2018-12-30  2019-01-14   \n",
       "18481             WAKE co 2019-01-09             2018-12-30  2019-01-14   \n",
       "42361          WAL-MAR co 2019-01-09             2018-12-30  2019-01-14   \n",
       "32638          WAL-MAR co 2019-01-17             2018-12-30  2019-01-14   \n",
       "7561           WAL-MAR in 2019-01-10             2018-12-30  2019-01-14   \n",
       "\n",
       "      invoice_currency  total_open_amount cust_payment_terms  Delay  \\\n",
       "35791              USD           11025.27               NAH4     -5   \n",
       "18481              USD          114737.60               NAA8     -5   \n",
       "42361              USD            5506.22               NAH4     -5   \n",
       "32638              USD           12202.50               NAH4      3   \n",
       "7561               USD           16663.36               NAH4     -4   \n",
       "\n",
       "       Cust_number  Business_number  \n",
       "35791    -2.125443         0.822171  \n",
       "18481    -1.812183         0.822171  \n",
       "42361    -2.125443         0.822171  \n",
       "32638    -2.125443         0.822171  \n",
       "7561     -2.125443         0.822171  "
      ]
     },
     "execution_count": 63,
     "metadata": {},
     "output_type": "execute_result"
    }
   ],
   "source": [
    "map_cust=x_train.groupby(\"business_code\")['Delay'].mean().to_dict()\n",
    "x_train['Business_number']=x_train['business_code'].map(map_cust)\n",
    "x_train.drop('business_code',axis = 1,inplace = True)\n",
    "x_train.head()"
   ]
  },
  {
   "cell_type": "code",
   "execution_count": 64,
   "metadata": {},
   "outputs": [
    {
     "data": {
      "text/html": [
       "<div>\n",
       "<style scoped>\n",
       "    .dataframe tbody tr th:only-of-type {\n",
       "        vertical-align: middle;\n",
       "    }\n",
       "\n",
       "    .dataframe tbody tr th {\n",
       "        vertical-align: top;\n",
       "    }\n",
       "\n",
       "    .dataframe thead th {\n",
       "        text-align: right;\n",
       "    }\n",
       "</style>\n",
       "<table border=\"1\" class=\"dataframe\">\n",
       "  <thead>\n",
       "    <tr style=\"text-align: right;\">\n",
       "      <th></th>\n",
       "      <th>name_customer</th>\n",
       "      <th>clear_date</th>\n",
       "      <th>document_create_date.1</th>\n",
       "      <th>due_in_date</th>\n",
       "      <th>invoice_currency</th>\n",
       "      <th>total_open_amount</th>\n",
       "      <th>cust_payment_terms</th>\n",
       "      <th>Delay</th>\n",
       "      <th>Cust_number</th>\n",
       "      <th>Business_number</th>\n",
       "    </tr>\n",
       "  </thead>\n",
       "  <tbody>\n",
       "    <tr>\n",
       "      <th>17979</th>\n",
       "      <td>TARG llc</td>\n",
       "      <td>2019-10-23</td>\n",
       "      <td>2019-10-06</td>\n",
       "      <td>2019-10-21</td>\n",
       "      <td>USD</td>\n",
       "      <td>429.61</td>\n",
       "      <td>NAA8</td>\n",
       "      <td>2</td>\n",
       "      <td>1.021583</td>\n",
       "      <td>0.252557</td>\n",
       "    </tr>\n",
       "    <tr>\n",
       "      <th>38587</th>\n",
       "      <td>WAL-MAR</td>\n",
       "      <td>2019-10-17</td>\n",
       "      <td>2019-10-06</td>\n",
       "      <td>2019-10-21</td>\n",
       "      <td>USD</td>\n",
       "      <td>31913.47</td>\n",
       "      <td>NAH4</td>\n",
       "      <td>-4</td>\n",
       "      <td>-2.492128</td>\n",
       "      <td>0.252557</td>\n",
       "    </tr>\n",
       "    <tr>\n",
       "      <th>46497</th>\n",
       "      <td>KRAFT</td>\n",
       "      <td>2019-11-27</td>\n",
       "      <td>2019-10-06</td>\n",
       "      <td>2019-11-10</td>\n",
       "      <td>USD</td>\n",
       "      <td>15161.25</td>\n",
       "      <td>NAG2</td>\n",
       "      <td>17</td>\n",
       "      <td>0.229885</td>\n",
       "      <td>0.252557</td>\n",
       "    </tr>\n",
       "    <tr>\n",
       "      <th>18109</th>\n",
       "      <td>WAL-MAR systems</td>\n",
       "      <td>2019-10-17</td>\n",
       "      <td>2019-10-06</td>\n",
       "      <td>2019-10-21</td>\n",
       "      <td>USD</td>\n",
       "      <td>13276.68</td>\n",
       "      <td>NAH4</td>\n",
       "      <td>-4</td>\n",
       "      <td>-2.492128</td>\n",
       "      <td>0.252557</td>\n",
       "    </tr>\n",
       "    <tr>\n",
       "      <th>22</th>\n",
       "      <td>C&amp;S WH</td>\n",
       "      <td>2019-10-22</td>\n",
       "      <td>2019-10-06</td>\n",
       "      <td>2019-10-21</td>\n",
       "      <td>USD</td>\n",
       "      <td>170541.56</td>\n",
       "      <td>NAC6</td>\n",
       "      <td>1</td>\n",
       "      <td>-0.434389</td>\n",
       "      <td>0.252557</td>\n",
       "    </tr>\n",
       "  </tbody>\n",
       "</table>\n",
       "</div>"
      ],
      "text/plain": [
       "         name_customer clear_date document_create_date.1 due_in_date  \\\n",
       "17979         TARG llc 2019-10-23             2019-10-06  2019-10-21   \n",
       "38587         WAL-MAR  2019-10-17             2019-10-06  2019-10-21   \n",
       "46497          KRAFT   2019-11-27             2019-10-06  2019-11-10   \n",
       "18109  WAL-MAR systems 2019-10-17             2019-10-06  2019-10-21   \n",
       "22             C&S WH  2019-10-22             2019-10-06  2019-10-21   \n",
       "\n",
       "      invoice_currency  total_open_amount cust_payment_terms  Delay  \\\n",
       "17979              USD             429.61               NAA8      2   \n",
       "38587              USD           31913.47               NAH4     -4   \n",
       "46497              USD           15161.25               NAG2     17   \n",
       "18109              USD           13276.68               NAH4     -4   \n",
       "22                 USD          170541.56               NAC6      1   \n",
       "\n",
       "       Cust_number  Business_number  \n",
       "17979     1.021583         0.252557  \n",
       "38587    -2.492128         0.252557  \n",
       "46497     0.229885         0.252557  \n",
       "18109    -2.492128         0.252557  \n",
       "22       -0.434389         0.252557  "
      ]
     },
     "execution_count": 64,
     "metadata": {},
     "output_type": "execute_result"
    }
   ],
   "source": [
    "map_cust=val1.groupby(\"business_code\")['Delay'].mean().to_dict()\n",
    "val1['Business_number']=val1['business_code'].map(map_cust)\n",
    "val1.drop('business_code',axis = 1,inplace = True)\n",
    "val1.head()"
   ]
  },
  {
   "cell_type": "code",
   "execution_count": 65,
   "metadata": {},
   "outputs": [
    {
     "data": {
      "text/html": [
       "<div>\n",
       "<style scoped>\n",
       "    .dataframe tbody tr th:only-of-type {\n",
       "        vertical-align: middle;\n",
       "    }\n",
       "\n",
       "    .dataframe tbody tr th {\n",
       "        vertical-align: top;\n",
       "    }\n",
       "\n",
       "    .dataframe thead th {\n",
       "        text-align: right;\n",
       "    }\n",
       "</style>\n",
       "<table border=\"1\" class=\"dataframe\">\n",
       "  <thead>\n",
       "    <tr style=\"text-align: right;\">\n",
       "      <th></th>\n",
       "      <th>name_customer</th>\n",
       "      <th>clear_date</th>\n",
       "      <th>document_create_date.1</th>\n",
       "      <th>due_in_date</th>\n",
       "      <th>invoice_currency</th>\n",
       "      <th>total_open_amount</th>\n",
       "      <th>cust_payment_terms</th>\n",
       "      <th>Delay</th>\n",
       "      <th>Cust_number</th>\n",
       "      <th>Business_number</th>\n",
       "    </tr>\n",
       "  </thead>\n",
       "  <tbody>\n",
       "    <tr>\n",
       "      <th>36500</th>\n",
       "      <td>TARG us</td>\n",
       "      <td>2019-12-26</td>\n",
       "      <td>2019-12-08</td>\n",
       "      <td>2019-12-23</td>\n",
       "      <td>USD</td>\n",
       "      <td>50428.62</td>\n",
       "      <td>NAA8</td>\n",
       "      <td>3</td>\n",
       "      <td>0.187500</td>\n",
       "      <td>0.017805</td>\n",
       "    </tr>\n",
       "    <tr>\n",
       "      <th>1427</th>\n",
       "      <td>WAL-MAR in</td>\n",
       "      <td>2019-12-18</td>\n",
       "      <td>2019-12-08</td>\n",
       "      <td>2019-12-23</td>\n",
       "      <td>USD</td>\n",
       "      <td>943.12</td>\n",
       "      <td>NAH4</td>\n",
       "      <td>-5</td>\n",
       "      <td>-2.453749</td>\n",
       "      <td>0.017805</td>\n",
       "    </tr>\n",
       "    <tr>\n",
       "      <th>3673</th>\n",
       "      <td>H E BUT foundation</td>\n",
       "      <td>2019-12-24</td>\n",
       "      <td>2019-12-08</td>\n",
       "      <td>2019-12-23</td>\n",
       "      <td>USD</td>\n",
       "      <td>15803.80</td>\n",
       "      <td>NAA8</td>\n",
       "      <td>1</td>\n",
       "      <td>-3.845238</td>\n",
       "      <td>0.017805</td>\n",
       "    </tr>\n",
       "    <tr>\n",
       "      <th>41867</th>\n",
       "      <td>WAL-MAR llc</td>\n",
       "      <td>2019-12-18</td>\n",
       "      <td>2019-12-08</td>\n",
       "      <td>2019-12-23</td>\n",
       "      <td>USD</td>\n",
       "      <td>394.68</td>\n",
       "      <td>NAH4</td>\n",
       "      <td>-5</td>\n",
       "      <td>-2.453749</td>\n",
       "      <td>0.017805</td>\n",
       "    </tr>\n",
       "    <tr>\n",
       "      <th>37833</th>\n",
       "      <td>WAL-MAR</td>\n",
       "      <td>2019-12-18</td>\n",
       "      <td>2019-12-08</td>\n",
       "      <td>2019-12-23</td>\n",
       "      <td>USD</td>\n",
       "      <td>35635.59</td>\n",
       "      <td>NAH4</td>\n",
       "      <td>-5</td>\n",
       "      <td>-2.453749</td>\n",
       "      <td>0.017805</td>\n",
       "    </tr>\n",
       "  </tbody>\n",
       "</table>\n",
       "</div>"
      ],
      "text/plain": [
       "            name_customer clear_date document_create_date.1 due_in_date  \\\n",
       "36500             TARG us 2019-12-26             2019-12-08  2019-12-23   \n",
       "1427           WAL-MAR in 2019-12-18             2019-12-08  2019-12-23   \n",
       "3673   H E BUT foundation 2019-12-24             2019-12-08  2019-12-23   \n",
       "41867         WAL-MAR llc 2019-12-18             2019-12-08  2019-12-23   \n",
       "37833            WAL-MAR  2019-12-18             2019-12-08  2019-12-23   \n",
       "\n",
       "      invoice_currency  total_open_amount cust_payment_terms  Delay  \\\n",
       "36500              USD           50428.62               NAA8      3   \n",
       "1427               USD             943.12               NAH4     -5   \n",
       "3673               USD           15803.80               NAA8      1   \n",
       "41867              USD             394.68               NAH4     -5   \n",
       "37833              USD           35635.59               NAH4     -5   \n",
       "\n",
       "       Cust_number  Business_number  \n",
       "36500     0.187500         0.017805  \n",
       "1427     -2.453749         0.017805  \n",
       "3673     -3.845238         0.017805  \n",
       "41867    -2.453749         0.017805  \n",
       "37833    -2.453749         0.017805  "
      ]
     },
     "execution_count": 65,
     "metadata": {},
     "output_type": "execute_result"
    }
   ],
   "source": [
    "map_cust=val2.groupby(\"business_code\")['Delay'].mean().to_dict()\n",
    "val2['Business_number']=val2['business_code'].map(map_cust)\n",
    "val2.drop('business_code',axis = 1,inplace = True)\n",
    "val2.head()"
   ]
  },
  {
   "cell_type": "code",
   "execution_count": 66,
   "metadata": {},
   "outputs": [
    {
     "data": {
      "text/html": [
       "<div>\n",
       "<style scoped>\n",
       "    .dataframe tbody tr th:only-of-type {\n",
       "        vertical-align: middle;\n",
       "    }\n",
       "\n",
       "    .dataframe tbody tr th {\n",
       "        vertical-align: top;\n",
       "    }\n",
       "\n",
       "    .dataframe thead th {\n",
       "        text-align: right;\n",
       "    }\n",
       "</style>\n",
       "<table border=\"1\" class=\"dataframe\">\n",
       "  <thead>\n",
       "    <tr style=\"text-align: right;\">\n",
       "      <th></th>\n",
       "      <th>name_customer</th>\n",
       "      <th>clear_date</th>\n",
       "      <th>document_create_date.1</th>\n",
       "      <th>due_in_date</th>\n",
       "      <th>invoice_currency</th>\n",
       "      <th>total_open_amount</th>\n",
       "      <th>Delay</th>\n",
       "      <th>Cust_number</th>\n",
       "      <th>Business_number</th>\n",
       "      <th>Cust_payment_terms</th>\n",
       "    </tr>\n",
       "  </thead>\n",
       "  <tbody>\n",
       "    <tr>\n",
       "      <th>35791</th>\n",
       "      <td>WAL-MAR associates</td>\n",
       "      <td>2019-01-09</td>\n",
       "      <td>2018-12-30</td>\n",
       "      <td>2019-01-14</td>\n",
       "      <td>USD</td>\n",
       "      <td>11025.27</td>\n",
       "      <td>-5</td>\n",
       "      <td>-2.125443</td>\n",
       "      <td>0.822171</td>\n",
       "      <td>-1.775266</td>\n",
       "    </tr>\n",
       "    <tr>\n",
       "      <th>18481</th>\n",
       "      <td>WAKE co</td>\n",
       "      <td>2019-01-09</td>\n",
       "      <td>2018-12-30</td>\n",
       "      <td>2019-01-14</td>\n",
       "      <td>USD</td>\n",
       "      <td>114737.60</td>\n",
       "      <td>-5</td>\n",
       "      <td>-1.812183</td>\n",
       "      <td>0.822171</td>\n",
       "      <td>1.354415</td>\n",
       "    </tr>\n",
       "    <tr>\n",
       "      <th>42361</th>\n",
       "      <td>WAL-MAR co</td>\n",
       "      <td>2019-01-09</td>\n",
       "      <td>2018-12-30</td>\n",
       "      <td>2019-01-14</td>\n",
       "      <td>USD</td>\n",
       "      <td>5506.22</td>\n",
       "      <td>-5</td>\n",
       "      <td>-2.125443</td>\n",
       "      <td>0.822171</td>\n",
       "      <td>-1.775266</td>\n",
       "    </tr>\n",
       "    <tr>\n",
       "      <th>32638</th>\n",
       "      <td>WAL-MAR co</td>\n",
       "      <td>2019-01-17</td>\n",
       "      <td>2018-12-30</td>\n",
       "      <td>2019-01-14</td>\n",
       "      <td>USD</td>\n",
       "      <td>12202.50</td>\n",
       "      <td>3</td>\n",
       "      <td>-2.125443</td>\n",
       "      <td>0.822171</td>\n",
       "      <td>-1.775266</td>\n",
       "    </tr>\n",
       "    <tr>\n",
       "      <th>7561</th>\n",
       "      <td>WAL-MAR in</td>\n",
       "      <td>2019-01-10</td>\n",
       "      <td>2018-12-30</td>\n",
       "      <td>2019-01-14</td>\n",
       "      <td>USD</td>\n",
       "      <td>16663.36</td>\n",
       "      <td>-4</td>\n",
       "      <td>-2.125443</td>\n",
       "      <td>0.822171</td>\n",
       "      <td>-1.775266</td>\n",
       "    </tr>\n",
       "  </tbody>\n",
       "</table>\n",
       "</div>"
      ],
      "text/plain": [
       "            name_customer clear_date document_create_date.1 due_in_date  \\\n",
       "35791  WAL-MAR associates 2019-01-09             2018-12-30  2019-01-14   \n",
       "18481             WAKE co 2019-01-09             2018-12-30  2019-01-14   \n",
       "42361          WAL-MAR co 2019-01-09             2018-12-30  2019-01-14   \n",
       "32638          WAL-MAR co 2019-01-17             2018-12-30  2019-01-14   \n",
       "7561           WAL-MAR in 2019-01-10             2018-12-30  2019-01-14   \n",
       "\n",
       "      invoice_currency  total_open_amount  Delay  Cust_number  \\\n",
       "35791              USD           11025.27     -5    -2.125443   \n",
       "18481              USD          114737.60     -5    -1.812183   \n",
       "42361              USD            5506.22     -5    -2.125443   \n",
       "32638              USD           12202.50      3    -2.125443   \n",
       "7561               USD           16663.36     -4    -2.125443   \n",
       "\n",
       "       Business_number  Cust_payment_terms  \n",
       "35791         0.822171           -1.775266  \n",
       "18481         0.822171            1.354415  \n",
       "42361         0.822171           -1.775266  \n",
       "32638         0.822171           -1.775266  \n",
       "7561          0.822171           -1.775266  "
      ]
     },
     "execution_count": 66,
     "metadata": {},
     "output_type": "execute_result"
    }
   ],
   "source": [
    "map_cust=x_train.groupby(\"cust_payment_terms\")['Delay'].mean().to_dict()\n",
    "encode3 = x_train.groupby(\"cust_payment_terms\")['Delay'].mean().to_frame()\n",
    "x_train['Cust_payment_terms']=x_train['cust_payment_terms'].map(map_cust)\n",
    "x_train.drop('cust_payment_terms',axis = 1,inplace = True)\n",
    "x_train.head()"
   ]
  },
  {
   "cell_type": "code",
   "execution_count": 67,
   "metadata": {},
   "outputs": [
    {
     "data": {
      "text/html": [
       "<div>\n",
       "<style scoped>\n",
       "    .dataframe tbody tr th:only-of-type {\n",
       "        vertical-align: middle;\n",
       "    }\n",
       "\n",
       "    .dataframe tbody tr th {\n",
       "        vertical-align: top;\n",
       "    }\n",
       "\n",
       "    .dataframe thead th {\n",
       "        text-align: right;\n",
       "    }\n",
       "</style>\n",
       "<table border=\"1\" class=\"dataframe\">\n",
       "  <thead>\n",
       "    <tr style=\"text-align: right;\">\n",
       "      <th></th>\n",
       "      <th>name_customer</th>\n",
       "      <th>clear_date</th>\n",
       "      <th>document_create_date.1</th>\n",
       "      <th>due_in_date</th>\n",
       "      <th>invoice_currency</th>\n",
       "      <th>total_open_amount</th>\n",
       "      <th>Delay</th>\n",
       "      <th>Cust_number</th>\n",
       "      <th>Business_number</th>\n",
       "      <th>Cust_payment_terms</th>\n",
       "    </tr>\n",
       "  </thead>\n",
       "  <tbody>\n",
       "    <tr>\n",
       "      <th>17979</th>\n",
       "      <td>TARG llc</td>\n",
       "      <td>2019-10-23</td>\n",
       "      <td>2019-10-06</td>\n",
       "      <td>2019-10-21</td>\n",
       "      <td>USD</td>\n",
       "      <td>429.61</td>\n",
       "      <td>2</td>\n",
       "      <td>1.021583</td>\n",
       "      <td>0.252557</td>\n",
       "      <td>1.158333</td>\n",
       "    </tr>\n",
       "    <tr>\n",
       "      <th>38587</th>\n",
       "      <td>WAL-MAR</td>\n",
       "      <td>2019-10-17</td>\n",
       "      <td>2019-10-06</td>\n",
       "      <td>2019-10-21</td>\n",
       "      <td>USD</td>\n",
       "      <td>31913.47</td>\n",
       "      <td>-4</td>\n",
       "      <td>-2.492128</td>\n",
       "      <td>0.252557</td>\n",
       "      <td>-2.106181</td>\n",
       "    </tr>\n",
       "    <tr>\n",
       "      <th>46497</th>\n",
       "      <td>KRAFT</td>\n",
       "      <td>2019-11-27</td>\n",
       "      <td>2019-10-06</td>\n",
       "      <td>2019-11-10</td>\n",
       "      <td>USD</td>\n",
       "      <td>15161.25</td>\n",
       "      <td>17</td>\n",
       "      <td>0.229885</td>\n",
       "      <td>0.252557</td>\n",
       "      <td>1.007463</td>\n",
       "    </tr>\n",
       "    <tr>\n",
       "      <th>18109</th>\n",
       "      <td>WAL-MAR systems</td>\n",
       "      <td>2019-10-17</td>\n",
       "      <td>2019-10-06</td>\n",
       "      <td>2019-10-21</td>\n",
       "      <td>USD</td>\n",
       "      <td>13276.68</td>\n",
       "      <td>-4</td>\n",
       "      <td>-2.492128</td>\n",
       "      <td>0.252557</td>\n",
       "      <td>-2.106181</td>\n",
       "    </tr>\n",
       "    <tr>\n",
       "      <th>22</th>\n",
       "      <td>C&amp;S WH</td>\n",
       "      <td>2019-10-22</td>\n",
       "      <td>2019-10-06</td>\n",
       "      <td>2019-10-21</td>\n",
       "      <td>USD</td>\n",
       "      <td>170541.56</td>\n",
       "      <td>1</td>\n",
       "      <td>-0.434389</td>\n",
       "      <td>0.252557</td>\n",
       "      <td>0.886275</td>\n",
       "    </tr>\n",
       "  </tbody>\n",
       "</table>\n",
       "</div>"
      ],
      "text/plain": [
       "         name_customer clear_date document_create_date.1 due_in_date  \\\n",
       "17979         TARG llc 2019-10-23             2019-10-06  2019-10-21   \n",
       "38587         WAL-MAR  2019-10-17             2019-10-06  2019-10-21   \n",
       "46497          KRAFT   2019-11-27             2019-10-06  2019-11-10   \n",
       "18109  WAL-MAR systems 2019-10-17             2019-10-06  2019-10-21   \n",
       "22             C&S WH  2019-10-22             2019-10-06  2019-10-21   \n",
       "\n",
       "      invoice_currency  total_open_amount  Delay  Cust_number  \\\n",
       "17979              USD             429.61      2     1.021583   \n",
       "38587              USD           31913.47     -4    -2.492128   \n",
       "46497              USD           15161.25     17     0.229885   \n",
       "18109              USD           13276.68     -4    -2.492128   \n",
       "22                 USD          170541.56      1    -0.434389   \n",
       "\n",
       "       Business_number  Cust_payment_terms  \n",
       "17979         0.252557            1.158333  \n",
       "38587         0.252557           -2.106181  \n",
       "46497         0.252557            1.007463  \n",
       "18109         0.252557           -2.106181  \n",
       "22            0.252557            0.886275  "
      ]
     },
     "execution_count": 67,
     "metadata": {},
     "output_type": "execute_result"
    }
   ],
   "source": [
    "map_cust=val1.groupby(\"cust_payment_terms\")['Delay'].mean().to_dict()\n",
    "val1['Cust_payment_terms']=val1['cust_payment_terms'].map(map_cust)\n",
    "val1.drop('cust_payment_terms',axis = 1,inplace = True)\n",
    "val1.head()"
   ]
  },
  {
   "cell_type": "code",
   "execution_count": 68,
   "metadata": {},
   "outputs": [
    {
     "data": {
      "text/html": [
       "<div>\n",
       "<style scoped>\n",
       "    .dataframe tbody tr th:only-of-type {\n",
       "        vertical-align: middle;\n",
       "    }\n",
       "\n",
       "    .dataframe tbody tr th {\n",
       "        vertical-align: top;\n",
       "    }\n",
       "\n",
       "    .dataframe thead th {\n",
       "        text-align: right;\n",
       "    }\n",
       "</style>\n",
       "<table border=\"1\" class=\"dataframe\">\n",
       "  <thead>\n",
       "    <tr style=\"text-align: right;\">\n",
       "      <th></th>\n",
       "      <th>name_customer</th>\n",
       "      <th>clear_date</th>\n",
       "      <th>document_create_date.1</th>\n",
       "      <th>due_in_date</th>\n",
       "      <th>invoice_currency</th>\n",
       "      <th>total_open_amount</th>\n",
       "      <th>Delay</th>\n",
       "      <th>Cust_number</th>\n",
       "      <th>Business_number</th>\n",
       "      <th>Cust_payment_terms</th>\n",
       "    </tr>\n",
       "  </thead>\n",
       "  <tbody>\n",
       "    <tr>\n",
       "      <th>36500</th>\n",
       "      <td>TARG us</td>\n",
       "      <td>2019-12-26</td>\n",
       "      <td>2019-12-08</td>\n",
       "      <td>2019-12-23</td>\n",
       "      <td>USD</td>\n",
       "      <td>50428.62</td>\n",
       "      <td>3</td>\n",
       "      <td>0.187500</td>\n",
       "      <td>0.017805</td>\n",
       "      <td>0.969080</td>\n",
       "    </tr>\n",
       "    <tr>\n",
       "      <th>1427</th>\n",
       "      <td>WAL-MAR in</td>\n",
       "      <td>2019-12-18</td>\n",
       "      <td>2019-12-08</td>\n",
       "      <td>2019-12-23</td>\n",
       "      <td>USD</td>\n",
       "      <td>943.12</td>\n",
       "      <td>-5</td>\n",
       "      <td>-2.453749</td>\n",
       "      <td>0.017805</td>\n",
       "      <td>-2.165672</td>\n",
       "    </tr>\n",
       "    <tr>\n",
       "      <th>3673</th>\n",
       "      <td>H E BUT foundation</td>\n",
       "      <td>2019-12-24</td>\n",
       "      <td>2019-12-08</td>\n",
       "      <td>2019-12-23</td>\n",
       "      <td>USD</td>\n",
       "      <td>15803.80</td>\n",
       "      <td>1</td>\n",
       "      <td>-3.845238</td>\n",
       "      <td>0.017805</td>\n",
       "      <td>0.969080</td>\n",
       "    </tr>\n",
       "    <tr>\n",
       "      <th>41867</th>\n",
       "      <td>WAL-MAR llc</td>\n",
       "      <td>2019-12-18</td>\n",
       "      <td>2019-12-08</td>\n",
       "      <td>2019-12-23</td>\n",
       "      <td>USD</td>\n",
       "      <td>394.68</td>\n",
       "      <td>-5</td>\n",
       "      <td>-2.453749</td>\n",
       "      <td>0.017805</td>\n",
       "      <td>-2.165672</td>\n",
       "    </tr>\n",
       "    <tr>\n",
       "      <th>37833</th>\n",
       "      <td>WAL-MAR</td>\n",
       "      <td>2019-12-18</td>\n",
       "      <td>2019-12-08</td>\n",
       "      <td>2019-12-23</td>\n",
       "      <td>USD</td>\n",
       "      <td>35635.59</td>\n",
       "      <td>-5</td>\n",
       "      <td>-2.453749</td>\n",
       "      <td>0.017805</td>\n",
       "      <td>-2.165672</td>\n",
       "    </tr>\n",
       "  </tbody>\n",
       "</table>\n",
       "</div>"
      ],
      "text/plain": [
       "            name_customer clear_date document_create_date.1 due_in_date  \\\n",
       "36500             TARG us 2019-12-26             2019-12-08  2019-12-23   \n",
       "1427           WAL-MAR in 2019-12-18             2019-12-08  2019-12-23   \n",
       "3673   H E BUT foundation 2019-12-24             2019-12-08  2019-12-23   \n",
       "41867         WAL-MAR llc 2019-12-18             2019-12-08  2019-12-23   \n",
       "37833            WAL-MAR  2019-12-18             2019-12-08  2019-12-23   \n",
       "\n",
       "      invoice_currency  total_open_amount  Delay  Cust_number  \\\n",
       "36500              USD           50428.62      3     0.187500   \n",
       "1427               USD             943.12     -5    -2.453749   \n",
       "3673               USD           15803.80      1    -3.845238   \n",
       "41867              USD             394.68     -5    -2.453749   \n",
       "37833              USD           35635.59     -5    -2.453749   \n",
       "\n",
       "       Business_number  Cust_payment_terms  \n",
       "36500         0.017805            0.969080  \n",
       "1427          0.017805           -2.165672  \n",
       "3673          0.017805            0.969080  \n",
       "41867         0.017805           -2.165672  \n",
       "37833         0.017805           -2.165672  "
      ]
     },
     "execution_count": 68,
     "metadata": {},
     "output_type": "execute_result"
    }
   ],
   "source": [
    "map_cust=val2.groupby(\"cust_payment_terms\")['Delay'].mean().to_dict()\n",
    "val2['Cust_payment_terms']=val2['cust_payment_terms'].map(map_cust)\n",
    "val2.drop('cust_payment_terms',axis = 1,inplace = True)\n",
    "val2.head()"
   ]
  },
  {
   "cell_type": "code",
   "execution_count": 69,
   "metadata": {},
   "outputs": [],
   "source": [
    "x_train['Week_is_2']=np.where(x_train['due_in_date'].dt.dayofweek==2,1,0)\n",
    "val1['Week_is_2']=np.where(val1['due_in_date'].dt.dayofweek==2,1,0)\n",
    "val2['Week_is_2']=np.where(val2['due_in_date'].dt.dayofweek==2,1,0)"
   ]
  },
  {
   "cell_type": "code",
   "execution_count": 70,
   "metadata": {},
   "outputs": [],
   "source": [
    "x_train['Week_is_5']=np.where(x_train['due_in_date'].dt.dayofweek==5,1,0)\n",
    "val1['Week_is_5']=np.where(val1['due_in_date'].dt.dayofweek==5,1,0)\n",
    "val2['Week_is_5']=np.where(val2['due_in_date'].dt.dayofweek==5,1,0)"
   ]
  },
  {
   "cell_type": "code",
   "execution_count": 71,
   "metadata": {},
   "outputs": [],
   "source": [
    "x_train['Quarter']=x_train['document_create_date.1'].dt.quarter\n",
    "val1['Quarter']=val1['document_create_date.1'].dt.quarter\n",
    "val2['Quarter']=val2['document_create_date.1'].dt.quarter"
   ]
  },
  {
   "cell_type": "code",
   "execution_count": 72,
   "metadata": {},
   "outputs": [],
   "source": [
    "x_train['total_open_amount'] = np.where(x_train['total_open_amount']=='CAD',0.78*x_train['total_open_amount'],x_train['total_open_amount'])\n",
    "val1['total_open_amount'] = np.where(val1['total_open_amount']=='CAD',0.78*val1['total_open_amount'],val1['total_open_amount'])\n",
    "val2['total_open_amount'] = np.where(val2['total_open_amount']=='CAD',0.78*val2['total_open_amount'],val2['total_open_amount'])###################"
   ]
  },
  {
   "cell_type": "code",
   "execution_count": 73,
   "metadata": {},
   "outputs": [
    {
     "data": {
      "text/plain": [
       "USD    28390\n",
       "CAD     2550\n",
       "Name: invoice_currency, dtype: int64"
      ]
     },
     "execution_count": 73,
     "metadata": {},
     "output_type": "execute_result"
    }
   ],
   "source": [
    "x_train['invoice_currency'].value_counts()"
   ]
  },
  {
   "cell_type": "code",
   "execution_count": 74,
   "metadata": {},
   "outputs": [],
   "source": [
    "x_train=x_train.drop(columns=['invoice_currency'],axis=1)##################3\n",
    "val1=val1.drop(columns=['invoice_currency'],axis=1)\n",
    "val2=val2.drop(columns=['invoice_currency'],axis=1)"
   ]
  },
  {
   "cell_type": "code",
   "execution_count": 75,
   "metadata": {},
   "outputs": [],
   "source": [
    "x_train['due_m'] = x_train['due_in_date'].dt.month\n",
    "x_train['create_m'] = x_train['document_create_date.1'].dt.month\n",
    "\n",
    "val1['due_m'] = val1['due_in_date'].dt.month\n",
    "val1['create_m'] = val1['document_create_date.1'].dt.month\n",
    "\n",
    "val2['due_m'] = val2['due_in_date'].dt.month\n",
    "val2['create_m'] = val2['document_create_date.1'].dt.month"
   ]
  },
  {
   "cell_type": "code",
   "execution_count": 76,
   "metadata": {},
   "outputs": [
    {
     "data": {
      "text/html": [
       "<div>\n",
       "<style scoped>\n",
       "    .dataframe tbody tr th:only-of-type {\n",
       "        vertical-align: middle;\n",
       "    }\n",
       "\n",
       "    .dataframe tbody tr th {\n",
       "        vertical-align: top;\n",
       "    }\n",
       "\n",
       "    .dataframe thead th {\n",
       "        text-align: right;\n",
       "    }\n",
       "</style>\n",
       "<table border=\"1\" class=\"dataframe\">\n",
       "  <thead>\n",
       "    <tr style=\"text-align: right;\">\n",
       "      <th></th>\n",
       "      <th>name_customer</th>\n",
       "      <th>clear_date</th>\n",
       "      <th>document_create_date.1</th>\n",
       "      <th>due_in_date</th>\n",
       "      <th>total_open_amount</th>\n",
       "      <th>Delay</th>\n",
       "      <th>Cust_number</th>\n",
       "      <th>Business_number</th>\n",
       "      <th>Cust_payment_terms</th>\n",
       "      <th>Week_is_2</th>\n",
       "      <th>Week_is_5</th>\n",
       "      <th>Quarter</th>\n",
       "      <th>due_m</th>\n",
       "      <th>create_m</th>\n",
       "    </tr>\n",
       "  </thead>\n",
       "  <tbody>\n",
       "    <tr>\n",
       "      <th>35791</th>\n",
       "      <td>WAL-MAR associates</td>\n",
       "      <td>2019-01-09</td>\n",
       "      <td>2018-12-30</td>\n",
       "      <td>2019-01-14</td>\n",
       "      <td>11025.27</td>\n",
       "      <td>-5</td>\n",
       "      <td>-2.125443</td>\n",
       "      <td>0.822171</td>\n",
       "      <td>-1.775266</td>\n",
       "      <td>0</td>\n",
       "      <td>0</td>\n",
       "      <td>4</td>\n",
       "      <td>1</td>\n",
       "      <td>12</td>\n",
       "    </tr>\n",
       "    <tr>\n",
       "      <th>18481</th>\n",
       "      <td>WAKE co</td>\n",
       "      <td>2019-01-09</td>\n",
       "      <td>2018-12-30</td>\n",
       "      <td>2019-01-14</td>\n",
       "      <td>114737.60</td>\n",
       "      <td>-5</td>\n",
       "      <td>-1.812183</td>\n",
       "      <td>0.822171</td>\n",
       "      <td>1.354415</td>\n",
       "      <td>0</td>\n",
       "      <td>0</td>\n",
       "      <td>4</td>\n",
       "      <td>1</td>\n",
       "      <td>12</td>\n",
       "    </tr>\n",
       "    <tr>\n",
       "      <th>42361</th>\n",
       "      <td>WAL-MAR co</td>\n",
       "      <td>2019-01-09</td>\n",
       "      <td>2018-12-30</td>\n",
       "      <td>2019-01-14</td>\n",
       "      <td>5506.22</td>\n",
       "      <td>-5</td>\n",
       "      <td>-2.125443</td>\n",
       "      <td>0.822171</td>\n",
       "      <td>-1.775266</td>\n",
       "      <td>0</td>\n",
       "      <td>0</td>\n",
       "      <td>4</td>\n",
       "      <td>1</td>\n",
       "      <td>12</td>\n",
       "    </tr>\n",
       "    <tr>\n",
       "      <th>32638</th>\n",
       "      <td>WAL-MAR co</td>\n",
       "      <td>2019-01-17</td>\n",
       "      <td>2018-12-30</td>\n",
       "      <td>2019-01-14</td>\n",
       "      <td>12202.50</td>\n",
       "      <td>3</td>\n",
       "      <td>-2.125443</td>\n",
       "      <td>0.822171</td>\n",
       "      <td>-1.775266</td>\n",
       "      <td>0</td>\n",
       "      <td>0</td>\n",
       "      <td>4</td>\n",
       "      <td>1</td>\n",
       "      <td>12</td>\n",
       "    </tr>\n",
       "    <tr>\n",
       "      <th>7561</th>\n",
       "      <td>WAL-MAR in</td>\n",
       "      <td>2019-01-10</td>\n",
       "      <td>2018-12-30</td>\n",
       "      <td>2019-01-14</td>\n",
       "      <td>16663.36</td>\n",
       "      <td>-4</td>\n",
       "      <td>-2.125443</td>\n",
       "      <td>0.822171</td>\n",
       "      <td>-1.775266</td>\n",
       "      <td>0</td>\n",
       "      <td>0</td>\n",
       "      <td>4</td>\n",
       "      <td>1</td>\n",
       "      <td>12</td>\n",
       "    </tr>\n",
       "  </tbody>\n",
       "</table>\n",
       "</div>"
      ],
      "text/plain": [
       "            name_customer clear_date document_create_date.1 due_in_date  \\\n",
       "35791  WAL-MAR associates 2019-01-09             2018-12-30  2019-01-14   \n",
       "18481             WAKE co 2019-01-09             2018-12-30  2019-01-14   \n",
       "42361          WAL-MAR co 2019-01-09             2018-12-30  2019-01-14   \n",
       "32638          WAL-MAR co 2019-01-17             2018-12-30  2019-01-14   \n",
       "7561           WAL-MAR in 2019-01-10             2018-12-30  2019-01-14   \n",
       "\n",
       "       total_open_amount  Delay  Cust_number  Business_number  \\\n",
       "35791           11025.27     -5    -2.125443         0.822171   \n",
       "18481          114737.60     -5    -1.812183         0.822171   \n",
       "42361            5506.22     -5    -2.125443         0.822171   \n",
       "32638           12202.50      3    -2.125443         0.822171   \n",
       "7561            16663.36     -4    -2.125443         0.822171   \n",
       "\n",
       "       Cust_payment_terms  Week_is_2  Week_is_5  Quarter  due_m  create_m  \n",
       "35791           -1.775266          0          0        4      1        12  \n",
       "18481            1.354415          0          0        4      1        12  \n",
       "42361           -1.775266          0          0        4      1        12  \n",
       "32638           -1.775266          0          0        4      1        12  \n",
       "7561            -1.775266          0          0        4      1        12  "
      ]
     },
     "execution_count": 76,
     "metadata": {},
     "output_type": "execute_result"
    }
   ],
   "source": [
    "x_train.head()"
   ]
  },
  {
   "cell_type": "code",
   "execution_count": 77,
   "metadata": {},
   "outputs": [
    {
     "data": {
      "text/html": [
       "<div>\n",
       "<style scoped>\n",
       "    .dataframe tbody tr th:only-of-type {\n",
       "        vertical-align: middle;\n",
       "    }\n",
       "\n",
       "    .dataframe tbody tr th {\n",
       "        vertical-align: top;\n",
       "    }\n",
       "\n",
       "    .dataframe thead th {\n",
       "        text-align: right;\n",
       "    }\n",
       "</style>\n",
       "<table border=\"1\" class=\"dataframe\">\n",
       "  <thead>\n",
       "    <tr style=\"text-align: right;\">\n",
       "      <th></th>\n",
       "      <th>name_customer</th>\n",
       "      <th>clear_date</th>\n",
       "      <th>document_create_date.1</th>\n",
       "      <th>due_in_date</th>\n",
       "      <th>total_open_amount</th>\n",
       "      <th>Delay</th>\n",
       "      <th>Cust_number</th>\n",
       "      <th>Business_number</th>\n",
       "      <th>Cust_payment_terms</th>\n",
       "      <th>Week_is_2</th>\n",
       "      <th>Week_is_5</th>\n",
       "      <th>Quarter</th>\n",
       "      <th>due_m</th>\n",
       "      <th>create_m</th>\n",
       "    </tr>\n",
       "  </thead>\n",
       "  <tbody>\n",
       "    <tr>\n",
       "      <th>35791</th>\n",
       "      <td>WAL-MAR associates</td>\n",
       "      <td>2019-01-09</td>\n",
       "      <td>2018-12-30</td>\n",
       "      <td>2019-01-14</td>\n",
       "      <td>11025.27</td>\n",
       "      <td>-5</td>\n",
       "      <td>-2.125443</td>\n",
       "      <td>0.822171</td>\n",
       "      <td>-1.775266</td>\n",
       "      <td>0</td>\n",
       "      <td>0</td>\n",
       "      <td>4</td>\n",
       "      <td>1</td>\n",
       "      <td>12</td>\n",
       "    </tr>\n",
       "    <tr>\n",
       "      <th>18481</th>\n",
       "      <td>WAKE co</td>\n",
       "      <td>2019-01-09</td>\n",
       "      <td>2018-12-30</td>\n",
       "      <td>2019-01-14</td>\n",
       "      <td>114737.60</td>\n",
       "      <td>-5</td>\n",
       "      <td>-1.812183</td>\n",
       "      <td>0.822171</td>\n",
       "      <td>1.354415</td>\n",
       "      <td>0</td>\n",
       "      <td>0</td>\n",
       "      <td>4</td>\n",
       "      <td>1</td>\n",
       "      <td>12</td>\n",
       "    </tr>\n",
       "    <tr>\n",
       "      <th>42361</th>\n",
       "      <td>WAL-MAR co</td>\n",
       "      <td>2019-01-09</td>\n",
       "      <td>2018-12-30</td>\n",
       "      <td>2019-01-14</td>\n",
       "      <td>5506.22</td>\n",
       "      <td>-5</td>\n",
       "      <td>-2.125443</td>\n",
       "      <td>0.822171</td>\n",
       "      <td>-1.775266</td>\n",
       "      <td>0</td>\n",
       "      <td>0</td>\n",
       "      <td>4</td>\n",
       "      <td>1</td>\n",
       "      <td>12</td>\n",
       "    </tr>\n",
       "    <tr>\n",
       "      <th>32638</th>\n",
       "      <td>WAL-MAR co</td>\n",
       "      <td>2019-01-17</td>\n",
       "      <td>2018-12-30</td>\n",
       "      <td>2019-01-14</td>\n",
       "      <td>12202.50</td>\n",
       "      <td>3</td>\n",
       "      <td>-2.125443</td>\n",
       "      <td>0.822171</td>\n",
       "      <td>-1.775266</td>\n",
       "      <td>0</td>\n",
       "      <td>0</td>\n",
       "      <td>4</td>\n",
       "      <td>1</td>\n",
       "      <td>12</td>\n",
       "    </tr>\n",
       "    <tr>\n",
       "      <th>7561</th>\n",
       "      <td>WAL-MAR in</td>\n",
       "      <td>2019-01-10</td>\n",
       "      <td>2018-12-30</td>\n",
       "      <td>2019-01-14</td>\n",
       "      <td>16663.36</td>\n",
       "      <td>-4</td>\n",
       "      <td>-2.125443</td>\n",
       "      <td>0.822171</td>\n",
       "      <td>-1.775266</td>\n",
       "      <td>0</td>\n",
       "      <td>0</td>\n",
       "      <td>4</td>\n",
       "      <td>1</td>\n",
       "      <td>12</td>\n",
       "    </tr>\n",
       "  </tbody>\n",
       "</table>\n",
       "</div>"
      ],
      "text/plain": [
       "            name_customer clear_date document_create_date.1 due_in_date  \\\n",
       "35791  WAL-MAR associates 2019-01-09             2018-12-30  2019-01-14   \n",
       "18481             WAKE co 2019-01-09             2018-12-30  2019-01-14   \n",
       "42361          WAL-MAR co 2019-01-09             2018-12-30  2019-01-14   \n",
       "32638          WAL-MAR co 2019-01-17             2018-12-30  2019-01-14   \n",
       "7561           WAL-MAR in 2019-01-10             2018-12-30  2019-01-14   \n",
       "\n",
       "       total_open_amount  Delay  Cust_number  Business_number  \\\n",
       "35791           11025.27     -5    -2.125443         0.822171   \n",
       "18481          114737.60     -5    -1.812183         0.822171   \n",
       "42361            5506.22     -5    -2.125443         0.822171   \n",
       "32638           12202.50      3    -2.125443         0.822171   \n",
       "7561            16663.36     -4    -2.125443         0.822171   \n",
       "\n",
       "       Cust_payment_terms  Week_is_2  Week_is_5  Quarter  due_m  create_m  \n",
       "35791           -1.775266          0          0        4      1        12  \n",
       "18481            1.354415          0          0        4      1        12  \n",
       "42361           -1.775266          0          0        4      1        12  \n",
       "32638           -1.775266          0          0        4      1        12  \n",
       "7561            -1.775266          0          0        4      1        12  "
      ]
     },
     "execution_count": 77,
     "metadata": {},
     "output_type": "execute_result"
    }
   ],
   "source": [
    "x_train.head()"
   ]
  },
  {
   "cell_type": "code",
   "execution_count": 78,
   "metadata": {},
   "outputs": [
    {
     "data": {
      "text/plain": [
       "<matplotlib.axes._subplots.AxesSubplot at 0x16d5f4b5588>"
      ]
     },
     "execution_count": 78,
     "metadata": {},
     "output_type": "execute_result"
    },
    {
     "data": {
      "image/png": "[encoded data removed]",
      "text/plain": [
       "<Figure size 1008x576 with 2 Axes>"
      ]
     },
     "metadata": {
      "needs_background": "light"
     },
     "output_type": "display_data"
    }
   ],
   "source": [
    "color = plt.get_cmap('RdYlGn')   # default color\n",
    "color.set_bad('lightblue')\n",
    "corr=x_train.corr()\n",
    "plt.figure(figsize=(14,8))\n",
    "sns.heatmap(corr,annot=True,cmap=color)"
   ]
  },
  {
   "cell_type": "code",
   "execution_count": 79,
   "metadata": {},
   "outputs": [],
   "source": [
    "x_train.drop(columns=['name_customer'],axis=1,inplace=True)\n",
    "val1.drop(columns=['name_customer'],axis=1,inplace=True)\n",
    "val2.drop(columns=['name_customer'],axis=1,inplace=True)"
   ]
  },
  {
   "cell_type": "code",
   "execution_count": 80,
   "metadata": {},
   "outputs": [
    {
     "data": {
      "text/html": [
       "<div>\n",
       "<style scoped>\n",
       "    .dataframe tbody tr th:only-of-type {\n",
       "        vertical-align: middle;\n",
       "    }\n",
       "\n",
       "    .dataframe tbody tr th {\n",
       "        vertical-align: top;\n",
       "    }\n",
       "\n",
       "    .dataframe thead th {\n",
       "        text-align: right;\n",
       "    }\n",
       "</style>\n",
       "<table border=\"1\" class=\"dataframe\">\n",
       "  <thead>\n",
       "    <tr style=\"text-align: right;\">\n",
       "      <th></th>\n",
       "      <th>clear_date</th>\n",
       "      <th>document_create_date.1</th>\n",
       "      <th>due_in_date</th>\n",
       "      <th>total_open_amount</th>\n",
       "      <th>Delay</th>\n",
       "      <th>Cust_number</th>\n",
       "      <th>Business_number</th>\n",
       "      <th>Cust_payment_terms</th>\n",
       "      <th>Week_is_2</th>\n",
       "      <th>Week_is_5</th>\n",
       "      <th>Quarter</th>\n",
       "      <th>due_m</th>\n",
       "      <th>create_m</th>\n",
       "    </tr>\n",
       "  </thead>\n",
       "  <tbody>\n",
       "    <tr>\n",
       "      <th>35791</th>\n",
       "      <td>2019-01-09</td>\n",
       "      <td>2018-12-30</td>\n",
       "      <td>2019-01-14</td>\n",
       "      <td>11025.27</td>\n",
       "      <td>-5</td>\n",
       "      <td>-2.125443</td>\n",
       "      <td>0.822171</td>\n",
       "      <td>-1.775266</td>\n",
       "      <td>0</td>\n",
       "      <td>0</td>\n",
       "      <td>4</td>\n",
       "      <td>1</td>\n",
       "      <td>12</td>\n",
       "    </tr>\n",
       "    <tr>\n",
       "      <th>18481</th>\n",
       "      <td>2019-01-09</td>\n",
       "      <td>2018-12-30</td>\n",
       "      <td>2019-01-14</td>\n",
       "      <td>114737.60</td>\n",
       "      <td>-5</td>\n",
       "      <td>-1.812183</td>\n",
       "      <td>0.822171</td>\n",
       "      <td>1.354415</td>\n",
       "      <td>0</td>\n",
       "      <td>0</td>\n",
       "      <td>4</td>\n",
       "      <td>1</td>\n",
       "      <td>12</td>\n",
       "    </tr>\n",
       "    <tr>\n",
       "      <th>42361</th>\n",
       "      <td>2019-01-09</td>\n",
       "      <td>2018-12-30</td>\n",
       "      <td>2019-01-14</td>\n",
       "      <td>5506.22</td>\n",
       "      <td>-5</td>\n",
       "      <td>-2.125443</td>\n",
       "      <td>0.822171</td>\n",
       "      <td>-1.775266</td>\n",
       "      <td>0</td>\n",
       "      <td>0</td>\n",
       "      <td>4</td>\n",
       "      <td>1</td>\n",
       "      <td>12</td>\n",
       "    </tr>\n",
       "    <tr>\n",
       "      <th>32638</th>\n",
       "      <td>2019-01-17</td>\n",
       "      <td>2018-12-30</td>\n",
       "      <td>2019-01-14</td>\n",
       "      <td>12202.50</td>\n",
       "      <td>3</td>\n",
       "      <td>-2.125443</td>\n",
       "      <td>0.822171</td>\n",
       "      <td>-1.775266</td>\n",
       "      <td>0</td>\n",
       "      <td>0</td>\n",
       "      <td>4</td>\n",
       "      <td>1</td>\n",
       "      <td>12</td>\n",
       "    </tr>\n",
       "    <tr>\n",
       "      <th>7561</th>\n",
       "      <td>2019-01-10</td>\n",
       "      <td>2018-12-30</td>\n",
       "      <td>2019-01-14</td>\n",
       "      <td>16663.36</td>\n",
       "      <td>-4</td>\n",
       "      <td>-2.125443</td>\n",
       "      <td>0.822171</td>\n",
       "      <td>-1.775266</td>\n",
       "      <td>0</td>\n",
       "      <td>0</td>\n",
       "      <td>4</td>\n",
       "      <td>1</td>\n",
       "      <td>12</td>\n",
       "    </tr>\n",
       "  </tbody>\n",
       "</table>\n",
       "</div>"
      ],
      "text/plain": [
       "      clear_date document_create_date.1 due_in_date  total_open_amount  Delay  \\\n",
       "35791 2019-01-09             2018-12-30  2019-01-14           11025.27     -5   \n",
       "18481 2019-01-09             2018-12-30  2019-01-14          114737.60     -5   \n",
       "42361 2019-01-09             2018-12-30  2019-01-14            5506.22     -5   \n",
       "32638 2019-01-17             2018-12-30  2019-01-14           12202.50      3   \n",
       "7561  2019-01-10             2018-12-30  2019-01-14           16663.36     -4   \n",
       "\n",
       "       Cust_number  Business_number  Cust_payment_terms  Week_is_2  Week_is_5  \\\n",
       "35791    -2.125443         0.822171           -1.775266          0          0   \n",
       "18481    -1.812183         0.822171            1.354415          0          0   \n",
       "42361    -2.125443         0.822171           -1.775266          0          0   \n",
       "32638    -2.125443         0.822171           -1.775266          0          0   \n",
       "7561     -2.125443         0.822171           -1.775266          0          0   \n",
       "\n",
       "       Quarter  due_m  create_m  \n",
       "35791        4      1        12  \n",
       "18481        4      1        12  \n",
       "42361        4      1        12  \n",
       "32638        4      1        12  \n",
       "7561         4      1        12  "
      ]
     },
     "execution_count": 80,
     "metadata": {},
     "output_type": "execute_result"
    }
   ],
   "source": [
    "x_train.head()"
   ]
  },
  {
   "cell_type": "code",
   "execution_count": 81,
   "metadata": {},
   "outputs": [],
   "source": [
    "x_train.drop(columns=['clear_date','due_in_date','document_create_date.1'],axis=1,inplace=True)\n",
    "val1.drop(columns=['clear_date','due_in_date','document_create_date.1'],axis=1,inplace=True)#################\n",
    "val2.drop(columns=['clear_date','due_in_date','document_create_date.1'],axis=1,inplace=True)"
   ]
  },
  {
   "cell_type": "code",
   "execution_count": 82,
   "metadata": {},
   "outputs": [
    {
     "data": {
      "text/html": [
       "<div>\n",
       "<style scoped>\n",
       "    .dataframe tbody tr th:only-of-type {\n",
       "        vertical-align: middle;\n",
       "    }\n",
       "\n",
       "    .dataframe tbody tr th {\n",
       "        vertical-align: top;\n",
       "    }\n",
       "\n",
       "    .dataframe thead th {\n",
       "        text-align: right;\n",
       "    }\n",
       "</style>\n",
       "<table border=\"1\" class=\"dataframe\">\n",
       "  <thead>\n",
       "    <tr style=\"text-align: right;\">\n",
       "      <th></th>\n",
       "      <th>total_open_amount</th>\n",
       "      <th>Delay</th>\n",
       "      <th>Cust_number</th>\n",
       "      <th>Business_number</th>\n",
       "      <th>Cust_payment_terms</th>\n",
       "      <th>Week_is_2</th>\n",
       "      <th>Week_is_5</th>\n",
       "      <th>Quarter</th>\n",
       "      <th>due_m</th>\n",
       "      <th>create_m</th>\n",
       "    </tr>\n",
       "  </thead>\n",
       "  <tbody>\n",
       "    <tr>\n",
       "      <th>35791</th>\n",
       "      <td>11025.27</td>\n",
       "      <td>-5</td>\n",
       "      <td>-2.125443</td>\n",
       "      <td>0.822171</td>\n",
       "      <td>-1.775266</td>\n",
       "      <td>0</td>\n",
       "      <td>0</td>\n",
       "      <td>4</td>\n",
       "      <td>1</td>\n",
       "      <td>12</td>\n",
       "    </tr>\n",
       "    <tr>\n",
       "      <th>18481</th>\n",
       "      <td>114737.60</td>\n",
       "      <td>-5</td>\n",
       "      <td>-1.812183</td>\n",
       "      <td>0.822171</td>\n",
       "      <td>1.354415</td>\n",
       "      <td>0</td>\n",
       "      <td>0</td>\n",
       "      <td>4</td>\n",
       "      <td>1</td>\n",
       "      <td>12</td>\n",
       "    </tr>\n",
       "    <tr>\n",
       "      <th>42361</th>\n",
       "      <td>5506.22</td>\n",
       "      <td>-5</td>\n",
       "      <td>-2.125443</td>\n",
       "      <td>0.822171</td>\n",
       "      <td>-1.775266</td>\n",
       "      <td>0</td>\n",
       "      <td>0</td>\n",
       "      <td>4</td>\n",
       "      <td>1</td>\n",
       "      <td>12</td>\n",
       "    </tr>\n",
       "    <tr>\n",
       "      <th>32638</th>\n",
       "      <td>12202.50</td>\n",
       "      <td>3</td>\n",
       "      <td>-2.125443</td>\n",
       "      <td>0.822171</td>\n",
       "      <td>-1.775266</td>\n",
       "      <td>0</td>\n",
       "      <td>0</td>\n",
       "      <td>4</td>\n",
       "      <td>1</td>\n",
       "      <td>12</td>\n",
       "    </tr>\n",
       "    <tr>\n",
       "      <th>7561</th>\n",
       "      <td>16663.36</td>\n",
       "      <td>-4</td>\n",
       "      <td>-2.125443</td>\n",
       "      <td>0.822171</td>\n",
       "      <td>-1.775266</td>\n",
       "      <td>0</td>\n",
       "      <td>0</td>\n",
       "      <td>4</td>\n",
       "      <td>1</td>\n",
       "      <td>12</td>\n",
       "    </tr>\n",
       "    <tr>\n",
       "      <th>14827</th>\n",
       "      <td>10645.08</td>\n",
       "      <td>-5</td>\n",
       "      <td>-2.125443</td>\n",
       "      <td>0.822171</td>\n",
       "      <td>-1.775266</td>\n",
       "      <td>0</td>\n",
       "      <td>0</td>\n",
       "      <td>4</td>\n",
       "      <td>1</td>\n",
       "      <td>12</td>\n",
       "    </tr>\n",
       "    <tr>\n",
       "      <th>37955</th>\n",
       "      <td>10211.98</td>\n",
       "      <td>-5</td>\n",
       "      <td>-2.125443</td>\n",
       "      <td>0.822171</td>\n",
       "      <td>-1.775266</td>\n",
       "      <td>0</td>\n",
       "      <td>0</td>\n",
       "      <td>4</td>\n",
       "      <td>1</td>\n",
       "      <td>12</td>\n",
       "    </tr>\n",
       "    <tr>\n",
       "      <th>28275</th>\n",
       "      <td>31.56</td>\n",
       "      <td>1</td>\n",
       "      <td>0.988095</td>\n",
       "      <td>0.822171</td>\n",
       "      <td>1.354415</td>\n",
       "      <td>0</td>\n",
       "      <td>0</td>\n",
       "      <td>4</td>\n",
       "      <td>1</td>\n",
       "      <td>12</td>\n",
       "    </tr>\n",
       "    <tr>\n",
       "      <th>4133</th>\n",
       "      <td>128366.53</td>\n",
       "      <td>1</td>\n",
       "      <td>0.281649</td>\n",
       "      <td>0.822171</td>\n",
       "      <td>0.657070</td>\n",
       "      <td>0</td>\n",
       "      <td>0</td>\n",
       "      <td>4</td>\n",
       "      <td>1</td>\n",
       "      <td>12</td>\n",
       "    </tr>\n",
       "    <tr>\n",
       "      <th>11168</th>\n",
       "      <td>75417.07</td>\n",
       "      <td>0</td>\n",
       "      <td>3.558394</td>\n",
       "      <td>6.269804</td>\n",
       "      <td>6.328485</td>\n",
       "      <td>0</td>\n",
       "      <td>0</td>\n",
       "      <td>4</td>\n",
       "      <td>1</td>\n",
       "      <td>12</td>\n",
       "    </tr>\n",
       "  </tbody>\n",
       "</table>\n",
       "</div>"
      ],
      "text/plain": [
       "       total_open_amount  Delay  Cust_number  Business_number  \\\n",
       "35791           11025.27     -5    -2.125443         0.822171   \n",
       "18481          114737.60     -5    -1.812183         0.822171   \n",
       "42361            5506.22     -5    -2.125443         0.822171   \n",
       "32638           12202.50      3    -2.125443         0.822171   \n",
       "7561            16663.36     -4    -2.125443         0.822171   \n",
       "14827           10645.08     -5    -2.125443         0.822171   \n",
       "37955           10211.98     -5    -2.125443         0.822171   \n",
       "28275              31.56      1     0.988095         0.822171   \n",
       "4133           128366.53      1     0.281649         0.822171   \n",
       "11168           75417.07      0     3.558394         6.269804   \n",
       "\n",
       "       Cust_payment_terms  Week_is_2  Week_is_5  Quarter  due_m  create_m  \n",
       "35791           -1.775266          0          0        4      1        12  \n",
       "18481            1.354415          0          0        4      1        12  \n",
       "42361           -1.775266          0          0        4      1        12  \n",
       "32638           -1.775266          0          0        4      1        12  \n",
       "7561            -1.775266          0          0        4      1        12  \n",
       "14827           -1.775266          0          0        4      1        12  \n",
       "37955           -1.775266          0          0        4      1        12  \n",
       "28275            1.354415          0          0        4      1        12  \n",
       "4133             0.657070          0          0        4      1        12  \n",
       "11168            6.328485          0          0        4      1        12  "
      ]
     },
     "execution_count": 82,
     "metadata": {},
     "output_type": "execute_result"
    }
   ],
   "source": [
    "x_train.head(10)"
   ]
  },
  {
   "cell_type": "code",
   "execution_count": 83,
   "metadata": {},
   "outputs": [],
   "source": [
    "X_train = x_train.drop(columns=['Delay',],axis=1)\n",
    "Y_train = x_train['Delay']\n",
    "X_test = val1.drop(columns=['Delay'],axis=1)#######################################\n",
    "Y_test = val1['Delay']"
   ]
  },
  {
   "cell_type": "code",
   "execution_count": 84,
   "metadata": {},
   "outputs": [],
   "source": [
    "def FFS(X,y):\n",
    "    from mlxtend.feature_selection import SequentialFeatureSelector as SFS\n",
    "    from sklearn.linear_model import LinearRegression\n",
    "    # Sequential Forward Selection(sfs)\n",
    "    sfs = SFS(LinearRegression(),\n",
    "              k_features=5,\n",
    "              forward=True,\n",
    "              scoring = 'r2',\n",
    "              cv = 5)\n",
    "    \"\"\"\n",
    "    LinearRegression() is an estimator for the entire process. Similarly, it can be any classification based algorithm.\n",
    "\n",
    "    k_features indicates the number of features to be selected. It can be any random value, but the optimal value can be found by analyzing and visualizing the scores for different numbers of features.\n",
    "\n",
    "    we give forward=True if we want forward feature selection\n",
    "\n",
    "    The scoring argument specifies the evaluation criterion to be used. For regression problems, there is only r2 score in default implementation. Similarly for classification, it can be accuracy, precision, recall, f1-score, etc.\n",
    "\n",
    "    cv argument is for k-fold cross-validation. \n",
    "\n",
    "    \"\"\"\n",
    "    sfs.fit(X, y)#doing the FFS\n",
    "    \n",
    "    return sfs.k_feature_names_"
   ]
  },
  {
   "cell_type": "code",
   "execution_count": 85,
   "metadata": {},
   "outputs": [
    {
     "data": {
      "text/plain": [
       "('Cust_number', 'Business_number', 'Cust_payment_terms', 'Week_is_5', 'due_m')"
      ]
     },
     "execution_count": 85,
     "metadata": {},
     "output_type": "execute_result"
    }
   ],
   "source": [
    "FFS(X_train,Y_train)"
   ]
  },
  {
   "cell_type": "code",
   "execution_count": 86,
   "metadata": {},
   "outputs": [],
   "source": [
    "def tree_based_feature_importance(x_train,y_train):\n",
    "    from sklearn.ensemble import RandomForestRegressor\n",
    "    # create the random forest model\n",
    "    model = RandomForestRegressor(n_estimators=120)\n",
    "\n",
    "    # fit the model to start training.\n",
    "    model.fit(x_train, y_train)\n",
    "\n",
    "    # get the importance of the resulting features.\n",
    "    importances = model.feature_importances_\n",
    "\n",
    "    # create a data frame for visualization.\n",
    "    final_df = pd.DataFrame({\"Features\": x_train.columns, \"Importances\":importances})\n",
    "    final_df.set_index('Importances')\n",
    "\n",
    "    # sort in descending order \n",
    "    final_df = final_df.sort_values('Importances',ascending=False)\n",
    "    \n",
    "    #visualising feature importance\n",
    "    pd.Series(model.feature_importances_, index=x_train.columns).nlargest(6).plot(kind='barh')  \n",
    "    return final_df"
   ]
  },
  {
   "cell_type": "code",
   "execution_count": 87,
   "metadata": {},
   "outputs": [
    {
     "data": {
      "image/png": "[encoded data removed]",
      "text/plain": [
       "<Figure size 432x288 with 1 Axes>"
      ]
     },
     "metadata": {
      "needs_background": "light"
     },
     "output_type": "display_data"
    }
   ],
   "source": [
    "feature_importance=tree_based_feature_importance(X_train,Y_train)#features importance data frame"
   ]
  },
  {
   "cell_type": "code",
   "execution_count": 88,
   "metadata": {},
   "outputs": [
    {
     "data": {
      "text/html": [
       "<div>\n",
       "<style scoped>\n",
       "    .dataframe tbody tr th:only-of-type {\n",
       "        vertical-align: middle;\n",
       "    }\n",
       "\n",
       "    .dataframe tbody tr th {\n",
       "        vertical-align: top;\n",
       "    }\n",
       "\n",
       "    .dataframe thead th {\n",
       "        text-align: right;\n",
       "    }\n",
       "</style>\n",
       "<table border=\"1\" class=\"dataframe\">\n",
       "  <thead>\n",
       "    <tr style=\"text-align: right;\">\n",
       "      <th></th>\n",
       "      <th>Features</th>\n",
       "      <th>Importances</th>\n",
       "    </tr>\n",
       "  </thead>\n",
       "  <tbody>\n",
       "    <tr>\n",
       "      <th>1</th>\n",
       "      <td>Cust_number</td>\n",
       "      <td>0.530288</td>\n",
       "    </tr>\n",
       "    <tr>\n",
       "      <th>0</th>\n",
       "      <td>total_open_amount</td>\n",
       "      <td>0.273377</td>\n",
       "    </tr>\n",
       "    <tr>\n",
       "      <th>3</th>\n",
       "      <td>Cust_payment_terms</td>\n",
       "      <td>0.087658</td>\n",
       "    </tr>\n",
       "    <tr>\n",
       "      <th>7</th>\n",
       "      <td>due_m</td>\n",
       "      <td>0.042136</td>\n",
       "    </tr>\n",
       "    <tr>\n",
       "      <th>8</th>\n",
       "      <td>create_m</td>\n",
       "      <td>0.032305</td>\n",
       "    </tr>\n",
       "    <tr>\n",
       "      <th>5</th>\n",
       "      <td>Week_is_5</td>\n",
       "      <td>0.010131</td>\n",
       "    </tr>\n",
       "    <tr>\n",
       "      <th>4</th>\n",
       "      <td>Week_is_2</td>\n",
       "      <td>0.009729</td>\n",
       "    </tr>\n",
       "    <tr>\n",
       "      <th>6</th>\n",
       "      <td>Quarter</td>\n",
       "      <td>0.009171</td>\n",
       "    </tr>\n",
       "    <tr>\n",
       "      <th>2</th>\n",
       "      <td>Business_number</td>\n",
       "      <td>0.005205</td>\n",
       "    </tr>\n",
       "  </tbody>\n",
       "</table>\n",
       "</div>"
      ],
      "text/plain": [
       "             Features  Importances\n",
       "1         Cust_number     0.530288\n",
       "0   total_open_amount     0.273377\n",
       "3  Cust_payment_terms     0.087658\n",
       "7               due_m     0.042136\n",
       "8            create_m     0.032305\n",
       "5           Week_is_5     0.010131\n",
       "4           Week_is_2     0.009729\n",
       "6             Quarter     0.009171\n",
       "2     Business_number     0.005205"
      ]
     },
     "metadata": {},
     "output_type": "display_data"
    }
   ],
   "source": [
    "display(feature_importance)"
   ]
  },
  {
   "cell_type": "code",
   "execution_count": 89,
   "metadata": {},
   "outputs": [],
   "source": [
    "X_train = x_train.drop(columns=['Delay','Week_is_2','Week_is_5','Quarter','Business_number'],axis=1)\n",
    "Y_train = x_train['Delay']\n",
    "X_test = val1.drop(columns=['Delay','Week_is_2','Week_is_5','Quarter','Business_number'],axis=1)\n",
    "Y_test = val1['Delay']\n"
   ]
  },
  {
   "cell_type": "code",
   "execution_count": 90,
   "metadata": {},
   "outputs": [],
   "source": [
    "MSE_Score = []\n",
    "R2_Score = []\n",
    "Algorithm = []"
   ]
  },
  {
   "cell_type": "code",
   "execution_count": 95,
   "metadata": {},
   "outputs": [],
   "source": [
    "Algorithm.append('Support Vector Regression')\n",
    "clf = SVR()\n",
    "clf.fit(X_train, Y_train)\n",
    "\n",
    "#Predicting the Test Set Results\n",
    "predicted = clf.predict(X_test)\n",
    "# Fitting Simple Linear Regression to the Training Set"
   ]
  },
  {
   "cell_type": "code",
   "execution_count": 96,
   "metadata": {},
   "outputs": [],
   "source": [
    "MSE_Score.append(mean_squared_error(Y_test, predicted))\n",
    "R2_Score.append(r2_score(Y_test, predicted))"
   ]
  },
  {
   "cell_type": "code",
   "execution_count": 97,
   "metadata": {},
   "outputs": [],
   "source": [
    "Comparison = pd.DataFrame(list(zip(Algorithm, MSE_Score, R2_Score)), columns = ['Algorithm', 'MSE_Score', 'R2_Score'])"
   ]
  },
  {
   "cell_type": "code",
   "execution_count": 98,
   "metadata": {},
   "outputs": [
    {
     "name": "stdout",
     "output_type": "stream",
     "text": [
      "56.74527050313928\n",
      "7.5329456723873545\n"
     ]
    }
   ],
   "source": [
    "print(mean_squared_error(Y_test, predicted))\n",
    "print(np.sqrt(np.mean((Y_test-predicted)**2)))"
   ]
  },
  {
   "cell_type": "code",
   "execution_count": 99,
   "metadata": {},
   "outputs": [
    {
     "ename": "ValueError",
     "evalue": "Classification metrics can't handle a mix of continuous and multiclass targets",
     "output_type": "error",
     "traceback": [
      "\u001b[1;31m---------------------------------------------------------------------------\u001b[0m",
      "\u001b[1;31mValueError\u001b[0m                                Traceback (most recent call last)",
      "\u001b[1;32m<ipython-input-99-d377a66b1010>\u001b[0m in \u001b[0;36m<module>\u001b[1;34m\u001b[0m\n\u001b[0;32m      1\u001b[0m \u001b[1;32mfrom\u001b[0m \u001b[0msklearn\u001b[0m \u001b[1;32mimport\u001b[0m \u001b[0mmetrics\u001b[0m\u001b[1;33m\u001b[0m\u001b[1;33m\u001b[0m\u001b[0m\n\u001b[1;32m----> 2\u001b[1;33m \u001b[0mprint\u001b[0m\u001b[1;33m(\u001b[0m\u001b[1;34m'acc='\u001b[0m\u001b[1;33m,\u001b[0m\u001b[0mmetrics\u001b[0m\u001b[1;33m.\u001b[0m\u001b[0maccuracy_score\u001b[0m\u001b[1;33m(\u001b[0m\u001b[0mpredicted\u001b[0m\u001b[1;33m,\u001b[0m\u001b[0mY_test\u001b[0m\u001b[1;33m)\u001b[0m\u001b[1;33m)\u001b[0m\u001b[1;33m\u001b[0m\u001b[1;33m\u001b[0m\u001b[0m\n\u001b[0m",
      "\u001b[1;32m~\\anaconda3\\lib\\site-packages\\sklearn\\metrics\\_classification.py\u001b[0m in \u001b[0;36maccuracy_score\u001b[1;34m(y_true, y_pred, normalize, sample_weight)\u001b[0m\n\u001b[0;32m    183\u001b[0m \u001b[1;33m\u001b[0m\u001b[0m\n\u001b[0;32m    184\u001b[0m     \u001b[1;31m# Compute accuracy for each possible representation\u001b[0m\u001b[1;33m\u001b[0m\u001b[1;33m\u001b[0m\u001b[1;33m\u001b[0m\u001b[0m\n\u001b[1;32m--> 185\u001b[1;33m     \u001b[0my_type\u001b[0m\u001b[1;33m,\u001b[0m \u001b[0my_true\u001b[0m\u001b[1;33m,\u001b[0m \u001b[0my_pred\u001b[0m \u001b[1;33m=\u001b[0m \u001b[0m_check_targets\u001b[0m\u001b[1;33m(\u001b[0m\u001b[0my_true\u001b[0m\u001b[1;33m,\u001b[0m \u001b[0my_pred\u001b[0m\u001b[1;33m)\u001b[0m\u001b[1;33m\u001b[0m\u001b[1;33m\u001b[0m\u001b[0m\n\u001b[0m\u001b[0;32m    186\u001b[0m     \u001b[0mcheck_consistent_length\u001b[0m\u001b[1;33m(\u001b[0m\u001b[0my_true\u001b[0m\u001b[1;33m,\u001b[0m \u001b[0my_pred\u001b[0m\u001b[1;33m,\u001b[0m \u001b[0msample_weight\u001b[0m\u001b[1;33m)\u001b[0m\u001b[1;33m\u001b[0m\u001b[1;33m\u001b[0m\u001b[0m\n\u001b[0;32m    187\u001b[0m     \u001b[1;32mif\u001b[0m \u001b[0my_type\u001b[0m\u001b[1;33m.\u001b[0m\u001b[0mstartswith\u001b[0m\u001b[1;33m(\u001b[0m\u001b[1;34m'multilabel'\u001b[0m\u001b[1;33m)\u001b[0m\u001b[1;33m:\u001b[0m\u001b[1;33m\u001b[0m\u001b[1;33m\u001b[0m\u001b[0m\n",
      "\u001b[1;32m~\\anaconda3\\lib\\site-packages\\sklearn\\metrics\\_classification.py\u001b[0m in \u001b[0;36m_check_targets\u001b[1;34m(y_true, y_pred)\u001b[0m\n\u001b[0;32m     88\u001b[0m     \u001b[1;32mif\u001b[0m \u001b[0mlen\u001b[0m\u001b[1;33m(\u001b[0m\u001b[0my_type\u001b[0m\u001b[1;33m)\u001b[0m \u001b[1;33m>\u001b[0m \u001b[1;36m1\u001b[0m\u001b[1;33m:\u001b[0m\u001b[1;33m\u001b[0m\u001b[1;33m\u001b[0m\u001b[0m\n\u001b[0;32m     89\u001b[0m         raise ValueError(\"Classification metrics can't handle a mix of {0} \"\n\u001b[1;32m---> 90\u001b[1;33m                          \"and {1} targets\".format(type_true, type_pred))\n\u001b[0m\u001b[0;32m     91\u001b[0m \u001b[1;33m\u001b[0m\u001b[0m\n\u001b[0;32m     92\u001b[0m     \u001b[1;31m# We can't have more than one value on y_type => The set is no more needed\u001b[0m\u001b[1;33m\u001b[0m\u001b[1;33m\u001b[0m\u001b[1;33m\u001b[0m\u001b[0m\n",
      "\u001b[1;31mValueError\u001b[0m: Classification metrics can't handle a mix of continuous and multiclass targets"
     ]
    }
   ],
   "source": [
    "from sklearn import metrics\n",
    "print('acc=',metrics.accuracy_score(predicted,Y_test))"
   ]
  },
  {
   "cell_type": "code",
   "execution_count": 255,
   "metadata": {},
   "outputs": [],
   "source": [
    "# Fitting Simple Linear Regression to the Training Set\n",
    "Algorithm.append('Linear Regression')\n",
    "clf = LinearRegression()\n",
    "clf.fit(X_train, Y_train)\n",
    "\n",
    "# Predicting the Test Set Results\n",
    "predicted = clf.predict(X_test)"
   ]
  },
  {
   "cell_type": "code",
   "execution_count": 256,
   "metadata": {},
   "outputs": [],
   "source": [
    "Comparison = pd.DataFrame(list(zip(Algorithm, MSE_Score, R2_Score)), columns = ['Algorithm', 'MSE_Score', 'R2_Score'])"
   ]
  },
  {
   "cell_type": "code",
   "execution_count": 257,
   "metadata": {},
   "outputs": [],
   "source": [
    "MSE_Score.append(mean_squared_error(Y_test, predicted))\n",
    "R2_Score.append(r2_score(Y_test, predicted))"
   ]
  },
  {
   "cell_type": "code",
   "execution_count": 258,
   "metadata": {},
   "outputs": [
    {
     "name": "stdout",
     "output_type": "stream",
     "text": [
      "19.230195166628004\n",
      "4.385224642664049\n"
     ]
    }
   ],
   "source": [
    "print(mean_squared_error(Y_test, predicted))\n",
    "print(np.sqrt(np.mean((Y_test-predicted)**2)))"
   ]
  },
  {
   "cell_type": "code",
   "execution_count": 259,
   "metadata": {},
   "outputs": [],
   "source": [
    "Algorithm.append('Random Forest Regressor')\n",
    "clf = RandomForestRegressor()\n",
    "clf.fit(X_train, Y_train)\n",
    "\n",
    "# Predicting the Test Set Results\n",
    "predicted = clf.predict(X_test)"
   ]
  },
  {
   "cell_type": "code",
   "execution_count": 260,
   "metadata": {},
   "outputs": [
    {
     "name": "stdout",
     "output_type": "stream",
     "text": [
      "38.519390581708755\n",
      "6.206399163904042\n"
     ]
    }
   ],
   "source": [
    "print(mean_squared_error(Y_test, predicted))\n",
    "print(np.sqrt(np.mean((Y_test-predicted)**2)))"
   ]
  },
  {
   "cell_type": "code",
   "execution_count": 261,
   "metadata": {},
   "outputs": [],
   "source": [
    "Comparison = pd.DataFrame(list(zip(Algorithm, MSE_Score, R2_Score)), columns = ['Algorithm', 'MSE_Score', 'R2_Score'])"
   ]
  },
  {
   "cell_type": "code",
   "execution_count": 262,
   "metadata": {},
   "outputs": [
    {
     "data": {
      "text/html": [
       "<div>\n",
       "<style scoped>\n",
       "    .dataframe tbody tr th:only-of-type {\n",
       "        vertical-align: middle;\n",
       "    }\n",
       "\n",
       "    .dataframe tbody tr th {\n",
       "        vertical-align: top;\n",
       "    }\n",
       "\n",
       "    .dataframe thead th {\n",
       "        text-align: right;\n",
       "    }\n",
       "</style>\n",
       "<table border=\"1\" class=\"dataframe\">\n",
       "  <thead>\n",
       "    <tr style=\"text-align: right;\">\n",
       "      <th></th>\n",
       "      <th>Algorithm</th>\n",
       "      <th>MSE_Score</th>\n",
       "      <th>R2_Score</th>\n",
       "    </tr>\n",
       "  </thead>\n",
       "  <tbody>\n",
       "    <tr>\n",
       "      <th>0</th>\n",
       "      <td>Support Vector Regression</td>\n",
       "      <td>56.745271</td>\n",
       "      <td>-0.002886</td>\n",
       "    </tr>\n",
       "    <tr>\n",
       "      <th>1</th>\n",
       "      <td>Linear Regression</td>\n",
       "      <td>19.230195</td>\n",
       "      <td>0.660136</td>\n",
       "    </tr>\n",
       "  </tbody>\n",
       "</table>\n",
       "</div>"
      ],
      "text/plain": [
       "                   Algorithm  MSE_Score  R2_Score\n",
       "0  Support Vector Regression  56.745271 -0.002886\n",
       "1          Linear Regression  19.230195  0.660136"
      ]
     },
     "execution_count": 262,
     "metadata": {},
     "output_type": "execute_result"
    }
   ],
   "source": [
    "Comparison"
   ]
  },
  {
   "cell_type": "markdown",
   "metadata": {},
   "source": [
    "# TRAIN TEST"
   ]
  },
  {
   "cell_type": "code",
   "execution_count": 263,
   "metadata": {},
   "outputs": [],
   "source": [
    "X_train = x_train.drop(columns=['Delay','Week_is_2','Week_is_5','Quarter','Business_number'],axis=1)\n",
    "Y_train = x_train['Delay']\n",
    "X_test = val2.drop(columns=['Delay','Week_is_2','Week_is_5','Quarter','Business_number'],axis=1)\n",
    "Y_test = val2['Delay']"
   ]
  },
  {
   "cell_type": "code",
   "execution_count": 264,
   "metadata": {},
   "outputs": [],
   "source": [
    "MSE_Score = []\n",
    "R2_Score = []\n",
    "Algorithm = []"
   ]
  },
  {
   "cell_type": "code",
   "execution_count": 265,
   "metadata": {},
   "outputs": [],
   "source": [
    "Algorithm.append('Random Forest Regressor')\n",
    "clf = RandomForestRegressor()\n",
    "clf.fit(X_train, Y_train)\n",
    "\n",
    "# Predicting the Test Set Results\n",
    "predicted = clf.predict(X_test)"
   ]
  },
  {
   "cell_type": "code",
   "execution_count": 266,
   "metadata": {},
   "outputs": [],
   "source": [
    "Final = pd.DataFrame(list(zip(Algorithm, MSE_Score, R2_Score)), columns = ['Algorithm', 'MSE_Score', 'R2_Score'])"
   ]
  },
  {
   "cell_type": "code",
   "execution_count": 267,
   "metadata": {},
   "outputs": [],
   "source": [
    "MSE_Score.append(mean_squared_error(Y_test, predicted))\n",
    "R2_Score.append(r2_score(Y_test, predicted))"
   ]
  },
  {
   "cell_type": "code",
   "execution_count": 268,
   "metadata": {},
   "outputs": [
    {
     "name": "stdout",
     "output_type": "stream",
     "text": [
      "70.4722783574233\n",
      "8.394776849769338\n",
      "0.3581805207135682\n"
     ]
    }
   ],
   "source": [
    "print(mean_squared_error(Y_test, predicted))\n",
    "print(np.sqrt(np.mean((Y_test-predicted)**2)))\n",
    "print(r2_score(Y_test, predicted))"
   ]
  },
  {
   "cell_type": "markdown",
   "metadata": {},
   "source": [
    "# Predicting and Wrapping Up"
   ]
  },
  {
   "cell_type": "code",
   "execution_count": 270,
   "metadata": {},
   "outputs": [],
   "source": [
    "testb['Delay']=''"
   ]
  },
  {
   "cell_type": "code",
   "execution_count": 271,
   "metadata": {},
   "outputs": [
    {
     "data": {
      "text/html": [
       "<div>\n",
       "<style scoped>\n",
       "    .dataframe tbody tr th:only-of-type {\n",
       "        vertical-align: middle;\n",
       "    }\n",
       "\n",
       "    .dataframe tbody tr th {\n",
       "        vertical-align: top;\n",
       "    }\n",
       "\n",
       "    .dataframe thead th {\n",
       "        text-align: right;\n",
       "    }\n",
       "</style>\n",
       "<table border=\"1\" class=\"dataframe\">\n",
       "  <thead>\n",
       "    <tr style=\"text-align: right;\">\n",
       "      <th></th>\n",
       "      <th>business_code</th>\n",
       "      <th>cust_number</th>\n",
       "      <th>name_customer</th>\n",
       "      <th>clear_date</th>\n",
       "      <th>document_create_date.1</th>\n",
       "      <th>due_in_date</th>\n",
       "      <th>invoice_currency</th>\n",
       "      <th>total_open_amount</th>\n",
       "      <th>cust_payment_terms</th>\n",
       "      <th>Delay</th>\n",
       "    </tr>\n",
       "  </thead>\n",
       "  <tbody>\n",
       "    <tr>\n",
       "      <th>46506</th>\n",
       "      <td>U001</td>\n",
       "      <td>0200707005</td>\n",
       "      <td>KING S llc</td>\n",
       "      <td>NaT</td>\n",
       "      <td>2020-03-02</td>\n",
       "      <td>2020-03-17</td>\n",
       "      <td>USD</td>\n",
       "      <td>48580.92</td>\n",
       "      <td>NAA8</td>\n",
       "      <td></td>\n",
       "    </tr>\n",
       "    <tr>\n",
       "      <th>46507</th>\n",
       "      <td>U001</td>\n",
       "      <td>0200743618</td>\n",
       "      <td>MASON foundation</td>\n",
       "      <td>NaT</td>\n",
       "      <td>2020-03-30</td>\n",
       "      <td>2020-04-14</td>\n",
       "      <td>USD</td>\n",
       "      <td>3004.40</td>\n",
       "      <td>NAA8</td>\n",
       "      <td></td>\n",
       "    </tr>\n",
       "    <tr>\n",
       "      <th>46508</th>\n",
       "      <td>U001</td>\n",
       "      <td>0200769623</td>\n",
       "      <td>WAL-MAR trust</td>\n",
       "      <td>NaT</td>\n",
       "      <td>2020-03-08</td>\n",
       "      <td>2020-03-23</td>\n",
       "      <td>USD</td>\n",
       "      <td>45269.49</td>\n",
       "      <td>NAH4</td>\n",
       "      <td></td>\n",
       "    </tr>\n",
       "    <tr>\n",
       "      <th>46509</th>\n",
       "      <td>U001</td>\n",
       "      <td>0200762950</td>\n",
       "      <td>HAR us</td>\n",
       "      <td>NaT</td>\n",
       "      <td>2020-04-22</td>\n",
       "      <td>2020-05-07</td>\n",
       "      <td>USD</td>\n",
       "      <td>44366.40</td>\n",
       "      <td>NAA8</td>\n",
       "      <td></td>\n",
       "    </tr>\n",
       "    <tr>\n",
       "      <th>46510</th>\n",
       "      <td>U001</td>\n",
       "      <td>0200707822</td>\n",
       "      <td>PUBLI</td>\n",
       "      <td>NaT</td>\n",
       "      <td>2020-05-05</td>\n",
       "      <td>2020-05-20</td>\n",
       "      <td>USD</td>\n",
       "      <td>95749.28</td>\n",
       "      <td>NAA8</td>\n",
       "      <td></td>\n",
       "    </tr>\n",
       "  </tbody>\n",
       "</table>\n",
       "</div>"
      ],
      "text/plain": [
       "      business_code cust_number     name_customer clear_date  \\\n",
       "46506          U001  0200707005        KING S llc        NaT   \n",
       "46507          U001  0200743618  MASON foundation        NaT   \n",
       "46508          U001  0200769623     WAL-MAR trust        NaT   \n",
       "46509          U001  0200762950            HAR us        NaT   \n",
       "46510          U001  0200707822            PUBLI         NaT   \n",
       "\n",
       "      document_create_date.1 due_in_date invoice_currency  total_open_amount  \\\n",
       "46506             2020-03-02  2020-03-17              USD           48580.92   \n",
       "46507             2020-03-30  2020-04-14              USD            3004.40   \n",
       "46508             2020-03-08  2020-03-23              USD           45269.49   \n",
       "46509             2020-04-22  2020-05-07              USD           44366.40   \n",
       "46510             2020-05-05  2020-05-20              USD           95749.28   \n",
       "\n",
       "      cust_payment_terms Delay  \n",
       "46506               NAA8        \n",
       "46507               NAA8        \n",
       "46508               NAH4        \n",
       "46509               NAA8        \n",
       "46510               NAA8        "
      ]
     },
     "execution_count": 271,
     "metadata": {},
     "output_type": "execute_result"
    }
   ],
   "source": [
    "testb.head()"
   ]
  },
  {
   "cell_type": "code",
   "execution_count": 272,
   "metadata": {},
   "outputs": [
    {
     "data": {
      "text/plain": [
       "17"
      ]
     },
     "execution_count": 272,
     "metadata": {},
     "output_type": "execute_result"
    }
   ],
   "source": [
    "check81 = (testb['document_create_date.1'] > testb['due_in_date']).sum()\n",
    "check81"
   ]
  },
  {
   "cell_type": "code",
   "execution_count": 273,
   "metadata": {},
   "outputs": [
    {
     "data": {
      "text/plain": [
       "0"
      ]
     },
     "execution_count": 273,
     "metadata": {},
     "output_type": "execute_result"
    }
   ],
   "source": [
    "check31 = (testb['total_open_amount'] < 0).sum()\n",
    "check31"
   ]
  },
  {
   "cell_type": "code",
   "execution_count": 274,
   "metadata": {},
   "outputs": [],
   "source": [
    "testb['Weekday']=testb['document_create_date.1'].dt.weekday"
   ]
  },
  {
   "cell_type": "code",
   "execution_count": 275,
   "metadata": {},
   "outputs": [],
   "source": [
    "testb['total_open_amount'] = np.where(testb['total_open_amount']=='CAD',0.78*testb['total_open_amount'],testb['total_open_amount'])"
   ]
  },
  {
   "cell_type": "code",
   "execution_count": 276,
   "metadata": {},
   "outputs": [],
   "source": [
    "testb = testb.merge(encode2, how='left', on='cust_number')\n",
    "testb.rename(columns={'Delay_x':'Delay','Delay_y':'cust_number_mean'},inplace=True)\n",
    "\n",
    "testb['cust_number_mean'][testb['cust_number_mean'].isnull()]=x_train['Delay'].mean()"
   ]
  },
  {
   "cell_type": "code",
   "execution_count": 277,
   "metadata": {},
   "outputs": [],
   "source": [
    "testb = testb.merge(encode3, how='left', on='cust_payment_terms')\n",
    "testb.rename(columns={'Delay_x':'Delay','Delay_y':'cust_pt_mean'},inplace=True)\n",
    "\n",
    "testb['cust_pt_mean'][testb['cust_pt_mean'].isnull()]=x_train['Delay'].mean()"
   ]
  },
  {
   "cell_type": "code",
   "execution_count": 278,
   "metadata": {},
   "outputs": [],
   "source": [
    "testb['due_m'] = testb['due_in_date'].dt.month\n",
    "testb['create_m'] = testb['document_create_date.1'].dt.month"
   ]
  },
  {
   "cell_type": "code",
   "execution_count": 279,
   "metadata": {},
   "outputs": [],
   "source": [
    "testb.drop(columns=['business_code','name_customer','document_create_date.1','invoice_currency'],axis=1,inplace=True)"
   ]
  },
  {
   "cell_type": "code",
   "execution_count": 280,
   "metadata": {},
   "outputs": [
    {
     "data": {
      "text/html": [
       "<div>\n",
       "<style scoped>\n",
       "    .dataframe tbody tr th:only-of-type {\n",
       "        vertical-align: middle;\n",
       "    }\n",
       "\n",
       "    .dataframe tbody tr th {\n",
       "        vertical-align: top;\n",
       "    }\n",
       "\n",
       "    .dataframe thead th {\n",
       "        text-align: right;\n",
       "    }\n",
       "</style>\n",
       "<table border=\"1\" class=\"dataframe\">\n",
       "  <thead>\n",
       "    <tr style=\"text-align: right;\">\n",
       "      <th></th>\n",
       "      <th>total_open_amount</th>\n",
       "      <th>Delay</th>\n",
       "      <th>Cust_number</th>\n",
       "      <th>Business_number</th>\n",
       "      <th>Cust_payment_terms</th>\n",
       "      <th>Week_is_2</th>\n",
       "      <th>Week_is_5</th>\n",
       "      <th>Quarter</th>\n",
       "      <th>due_m</th>\n",
       "      <th>create_m</th>\n",
       "    </tr>\n",
       "  </thead>\n",
       "  <tbody>\n",
       "    <tr>\n",
       "      <th>35791</th>\n",
       "      <td>11025.27</td>\n",
       "      <td>-5</td>\n",
       "      <td>-2.125443</td>\n",
       "      <td>0.822171</td>\n",
       "      <td>-1.775266</td>\n",
       "      <td>0</td>\n",
       "      <td>0</td>\n",
       "      <td>4</td>\n",
       "      <td>1</td>\n",
       "      <td>12</td>\n",
       "    </tr>\n",
       "    <tr>\n",
       "      <th>18481</th>\n",
       "      <td>114737.60</td>\n",
       "      <td>-5</td>\n",
       "      <td>-1.812183</td>\n",
       "      <td>0.822171</td>\n",
       "      <td>1.354415</td>\n",
       "      <td>0</td>\n",
       "      <td>0</td>\n",
       "      <td>4</td>\n",
       "      <td>1</td>\n",
       "      <td>12</td>\n",
       "    </tr>\n",
       "    <tr>\n",
       "      <th>42361</th>\n",
       "      <td>5506.22</td>\n",
       "      <td>-5</td>\n",
       "      <td>-2.125443</td>\n",
       "      <td>0.822171</td>\n",
       "      <td>-1.775266</td>\n",
       "      <td>0</td>\n",
       "      <td>0</td>\n",
       "      <td>4</td>\n",
       "      <td>1</td>\n",
       "      <td>12</td>\n",
       "    </tr>\n",
       "    <tr>\n",
       "      <th>32638</th>\n",
       "      <td>12202.50</td>\n",
       "      <td>3</td>\n",
       "      <td>-2.125443</td>\n",
       "      <td>0.822171</td>\n",
       "      <td>-1.775266</td>\n",
       "      <td>0</td>\n",
       "      <td>0</td>\n",
       "      <td>4</td>\n",
       "      <td>1</td>\n",
       "      <td>12</td>\n",
       "    </tr>\n",
       "    <tr>\n",
       "      <th>7561</th>\n",
       "      <td>16663.36</td>\n",
       "      <td>-4</td>\n",
       "      <td>-2.125443</td>\n",
       "      <td>0.822171</td>\n",
       "      <td>-1.775266</td>\n",
       "      <td>0</td>\n",
       "      <td>0</td>\n",
       "      <td>4</td>\n",
       "      <td>1</td>\n",
       "      <td>12</td>\n",
       "    </tr>\n",
       "  </tbody>\n",
       "</table>\n",
       "</div>"
      ],
      "text/plain": [
       "       total_open_amount  Delay  Cust_number  Business_number  \\\n",
       "35791           11025.27     -5    -2.125443         0.822171   \n",
       "18481          114737.60     -5    -1.812183         0.822171   \n",
       "42361            5506.22     -5    -2.125443         0.822171   \n",
       "32638           12202.50      3    -2.125443         0.822171   \n",
       "7561            16663.36     -4    -2.125443         0.822171   \n",
       "\n",
       "       Cust_payment_terms  Week_is_2  Week_is_5  Quarter  due_m  create_m  \n",
       "35791           -1.775266          0          0        4      1        12  \n",
       "18481            1.354415          0          0        4      1        12  \n",
       "42361           -1.775266          0          0        4      1        12  \n",
       "32638           -1.775266          0          0        4      1        12  \n",
       "7561            -1.775266          0          0        4      1        12  "
      ]
     },
     "execution_count": 280,
     "metadata": {},
     "output_type": "execute_result"
    }
   ],
   "source": [
    "x_train.head()"
   ]
  },
  {
   "cell_type": "code",
   "execution_count": 281,
   "metadata": {},
   "outputs": [],
   "source": [
    "X_train = x_train.drop(columns=['Delay','Cust_number','Cust_payment_terms'],axis=1)\n",
    "Y_train = x_train['Delay']\n",
    "X_test = testb.drop(columns=['Delay','due_in_date','cust_number','cust_payment_terms','clear_date'],axis=1)\n",
    "Y_test = testb['Delay']"
   ]
  },
  {
   "cell_type": "code",
   "execution_count": 282,
   "metadata": {},
   "outputs": [
    {
     "data": {
      "text/html": [
       "<div>\n",
       "<style scoped>\n",
       "    .dataframe tbody tr th:only-of-type {\n",
       "        vertical-align: middle;\n",
       "    }\n",
       "\n",
       "    .dataframe tbody tr th {\n",
       "        vertical-align: top;\n",
       "    }\n",
       "\n",
       "    .dataframe thead th {\n",
       "        text-align: right;\n",
       "    }\n",
       "</style>\n",
       "<table border=\"1\" class=\"dataframe\">\n",
       "  <thead>\n",
       "    <tr style=\"text-align: right;\">\n",
       "      <th></th>\n",
       "      <th>total_open_amount</th>\n",
       "      <th>Weekday</th>\n",
       "      <th>cust_number_mean</th>\n",
       "      <th>cust_pt_mean</th>\n",
       "      <th>due_m</th>\n",
       "      <th>create_m</th>\n",
       "    </tr>\n",
       "  </thead>\n",
       "  <tbody>\n",
       "    <tr>\n",
       "      <th>0</th>\n",
       "      <td>48580.92</td>\n",
       "      <td>0</td>\n",
       "      <td>0.457831</td>\n",
       "      <td>1.354415</td>\n",
       "      <td>3</td>\n",
       "      <td>3</td>\n",
       "    </tr>\n",
       "    <tr>\n",
       "      <th>1</th>\n",
       "      <td>3004.40</td>\n",
       "      <td>0</td>\n",
       "      <td>0.333333</td>\n",
       "      <td>1.354415</td>\n",
       "      <td>4</td>\n",
       "      <td>3</td>\n",
       "    </tr>\n",
       "    <tr>\n",
       "      <th>2</th>\n",
       "      <td>45269.49</td>\n",
       "      <td>6</td>\n",
       "      <td>-2.125443</td>\n",
       "      <td>-1.775266</td>\n",
       "      <td>3</td>\n",
       "      <td>3</td>\n",
       "    </tr>\n",
       "    <tr>\n",
       "      <th>3</th>\n",
       "      <td>44366.40</td>\n",
       "      <td>2</td>\n",
       "      <td>-0.166667</td>\n",
       "      <td>1.354415</td>\n",
       "      <td>5</td>\n",
       "      <td>4</td>\n",
       "    </tr>\n",
       "    <tr>\n",
       "      <th>4</th>\n",
       "      <td>95749.28</td>\n",
       "      <td>1</td>\n",
       "      <td>0.855814</td>\n",
       "      <td>1.354415</td>\n",
       "      <td>5</td>\n",
       "      <td>5</td>\n",
       "    </tr>\n",
       "  </tbody>\n",
       "</table>\n",
       "</div>"
      ],
      "text/plain": [
       "   total_open_amount  Weekday  cust_number_mean  cust_pt_mean  due_m  create_m\n",
       "0           48580.92        0          0.457831      1.354415      3         3\n",
       "1            3004.40        0          0.333333      1.354415      4         3\n",
       "2           45269.49        6         -2.125443     -1.775266      3         3\n",
       "3           44366.40        2         -0.166667      1.354415      5         4\n",
       "4           95749.28        1          0.855814      1.354415      5         5"
      ]
     },
     "execution_count": 282,
     "metadata": {},
     "output_type": "execute_result"
    }
   ],
   "source": [
    "X_test.head()"
   ]
  },
  {
   "cell_type": "code",
   "execution_count": 283,
   "metadata": {},
   "outputs": [
    {
     "data": {
      "text/plain": [
       "cust_number              0\n",
       "clear_date            3494\n",
       "due_in_date              0\n",
       "total_open_amount        0\n",
       "cust_payment_terms       0\n",
       "Delay                    0\n",
       "Weekday                  0\n",
       "cust_number_mean         0\n",
       "cust_pt_mean             0\n",
       "due_m                    0\n",
       "create_m                 0\n",
       "dtype: int64"
      ]
     },
     "execution_count": 283,
     "metadata": {},
     "output_type": "execute_result"
    }
   ],
   "source": [
    "testb.isnull().sum()"
   ]
  },
  {
   "cell_type": "code",
   "execution_count": 284,
   "metadata": {},
   "outputs": [],
   "source": [
    "X_train = X_train.drop(columns=['Business_number'],axis=1)"
   ]
  },
  {
   "cell_type": "code",
   "execution_count": 285,
   "metadata": {},
   "outputs": [
    {
     "data": {
      "text/plain": [
       "LinearRegression(copy_X=True, fit_intercept=True, n_jobs=None, normalize=False)"
      ]
     },
     "execution_count": 285,
     "metadata": {},
     "output_type": "execute_result"
    }
   ],
   "source": [
    "Algorithm.append('Linear Regression')\n",
    "clf = LinearRegression()\n",
    "clf.fit(X_train, Y_train)\n",
    "\n"
   ]
  },
  {
   "cell_type": "code",
   "execution_count": 286,
   "metadata": {},
   "outputs": [],
   "source": [
    "Algorithm.append('Support Vector Regression')\n",
    "clf = SVR()\n",
    "clf.fit(X_train, Y_train)\n",
    "\n",
    "# Predicting the Test Set Results\n",
    "predicted = clf.predict(X_test)\n",
    "# Fitting Simple Linear Regression to the Training Set"
   ]
  },
  {
   "cell_type": "code",
   "execution_count": 287,
   "metadata": {},
   "outputs": [],
   "source": [
    "# Predicting the Test Set Results\n",
    "predicted = clf.predict(X_test)"
   ]
  },
  {
   "cell_type": "code",
   "execution_count": 288,
   "metadata": {},
   "outputs": [
    {
     "data": {
      "text/html": [
       "<div>\n",
       "<style scoped>\n",
       "    .dataframe tbody tr th:only-of-type {\n",
       "        vertical-align: middle;\n",
       "    }\n",
       "\n",
       "    .dataframe tbody tr th {\n",
       "        vertical-align: top;\n",
       "    }\n",
       "\n",
       "    .dataframe thead th {\n",
       "        text-align: right;\n",
       "    }\n",
       "</style>\n",
       "<table border=\"1\" class=\"dataframe\">\n",
       "  <thead>\n",
       "    <tr style=\"text-align: right;\">\n",
       "      <th></th>\n",
       "      <th>total_open_amount</th>\n",
       "      <th>Weekday</th>\n",
       "      <th>cust_number_mean</th>\n",
       "      <th>cust_pt_mean</th>\n",
       "      <th>due_m</th>\n",
       "      <th>create_m</th>\n",
       "    </tr>\n",
       "  </thead>\n",
       "  <tbody>\n",
       "    <tr>\n",
       "      <th>0</th>\n",
       "      <td>48580.92</td>\n",
       "      <td>0</td>\n",
       "      <td>0.457831</td>\n",
       "      <td>1.354415</td>\n",
       "      <td>3</td>\n",
       "      <td>3</td>\n",
       "    </tr>\n",
       "    <tr>\n",
       "      <th>1</th>\n",
       "      <td>3004.40</td>\n",
       "      <td>0</td>\n",
       "      <td>0.333333</td>\n",
       "      <td>1.354415</td>\n",
       "      <td>4</td>\n",
       "      <td>3</td>\n",
       "    </tr>\n",
       "    <tr>\n",
       "      <th>2</th>\n",
       "      <td>45269.49</td>\n",
       "      <td>6</td>\n",
       "      <td>-2.125443</td>\n",
       "      <td>-1.775266</td>\n",
       "      <td>3</td>\n",
       "      <td>3</td>\n",
       "    </tr>\n",
       "    <tr>\n",
       "      <th>3</th>\n",
       "      <td>44366.40</td>\n",
       "      <td>2</td>\n",
       "      <td>-0.166667</td>\n",
       "      <td>1.354415</td>\n",
       "      <td>5</td>\n",
       "      <td>4</td>\n",
       "    </tr>\n",
       "    <tr>\n",
       "      <th>4</th>\n",
       "      <td>95749.28</td>\n",
       "      <td>1</td>\n",
       "      <td>0.855814</td>\n",
       "      <td>1.354415</td>\n",
       "      <td>5</td>\n",
       "      <td>5</td>\n",
       "    </tr>\n",
       "  </tbody>\n",
       "</table>\n",
       "</div>"
      ],
      "text/plain": [
       "   total_open_amount  Weekday  cust_number_mean  cust_pt_mean  due_m  create_m\n",
       "0           48580.92        0          0.457831      1.354415      3         3\n",
       "1            3004.40        0          0.333333      1.354415      4         3\n",
       "2           45269.49        6         -2.125443     -1.775266      3         3\n",
       "3           44366.40        2         -0.166667      1.354415      5         4\n",
       "4           95749.28        1          0.855814      1.354415      5         5"
      ]
     },
     "execution_count": 288,
     "metadata": {},
     "output_type": "execute_result"
    }
   ],
   "source": [
    "X_test.head()"
   ]
  },
  {
   "cell_type": "code",
   "execution_count": 289,
   "metadata": {},
   "outputs": [
    {
     "data": {
      "text/html": [
       "<div>\n",
       "<style scoped>\n",
       "    .dataframe tbody tr th:only-of-type {\n",
       "        vertical-align: middle;\n",
       "    }\n",
       "\n",
       "    .dataframe tbody tr th {\n",
       "        vertical-align: top;\n",
       "    }\n",
       "\n",
       "    .dataframe thead th {\n",
       "        text-align: right;\n",
       "    }\n",
       "</style>\n",
       "<table border=\"1\" class=\"dataframe\">\n",
       "  <thead>\n",
       "    <tr style=\"text-align: right;\">\n",
       "      <th></th>\n",
       "      <th>total_open_amount</th>\n",
       "      <th>Week_is_2</th>\n",
       "      <th>Week_is_5</th>\n",
       "      <th>Quarter</th>\n",
       "      <th>due_m</th>\n",
       "      <th>create_m</th>\n",
       "    </tr>\n",
       "  </thead>\n",
       "  <tbody>\n",
       "    <tr>\n",
       "      <th>35791</th>\n",
       "      <td>11025.27</td>\n",
       "      <td>0</td>\n",
       "      <td>0</td>\n",
       "      <td>4</td>\n",
       "      <td>1</td>\n",
       "      <td>12</td>\n",
       "    </tr>\n",
       "    <tr>\n",
       "      <th>18481</th>\n",
       "      <td>114737.60</td>\n",
       "      <td>0</td>\n",
       "      <td>0</td>\n",
       "      <td>4</td>\n",
       "      <td>1</td>\n",
       "      <td>12</td>\n",
       "    </tr>\n",
       "    <tr>\n",
       "      <th>42361</th>\n",
       "      <td>5506.22</td>\n",
       "      <td>0</td>\n",
       "      <td>0</td>\n",
       "      <td>4</td>\n",
       "      <td>1</td>\n",
       "      <td>12</td>\n",
       "    </tr>\n",
       "    <tr>\n",
       "      <th>32638</th>\n",
       "      <td>12202.50</td>\n",
       "      <td>0</td>\n",
       "      <td>0</td>\n",
       "      <td>4</td>\n",
       "      <td>1</td>\n",
       "      <td>12</td>\n",
       "    </tr>\n",
       "    <tr>\n",
       "      <th>7561</th>\n",
       "      <td>16663.36</td>\n",
       "      <td>0</td>\n",
       "      <td>0</td>\n",
       "      <td>4</td>\n",
       "      <td>1</td>\n",
       "      <td>12</td>\n",
       "    </tr>\n",
       "  </tbody>\n",
       "</table>\n",
       "</div>"
      ],
      "text/plain": [
       "       total_open_amount  Week_is_2  Week_is_5  Quarter  due_m  create_m\n",
       "35791           11025.27          0          0        4      1        12\n",
       "18481          114737.60          0          0        4      1        12\n",
       "42361            5506.22          0          0        4      1        12\n",
       "32638           12202.50          0          0        4      1        12\n",
       "7561            16663.36          0          0        4      1        12"
      ]
     },
     "execution_count": 289,
     "metadata": {},
     "output_type": "execute_result"
    }
   ],
   "source": [
    "X_train.head()"
   ]
  },
  {
   "cell_type": "code",
   "execution_count": 290,
   "metadata": {},
   "outputs": [],
   "source": [
    "testb['Delay']=predicted"
   ]
  },
  {
   "cell_type": "code",
   "execution_count": 291,
   "metadata": {},
   "outputs": [],
   "source": [
    "testb['Delay']=testb['Delay'].astype(int)"
   ]
  },
  {
   "cell_type": "code",
   "execution_count": 292,
   "metadata": {},
   "outputs": [],
   "source": [
    "temp = testb['Delay'].apply(np.ceil).apply(lambda x: pd.Timedelta(x, unit='D'))\n",
    "testb['clear_date'] = testb['due_in_date'] + temp"
   ]
  },
  {
   "cell_type": "code",
   "execution_count": 293,
   "metadata": {},
   "outputs": [],
   "source": [
    "bin_ranges=[-365,15,30,45,60,365]\n",
    "bin_names=[\"0-15 days\",\"16-30 days\",\"30-45 days\",\"45-60 days\",\">60 days\"]\n",
    "testb['Aging bucket'] = pd.cut( np.array(testb['Delay']),bins=bin_ranges)\n",
    "testb['Aging bucket'] = pd.cut( np.array(testb['Delay']),bins=bin_ranges, labels=bin_names)"
   ]
  },
  {
   "cell_type": "code",
   "execution_count": 294,
   "metadata": {},
   "outputs": [],
   "source": [
    "import csv\n",
    "testb.to_csv('1828259_HRC.csv',index=False)"
   ]
  },
  {
   "cell_type": "code",
   "execution_count": null,
   "metadata": {},
   "outputs": [],
   "source": []
  }
 ],
 "metadata": {
  "kernelspec": {
   "display_name": "Python 3",
   "language": "python",
   "name": "python3"
  },
  "language_info": {
   "codemirror_mode": {
    "name": "ipython",
    "version": 3
   },
   "file_extension": ".py",
   "mimetype": "text/x-python",
   "name": "python",
   "nbconvert_exporter": "python",
   "pygments_lexer": "ipython3",
   "version": "3.7.6"
  }
 },
 "nbformat": 4,
 "nbformat_minor": 4
}
