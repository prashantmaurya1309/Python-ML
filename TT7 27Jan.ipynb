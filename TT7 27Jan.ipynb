{
 "cells": [
  {
   "cell_type": "code",
   "execution_count": 6,
   "metadata": {},
   "outputs": [
    {
     "name": "stdout",
     "output_type": "stream",
     "text": [
      "Enter the number of lines:5\n",
      "**********\n",
      "****  ****\n",
      "***    ***\n",
      "**      **\n",
      "*        *\n"
     ]
    }
   ],
   "source": [
    "def pat(n):\n",
    "    for i in range(n,0,-1):\n",
    "        print('*'*i+' '*((5-i)*2)+'*'*i)\n",
    "x=int(input('Enter the number of lines:'))\n",
    "pat(x)"
   ]
  },
  {
   "cell_type": "code",
   "execution_count": 9,
   "metadata": {},
   "outputs": [
    {
     "name": "stdout",
     "output_type": "stream",
     "text": [
      "Enter the number: 7\n",
      "Not perfect number you need to work harder!!\n"
     ]
    }
   ],
   "source": [
    "def perfect(n):\n",
    "    s=0\n",
    "    for i in range(1,n):\n",
    "        if(n%i ==0):\n",
    "            s=s+i\n",
    "    if(s==n):\n",
    "        print('Perfect Number')\n",
    "    else:\n",
    "        print('Not perfect number you need to work harder!!')\n",
    "x=int(input('Enter the number: '))\n",
    "perfect(x)"
   ]
  },
  {
   "cell_type": "code",
   "execution_count": 23,
   "metadata": {},
   "outputs": [
    {
     "name": "stdout",
     "output_type": "stream",
     "text": [
      "Enter the number: 44\n",
      "Not Armstrong Number\n"
     ]
    }
   ],
   "source": [
    "def armstrong(n):\n",
    "    m=n\n",
    "    c=0\n",
    "    while(n>0):\n",
    "        p=n%10\n",
    "        c=c+p**3\n",
    "        n=n//10\n",
    "    if(m==c):\n",
    "        print('Armstrong Number')\n",
    "    else:\n",
    "        print('Not Armstrong Number')\n",
    "\n",
    "x=int(input('Enter the number: '))\n",
    "armstrong(x)"
   ]
  },
  {
   "cell_type": "code",
   "execution_count": null,
   "metadata": {},
   "outputs": [],
   "source": []
  },
  {
   "cell_type": "code",
   "execution_count": 5,
   "metadata": {},
   "outputs": [
    {
     "name": "stdout",
     "output_type": "stream",
     "text": [
      "enter n:6\n"
     ]
    },
    {
     "data": {
      "text/plain": [
       "[1, 3, 5]"
      ]
     },
     "execution_count": 5,
     "metadata": {},
     "output_type": "execute_result"
    }
   ],
   "source": [
    "n = int(input('enter n:'))\n",
    "l = [i for i in range(n+1) if i%2!=0]\n",
    "for i in range(l[-1]):\n",
    "    print(' '*(l[-1]/2),l[i],)"
   ]
  },
  {
   "cell_type": "code",
   "execution_count": null,
   "metadata": {},
   "outputs": [],
   "source": []
  }
 ],
 "metadata": {
  "kernelspec": {
   "display_name": "Python 3",
   "language": "python",
   "name": "python3"
  },
  "language_info": {
   "codemirror_mode": {
    "name": "ipython",
    "version": 3
   },
   "file_extension": ".py",
   "mimetype": "text/x-python",
   "name": "python",
   "nbconvert_exporter": "python",
   "pygments_lexer": "ipython3",
   "version": "3.7.6"
  }
 },
 "nbformat": 4,
 "nbformat_minor": 4
}
