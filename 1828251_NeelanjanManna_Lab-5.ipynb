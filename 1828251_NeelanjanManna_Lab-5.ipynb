{
 "metadata": {
  "language_info": {
   "codemirror_mode": {
    "name": "ipython",
    "version": 3
   },
   "file_extension": ".py",
   "mimetype": "text/x-python",
   "name": "python",
   "nbconvert_exporter": "python",
   "pygments_lexer": "ipython3",
   "version": "3.7.4-final"
  },
  "orig_nbformat": 2,
  "kernelspec": {
   "name": "python37464bitbaseconda1b2b1a68e94c4ea38a95efb553a2b2f4",
   "display_name": "Python 3.7.4 64-bit ('base': conda)",
   "language": "python"
  }
 },
 "nbformat": 4,
 "nbformat_minor": 2,
 "cells": [
  {
   "source": [
    "<center><h1>LAB TEST-1</h1></center>\n",
    "<h2 style=\"float: right\">Date: 15/01/2021</h2>"
   ],
   "cell_type": "markdown",
   "metadata": {}
  },
  {
   "source": [
    "## Q1. Write a Python program to find the average of lowest 3 values in a dictionary."
   ],
   "cell_type": "markdown",
   "metadata": {}
  },
  {
   "cell_type": "code",
   "execution_count": 3,
   "metadata": {},
   "outputs": [
    {
     "output_type": "stream",
     "name": "stdout",
     "text": [
      "Lowest Three Numbers:  [1, 2, 3]\n"
     ]
    },
    {
     "output_type": "execute_result",
     "data": {
      "text/plain": [
       "2.0"
      ]
     },
     "metadata": {},
     "execution_count": 3
    }
   ],
   "source": [
    "def nMinElements(list1, N): \n",
    "    final_list = [] \n",
    "  \n",
    "    for i in range(0, N):  \n",
    "        min1 = list1[0]\n",
    "          \n",
    "        for j in range(len(list1)):      \n",
    "            if list1[j] < min1: \n",
    "                min1 = list1[j]; \n",
    "                  \n",
    "        list1.remove(min1); \n",
    "        final_list.append(min1) \n",
    "          \n",
    "    return final_list\n",
    "\n",
    "\n",
    "dic = {\n",
    "    'd': 4,\n",
    "    'b': 2,\n",
    "    'e': 5,\n",
    "    'f': 6,\n",
    "    'a': 1,\n",
    "    'g': 7,\n",
    "    'c': 3\n",
    "}\n",
    "\n",
    "threeMinElements = nMinElements(list(dic.values()), 3)\n",
    "print(f\"Lowest Three Numbers: \", threeMinElements)\n",
    "\n",
    "sum(threeMinElements)/len(threeMinElements)"
   ]
  },
  {
   "source": [
    "## Q2. WAP TO PRINT A DICT WITH 8 KEYS, UPDATE THE MIDDLE KEY AND DELETE SECOND LAST KEY FROM RIGHT"
   ],
   "cell_type": "markdown",
   "metadata": {}
  },
  {
   "cell_type": "code",
   "execution_count": 4,
   "metadata": {},
   "outputs": [
    {
     "output_type": "stream",
     "name": "stdout",
     "text": [
      "{'d': 4, 'b': 2, 'e': 5, 'f': 6, 'a': 1, 'g': 7, 'c': 3, 'h': 8} \n\n{'d': 4, 'b': 2, 'e': 5, 'f': 'Updated', 'a': 1, 'g': 7, 'c': 3, 'h': 8} \n\n{'d': 4, 'b': 2, 'e': 5, 'f': 'Updated', 'a': 1, 'g': 7, 'h': 8}\n"
     ]
    }
   ],
   "source": [
    "dic = {\n",
    "    'd': 4,\n",
    "    'b': 2,\n",
    "    'e': 5,\n",
    "    'f': 6,\n",
    "    'a': 1,\n",
    "    'g': 7,\n",
    "    'c': 3,\n",
    "    'h': 8\n",
    "}\n",
    "\n",
    "print(dic, '\\n')\n",
    "\n",
    "dic[list(dic.keys())[len(dic.keys()) // 2 - 1]] = \"Updated\"\n",
    "\n",
    "print(dic, '\\n')\n",
    "\n",
    "del dic[list(dic.keys())[-2]]\n",
    "\n",
    "print(dic)"
   ]
  },
  {
   "source": [
    "## Q3. Write a Python program to get the frequency of the second last element in a list."
   ],
   "cell_type": "markdown",
   "metadata": {}
  },
  {
   "cell_type": "code",
   "execution_count": 1,
   "metadata": {},
   "outputs": [
    {
     "output_type": "execute_result",
     "data": {
      "text/plain": [
       "2"
      ]
     },
     "metadata": {},
     "execution_count": 1
    }
   ],
   "source": [
    "lst = ['a', 1, 1+9j, 'op', \"cherry\", \"bat\", 12, 22, 1, [23, 123]]\n",
    "\n",
    "lst.count(lst[-2])"
   ]
  },
  {
   "cell_type": "code",
   "execution_count": 2,
   "metadata": {},
   "outputs": [
    {
     "output_type": "stream",
     "name": "stdout",
     "text": [
      "2\n"
     ]
    }
   ],
   "source": [
    "count = 0\n",
    "\n",
    "for element in lst:\n",
    "    if element == lst[-2]:\n",
    "        count += 1\n",
    "\n",
    "print(count)"
   ]
  }
 ]
}