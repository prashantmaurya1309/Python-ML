{
 "cells": [
  {
   "cell_type": "code",
   "execution_count": 1,
   "metadata": {},
   "outputs": [],
   "source": [
    "# Write a Python script to print a dictionary where the\n",
    "# keys are numbers between 1 and 15 (both included) \n",
    "# and the values are factorials of keys.\n",
    "\n"
   ]
  },
  {
   "cell_type": "code",
   "execution_count": 3,
   "metadata": {},
   "outputs": [
    {
     "name": "stdout",
     "output_type": "stream",
     "text": [
      "{1: 1, 2: 2, 3: 6, 4: 24, 5: 120, 6: 720, 7: 5040, 8: 40320, 9: 362880, 10: 3628800, 11: 39916800, 12: 479001600, 13: 6227020800, 14: 87178291200, 15: 1307674368000}\n"
     ]
    }
   ],
   "source": [
    "di = dict()\n",
    "fact = 1\n",
    "for i in range(1,16):\n",
    "    fact = i*fact\n",
    "    di[i]= fact\n",
    "print(di)    "
   ]
  },
  {
   "cell_type": "code",
   "execution_count": 4,
   "metadata": {},
   "outputs": [],
   "source": [
    "# Write a Python program to sort a dictionary by key. \n",
    "\n",
    "\n"
   ]
  },
  {
   "cell_type": "code",
   "execution_count": 18,
   "metadata": {},
   "outputs": [
    {
     "name": "stdout",
     "output_type": "stream",
     "text": [
      "black: 4\n",
      "green: 5\n",
      "red: 7\n",
      "white: 2\n"
     ]
    }
   ],
   "source": [
    "color = {'red':'7',\n",
    "          'green':'5',\n",
    "          'black':'4',\n",
    "          'white':'2'}\n",
    "\n",
    "for key in sorted(color):\n",
    "    print(\"%s: %s\" % (key, color[key]))"
   ]
  },
  {
   "cell_type": "code",
   "execution_count": 21,
   "metadata": {},
   "outputs": [
    {
     "name": "stdout",
     "output_type": "stream",
     "text": [
      "red : 7\n",
      "green : 5\n",
      "black : 4\n",
      "white : 2\n"
     ]
    }
   ],
   "source": [
    "color = {'red':'7',\n",
    "          'green':'5',\n",
    "          'black':'4',\n",
    "          'white':'2'}\n",
    "\n",
    "for key in (color):\n",
    "    print(key,':', color[key])"
   ]
  },
  {
   "cell_type": "code",
   "execution_count": 35,
   "metadata": {},
   "outputs": [
    {
     "name": "stdout",
     "output_type": "stream",
     "text": [
      "ace\n",
      "acf\n",
      "ade\n",
      "adf\n",
      "bce\n",
      "bcf\n",
      "bde\n",
      "bdf\n"
     ]
    }
   ],
   "source": [
    "#Write a Python program to create and display all combinations of \n",
    "#letters, selecting each letter from a different key in a dictionary.\n",
    "#Ex: d{1:'ab',2: 'cd', 3:'ef' }  Output: ace,acf,ade,adf,bce,bcf,bde,bdf\n",
    "\n",
    "\n",
    "d={1:'ab',2: 'cd', 3:'ef' }\n",
    "for i in d[1]:\n",
    "    for j in d[2]:\n",
    "        for k in d[3]:\n",
    "            print(i+j+k)\n",
    "    \n",
    "    "
   ]
  },
  {
   "cell_type": "code",
   "execution_count": null,
   "metadata": {},
   "outputs": [],
   "source": []
  }
 ],
 "metadata": {
  "kernelspec": {
   "display_name": "Python 3",
   "language": "python",
   "name": "python3"
  },
  "language_info": {
   "codemirror_mode": {
    "name": "ipython",
    "version": 3
   },
   "file_extension": ".py",
   "mimetype": "text/x-python",
   "name": "python",
   "nbconvert_exporter": "python",
   "pygments_lexer": "ipython3",
   "version": "3.7.6"
  }
 },
 "nbformat": 4,
 "nbformat_minor": 4
}
