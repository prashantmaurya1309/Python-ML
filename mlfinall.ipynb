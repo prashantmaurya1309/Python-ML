{
 "cells": [
  {
   "cell_type": "code",
   "execution_count": 1,
   "metadata": {},
   "outputs": [],
   "source": [
    "import pandas as pd\n",
    "import numpy as np\n",
    "import seaborn as sns\n",
    "import matplotlib.pyplot as plt\n",
    "from datetime import datetime as dt\n",
    "from scipy import stats\n",
    "import pylab\n",
    "import scipy.stats as stats\n",
    "from sklearn.model_selection import train_test_split\n",
    "from sklearn.metrics import roc_auc_score\n"
   ]
  },
  {
   "cell_type": "code",
   "execution_count": 2,
   "metadata": {
    "scrolled": true
   },
   "outputs": [
    {
     "data": {
      "text/html": [
       "<div>\n",
       "<style scoped>\n",
       "    .dataframe tbody tr th:only-of-type {\n",
       "        vertical-align: middle;\n",
       "    }\n",
       "\n",
       "    .dataframe tbody tr th {\n",
       "        vertical-align: top;\n",
       "    }\n",
       "\n",
       "    .dataframe thead th {\n",
       "        text-align: right;\n",
       "    }\n",
       "</style>\n",
       "<table border=\"1\" class=\"dataframe\">\n",
       "  <thead>\n",
       "    <tr style=\"text-align: right;\">\n",
       "      <th></th>\n",
       "      <th>acct_doc_header_id</th>\n",
       "      <th>company_id</th>\n",
       "      <th>doc_number</th>\n",
       "      <th>doc_number_norm</th>\n",
       "      <th>business_code</th>\n",
       "      <th>create_year</th>\n",
       "      <th>document_line_number</th>\n",
       "      <th>document_type</th>\n",
       "      <th>cust_number</th>\n",
       "      <th>cust_number_norm</th>\n",
       "      <th>...</th>\n",
       "      <th>debit_credit_status</th>\n",
       "      <th>payment_method</th>\n",
       "      <th>document_create_date.1</th>\n",
       "      <th>invoice_currency</th>\n",
       "      <th>doc_id</th>\n",
       "      <th>actual_outstanding_amount</th>\n",
       "      <th>payment_amount</th>\n",
       "      <th>days_past_duedate</th>\n",
       "      <th>age_invoice</th>\n",
       "      <th>dispute_amount</th>\n",
       "    </tr>\n",
       "  </thead>\n",
       "  <tbody>\n",
       "    <tr>\n",
       "      <th>0</th>\n",
       "      <td>542832919</td>\n",
       "      <td>60</td>\n",
       "      <td>45529534</td>\n",
       "      <td>45529534</td>\n",
       "      <td>enme9</td>\n",
       "      <td>NaN</td>\n",
       "      <td>NaN</td>\n",
       "      <td>RI</td>\n",
       "      <td>218996</td>\n",
       "      <td>218996</td>\n",
       "      <td>...</td>\n",
       "      <td>NaN</td>\n",
       "      <td>NaN</td>\n",
       "      <td>NaN</td>\n",
       "      <td>2520.00</td>\n",
       "      <td>542832919</td>\n",
       "      <td>2520.00</td>\n",
       "      <td>2520.00</td>\n",
       "      <td>7</td>\n",
       "      <td>82</td>\n",
       "      <td>NaT</td>\n",
       "    </tr>\n",
       "    <tr>\n",
       "      <th>1</th>\n",
       "      <td>539895096</td>\n",
       "      <td>60</td>\n",
       "      <td>39849333</td>\n",
       "      <td>39849333</td>\n",
       "      <td>mdtd4</td>\n",
       "      <td>NaN</td>\n",
       "      <td>NaN</td>\n",
       "      <td>RI</td>\n",
       "      <td>226552</td>\n",
       "      <td>226552</td>\n",
       "      <td>...</td>\n",
       "      <td>NaN</td>\n",
       "      <td>NaN</td>\n",
       "      <td>NaN</td>\n",
       "      <td>20187.58</td>\n",
       "      <td>539895096</td>\n",
       "      <td>20187.58</td>\n",
       "      <td>20187.58</td>\n",
       "      <td>1</td>\n",
       "      <td>61</td>\n",
       "      <td>NaT</td>\n",
       "    </tr>\n",
       "    <tr>\n",
       "      <th>2</th>\n",
       "      <td>538335509</td>\n",
       "      <td>60</td>\n",
       "      <td>38313301</td>\n",
       "      <td>38313301</td>\n",
       "      <td>enme9</td>\n",
       "      <td>NaN</td>\n",
       "      <td>NaN</td>\n",
       "      <td>RI</td>\n",
       "      <td>218996</td>\n",
       "      <td>218996</td>\n",
       "      <td>...</td>\n",
       "      <td>NaN</td>\n",
       "      <td>NaN</td>\n",
       "      <td>NaN</td>\n",
       "      <td>919.98</td>\n",
       "      <td>538335509</td>\n",
       "      <td>919.98</td>\n",
       "      <td>919.98</td>\n",
       "      <td>2</td>\n",
       "      <td>77</td>\n",
       "      <td>NaT</td>\n",
       "    </tr>\n",
       "    <tr>\n",
       "      <th>3</th>\n",
       "      <td>541416057</td>\n",
       "      <td>60</td>\n",
       "      <td>42338776</td>\n",
       "      <td>42338776</td>\n",
       "      <td>CZRP4</td>\n",
       "      <td>NaN</td>\n",
       "      <td>NaN</td>\n",
       "      <td>RI</td>\n",
       "      <td>228442</td>\n",
       "      <td>228442</td>\n",
       "      <td>...</td>\n",
       "      <td>NaN</td>\n",
       "      <td>NaN</td>\n",
       "      <td>NaN</td>\n",
       "      <td>1097.74</td>\n",
       "      <td>541416057</td>\n",
       "      <td>1097.74</td>\n",
       "      <td>1097.74</td>\n",
       "      <td>-3</td>\n",
       "      <td>57</td>\n",
       "      <td>NaT</td>\n",
       "    </tr>\n",
       "    <tr>\n",
       "      <th>4</th>\n",
       "      <td>541588672</td>\n",
       "      <td>60</td>\n",
       "      <td>42640823</td>\n",
       "      <td>42640823</td>\n",
       "      <td>enme9</td>\n",
       "      <td>NaN</td>\n",
       "      <td>NaN</td>\n",
       "      <td>RI</td>\n",
       "      <td>218996</td>\n",
       "      <td>218996</td>\n",
       "      <td>...</td>\n",
       "      <td>NaN</td>\n",
       "      <td>NaN</td>\n",
       "      <td>NaN</td>\n",
       "      <td>8946.18</td>\n",
       "      <td>541588672</td>\n",
       "      <td>8946.18</td>\n",
       "      <td>8946.18</td>\n",
       "      <td>4</td>\n",
       "      <td>79</td>\n",
       "      <td>NaT</td>\n",
       "    </tr>\n",
       "  </tbody>\n",
       "</table>\n",
       "<p>5 rows × 47 columns</p>\n",
       "</div>"
      ],
      "text/plain": [
       "   acct_doc_header_id  company_id  doc_number  doc_number_norm business_code  \\\n",
       "0           542832919          60    45529534         45529534         enme9   \n",
       "1           539895096          60    39849333         39849333         mdtd4   \n",
       "2           538335509          60    38313301         38313301         enme9   \n",
       "3           541416057          60    42338776         42338776         CZRP4   \n",
       "4           541588672          60    42640823         42640823         enme9   \n",
       "\n",
       "   create_year  document_line_number document_type  cust_number  \\\n",
       "0          NaN                   NaN            RI       218996   \n",
       "1          NaN                   NaN            RI       226552   \n",
       "2          NaN                   NaN            RI       218996   \n",
       "3          NaN                   NaN            RI       228442   \n",
       "4          NaN                   NaN            RI       218996   \n",
       "\n",
       "   cust_number_norm  ...  debit_credit_status payment_method  \\\n",
       "0            218996  ...                  NaN            NaN   \n",
       "1            226552  ...                  NaN            NaN   \n",
       "2            218996  ...                  NaN            NaN   \n",
       "3            228442  ...                  NaN            NaN   \n",
       "4            218996  ...                  NaN            NaN   \n",
       "\n",
       "   document_create_date.1 invoice_currency     doc_id  \\\n",
       "0                     NaN          2520.00  542832919   \n",
       "1                     NaN         20187.58  539895096   \n",
       "2                     NaN           919.98  538335509   \n",
       "3                     NaN          1097.74  541416057   \n",
       "4                     NaN          8946.18  541588672   \n",
       "\n",
       "   actual_outstanding_amount  payment_amount  days_past_duedate  age_invoice  \\\n",
       "0                    2520.00         2520.00                  7           82   \n",
       "1                   20187.58        20187.58                  1           61   \n",
       "2                     919.98          919.98                  2           77   \n",
       "3                    1097.74         1097.74                 -3           57   \n",
       "4                    8946.18         8946.18                  4           79   \n",
       "\n",
       "   dispute_amount  \n",
       "0             NaT  \n",
       "1             NaT  \n",
       "2             NaT  \n",
       "3             NaT  \n",
       "4             NaT  \n",
       "\n",
       "[5 rows x 47 columns]"
      ]
     },
     "execution_count": 2,
     "metadata": {},
     "output_type": "execute_result"
    }
   ],
   "source": [
    "#read data from the given dataset\n",
    "data=pd.read_csv(r\"D:\\Denver_1704119.csv\",parse_dates=[-1])\n",
    "df=data.copy()\n",
    "df.head()"
   ]
  },
  {
   "cell_type": "code",
   "execution_count": 3,
   "metadata": {},
   "outputs": [
    {
     "name": "stdout",
     "output_type": "stream",
     "text": [
      "acct_doc_header_id                    int64\n",
      "company_id                            int64\n",
      "doc_number                            int64\n",
      "doc_number_norm                       int64\n",
      "business_code                        object\n",
      "create_year                         float64\n",
      "document_line_number                float64\n",
      "document_type                        object\n",
      "cust_number                           int64\n",
      "cust_number_norm                      int64\n",
      "customer_map_id                       int64\n",
      "name_customer                        object\n",
      "division                            float64\n",
      "document_create_date                 object\n",
      "document_create_date_norm            object\n",
      "posting_date                        float64\n",
      "posting_date_norm                   float64\n",
      "posting_id                          float64\n",
      "due_in_date                         float64\n",
      "due_in_date_norm                    float64\n",
      "order_create_date                   float64\n",
      "order_date_norm                     float64\n",
      "invoice_id                            int64\n",
      "invoice_id_norm                       int64\n",
      "baseline_create_date                 object\n",
      "invoice_date_norm                    object\n",
      "total_open_amount                   float64\n",
      "total_open_amount_norm              float64\n",
      "cust_payment_terms                    int64\n",
      "area_business                       float64\n",
      "shipping_date                        object\n",
      "shipping_to                         float64\n",
      "clear_date                           object\n",
      "clear_date_norm                      object\n",
      "reason_code                         float64\n",
      "is_open_invoice                       int64\n",
      "discount_due_date_norm              float64\n",
      "debit_credit_status                 float64\n",
      "payment_method                      float64\n",
      "document_create_date.1              float64\n",
      "invoice_currency                    float64\n",
      "doc_id                                int64\n",
      "actual_outstanding_amount           float64\n",
      "payment_amount                      float64\n",
      "days_past_duedate                     int64\n",
      "age_invoice                           int64\n",
      "dispute_amount               datetime64[ns]\n",
      "dtype: object\n"
     ]
    },
    {
     "data": {
      "text/plain": [
       "(50000, 47)"
      ]
     },
     "execution_count": 3,
     "metadata": {},
     "output_type": "execute_result"
    }
   ],
   "source": [
    "print(df.dtypes)\n",
    "df.shape#check the no of rows and colums"
   ]
  },
  {
   "cell_type": "code",
   "execution_count": 4,
   "metadata": {},
   "outputs": [
    {
     "data": {
      "text/plain": [
       "(46397, 29)"
      ]
     },
     "execution_count": 4,
     "metadata": {},
     "output_type": "execute_result"
    }
   ],
   "source": [
    "df=df.dropna(axis=1, how='all') #to drop columns with all NAN values\n",
    "df.drop_duplicates('doc_number',keep='first',inplace=True)#to drop all the rows except the first payment made against the invoice \n",
    "df.shape"
   ]
  },
  {
   "cell_type": "code",
   "execution_count": 5,
   "metadata": {},
   "outputs": [
    {
     "data": {
      "text/plain": [
       "(46397, 26)"
      ]
     },
     "execution_count": 5,
     "metadata": {},
     "output_type": "execute_result"
    }
   ],
   "source": [
    "#deleting those colums where the value is same throughout the whole columns in every row.\n",
    "nunique = df.apply(pd.Series.nunique)\n",
    "cols_to_drop = nunique[nunique == 1].index\n",
    "df.drop(cols_to_drop, axis=1,inplace=True)  \n",
    "df.shape"
   ]
  },
  {
   "cell_type": "code",
   "execution_count": 6,
   "metadata": {},
   "outputs": [],
   "source": [
    "new_dict = {k: i for i, k in enumerate(df.business_code.unique(), 0)}\n",
    "df.loc[:, 'business_code_mapped'] = df.loc[:, 'business_code'].map(new_dict)    #category wise/categorical mapping of business code"
   ]
  },
  {
   "cell_type": "code",
   "execution_count": 7,
   "metadata": {},
   "outputs": [
    {
     "data": {
      "text/html": [
       "<div>\n",
       "<style scoped>\n",
       "    .dataframe tbody tr th:only-of-type {\n",
       "        vertical-align: middle;\n",
       "    }\n",
       "\n",
       "    .dataframe tbody tr th {\n",
       "        vertical-align: top;\n",
       "    }\n",
       "\n",
       "    .dataframe thead th {\n",
       "        text-align: right;\n",
       "    }\n",
       "</style>\n",
       "<table border=\"1\" class=\"dataframe\">\n",
       "  <thead>\n",
       "    <tr style=\"text-align: right;\">\n",
       "      <th></th>\n",
       "      <th>acct_doc_header_id</th>\n",
       "      <th>doc_number</th>\n",
       "      <th>doc_number_norm</th>\n",
       "      <th>business_code</th>\n",
       "      <th>cust_number</th>\n",
       "      <th>cust_number_norm</th>\n",
       "      <th>name_customer</th>\n",
       "      <th>document_create_date</th>\n",
       "      <th>document_create_date_norm</th>\n",
       "      <th>invoice_id</th>\n",
       "      <th>...</th>\n",
       "      <th>clear_date</th>\n",
       "      <th>clear_date_norm</th>\n",
       "      <th>is_open_invoice</th>\n",
       "      <th>invoice_currency</th>\n",
       "      <th>doc_id</th>\n",
       "      <th>actual_outstanding_amount</th>\n",
       "      <th>payment_amount</th>\n",
       "      <th>days_past_duedate</th>\n",
       "      <th>age_invoice</th>\n",
       "      <th>business_code_mapped</th>\n",
       "    </tr>\n",
       "  </thead>\n",
       "  <tbody>\n",
       "    <tr>\n",
       "      <th>0</th>\n",
       "      <td>542832919</td>\n",
       "      <td>45529534</td>\n",
       "      <td>45529534</td>\n",
       "      <td>enme9</td>\n",
       "      <td>218996</td>\n",
       "      <td>218996</td>\n",
       "      <td>end frame</td>\n",
       "      <td>2019-01-21</td>\n",
       "      <td>2019-01-21</td>\n",
       "      <td>45529534</td>\n",
       "      <td>...</td>\n",
       "      <td>2019-04-13</td>\n",
       "      <td>2019-04-13</td>\n",
       "      <td>0</td>\n",
       "      <td>2520.00</td>\n",
       "      <td>542832919</td>\n",
       "      <td>2520.00</td>\n",
       "      <td>2520.00</td>\n",
       "      <td>7</td>\n",
       "      <td>82</td>\n",
       "      <td>0</td>\n",
       "    </tr>\n",
       "    <tr>\n",
       "      <th>1</th>\n",
       "      <td>539895096</td>\n",
       "      <td>39849333</td>\n",
       "      <td>39849333</td>\n",
       "      <td>mdtd4</td>\n",
       "      <td>226552</td>\n",
       "      <td>226552</td>\n",
       "      <td>mdassist pvt ltd</td>\n",
       "      <td>2018-07-23</td>\n",
       "      <td>2018-07-23</td>\n",
       "      <td>39849333</td>\n",
       "      <td>...</td>\n",
       "      <td>2018-09-22</td>\n",
       "      <td>2018-09-22</td>\n",
       "      <td>0</td>\n",
       "      <td>20187.58</td>\n",
       "      <td>539895096</td>\n",
       "      <td>20187.58</td>\n",
       "      <td>20187.58</td>\n",
       "      <td>1</td>\n",
       "      <td>61</td>\n",
       "      <td>1</td>\n",
       "    </tr>\n",
       "    <tr>\n",
       "      <th>2</th>\n",
       "      <td>538335509</td>\n",
       "      <td>38313301</td>\n",
       "      <td>38313301</td>\n",
       "      <td>enme9</td>\n",
       "      <td>218996</td>\n",
       "      <td>218996</td>\n",
       "      <td>end frame</td>\n",
       "      <td>2018-05-18</td>\n",
       "      <td>2018-05-18</td>\n",
       "      <td>38313301</td>\n",
       "      <td>...</td>\n",
       "      <td>2018-08-03</td>\n",
       "      <td>2018-08-03</td>\n",
       "      <td>0</td>\n",
       "      <td>919.98</td>\n",
       "      <td>538335509</td>\n",
       "      <td>919.98</td>\n",
       "      <td>919.98</td>\n",
       "      <td>2</td>\n",
       "      <td>77</td>\n",
       "      <td>0</td>\n",
       "    </tr>\n",
       "    <tr>\n",
       "      <th>3</th>\n",
       "      <td>541416057</td>\n",
       "      <td>42338776</td>\n",
       "      <td>42338776</td>\n",
       "      <td>CZRP4</td>\n",
       "      <td>228442</td>\n",
       "      <td>228442</td>\n",
       "      <td>CZERKA CORP</td>\n",
       "      <td>2018-10-19</td>\n",
       "      <td>2018-10-19</td>\n",
       "      <td>42338776</td>\n",
       "      <td>...</td>\n",
       "      <td>2018-12-15</td>\n",
       "      <td>2018-12-15</td>\n",
       "      <td>0</td>\n",
       "      <td>1097.74</td>\n",
       "      <td>541416057</td>\n",
       "      <td>1097.74</td>\n",
       "      <td>1097.74</td>\n",
       "      <td>-3</td>\n",
       "      <td>57</td>\n",
       "      <td>2</td>\n",
       "    </tr>\n",
       "    <tr>\n",
       "      <th>4</th>\n",
       "      <td>541588672</td>\n",
       "      <td>42640823</td>\n",
       "      <td>42640823</td>\n",
       "      <td>enme9</td>\n",
       "      <td>218996</td>\n",
       "      <td>218996</td>\n",
       "      <td>end frame</td>\n",
       "      <td>2018-10-29</td>\n",
       "      <td>2018-10-29</td>\n",
       "      <td>42640823</td>\n",
       "      <td>...</td>\n",
       "      <td>2019-01-16</td>\n",
       "      <td>2019-01-16</td>\n",
       "      <td>0</td>\n",
       "      <td>8946.18</td>\n",
       "      <td>541588672</td>\n",
       "      <td>8946.18</td>\n",
       "      <td>8946.18</td>\n",
       "      <td>4</td>\n",
       "      <td>79</td>\n",
       "      <td>0</td>\n",
       "    </tr>\n",
       "  </tbody>\n",
       "</table>\n",
       "<p>5 rows × 27 columns</p>\n",
       "</div>"
      ],
      "text/plain": [
       "   acct_doc_header_id  doc_number  doc_number_norm business_code  cust_number  \\\n",
       "0           542832919    45529534         45529534         enme9       218996   \n",
       "1           539895096    39849333         39849333         mdtd4       226552   \n",
       "2           538335509    38313301         38313301         enme9       218996   \n",
       "3           541416057    42338776         42338776         CZRP4       228442   \n",
       "4           541588672    42640823         42640823         enme9       218996   \n",
       "\n",
       "   cust_number_norm     name_customer document_create_date  \\\n",
       "0            218996         end frame           2019-01-21   \n",
       "1            226552  mdassist pvt ltd           2018-07-23   \n",
       "2            218996         end frame           2018-05-18   \n",
       "3            228442       CZERKA CORP           2018-10-19   \n",
       "4            218996         end frame           2018-10-29   \n",
       "\n",
       "  document_create_date_norm  invoice_id  ...  clear_date clear_date_norm  \\\n",
       "0                2019-01-21    45529534  ...  2019-04-13      2019-04-13   \n",
       "1                2018-07-23    39849333  ...  2018-09-22      2018-09-22   \n",
       "2                2018-05-18    38313301  ...  2018-08-03      2018-08-03   \n",
       "3                2018-10-19    42338776  ...  2018-12-15      2018-12-15   \n",
       "4                2018-10-29    42640823  ...  2019-01-16      2019-01-16   \n",
       "\n",
       "  is_open_invoice  invoice_currency     doc_id  actual_outstanding_amount  \\\n",
       "0               0           2520.00  542832919                    2520.00   \n",
       "1               0          20187.58  539895096                   20187.58   \n",
       "2               0            919.98  538335509                     919.98   \n",
       "3               0           1097.74  541416057                    1097.74   \n",
       "4               0           8946.18  541588672                    8946.18   \n",
       "\n",
       "  payment_amount days_past_duedate age_invoice  business_code_mapped  \n",
       "0        2520.00                 7          82                     0  \n",
       "1       20187.58                 1          61                     1  \n",
       "2         919.98                 2          77                     0  \n",
       "3        1097.74                -3          57                     2  \n",
       "4        8946.18                 4          79                     0  \n",
       "\n",
       "[5 rows x 27 columns]"
      ]
     },
     "execution_count": 7,
     "metadata": {},
     "output_type": "execute_result"
    }
   ],
   "source": [
    "df.head()"
   ]
  },
  {
   "cell_type": "code",
   "execution_count": 8,
   "metadata": {},
   "outputs": [],
   "source": [
    "df = df.sort_values(['clear_date_norm'], ascending = (True))#sort the given data in terms of clear date"
   ]
  },
  {
   "cell_type": "code",
   "execution_count": 9,
   "metadata": {},
   "outputs": [
    {
     "data": {
      "text/plain": [
       "<matplotlib.axes._subplots.AxesSubplot at 0x23234182888>"
      ]
     },
     "execution_count": 9,
     "metadata": {},
     "output_type": "execute_result"
    },
    {
     "data": {
      "image/png": "[encoded data removed]",
      "text/plain": [
       "<Figure size 432x288 with 1 Axes>"
      ]
     },
     "metadata": {
      "needs_background": "light"
     },
     "output_type": "display_data"
    }
   ],
   "source": [
    "sns.countplot(x='cust_payment_terms',data=df)       #counting the values in cust_payment_terms"
   ]
  },
  {
   "cell_type": "code",
   "execution_count": 10,
   "metadata": {},
   "outputs": [],
   "source": [
    "df.drop(['cust_payment_terms'],axis=1,inplace=True)   #deleting cust_payment_term as it has more than 90% of data similar."
   ]
  },
  {
   "cell_type": "code",
   "execution_count": 11,
   "metadata": {},
   "outputs": [
    {
     "data": {
      "text/plain": [
       "(46397, 26)"
      ]
     },
     "execution_count": 11,
     "metadata": {},
     "output_type": "execute_result"
    }
   ],
   "source": [
    "df.shape"
   ]
  },
  {
   "cell_type": "code",
   "execution_count": 12,
   "metadata": {},
   "outputs": [],
   "source": [
    "# Creating correlation matrix\n",
    "corr_matrix = df.corr().abs()"
   ]
  },
  {
   "cell_type": "code",
   "execution_count": 13,
   "metadata": {},
   "outputs": [],
   "source": [
    "# Select upper triangle of correlation matrix\n",
    "upper = corr_matrix.where(np.triu(np.ones(corr_matrix.shape), k=1).astype(np.bool))"
   ]
  },
  {
   "cell_type": "code",
   "execution_count": 14,
   "metadata": {},
   "outputs": [
    {
     "name": "stdout",
     "output_type": "stream",
     "text": [
      "['doc_number_norm', 'cust_number_norm', 'invoice_id', 'invoice_id_norm', 'total_open_amount_norm', 'doc_id', 'actual_outstanding_amount']\n"
     ]
    }
   ],
   "source": [
    "to_drop = [column for column in upper.columns if any(upper[column] ==1)]\n",
    "print(to_drop)"
   ]
  },
  {
   "cell_type": "code",
   "execution_count": 15,
   "metadata": {},
   "outputs": [
    {
     "data": {
      "text/html": [
       "<div>\n",
       "<style scoped>\n",
       "    .dataframe tbody tr th:only-of-type {\n",
       "        vertical-align: middle;\n",
       "    }\n",
       "\n",
       "    .dataframe tbody tr th {\n",
       "        vertical-align: top;\n",
       "    }\n",
       "\n",
       "    .dataframe thead th {\n",
       "        text-align: right;\n",
       "    }\n",
       "</style>\n",
       "<table border=\"1\" class=\"dataframe\">\n",
       "  <thead>\n",
       "    <tr style=\"text-align: right;\">\n",
       "      <th></th>\n",
       "      <th>acct_doc_header_id</th>\n",
       "      <th>doc_number</th>\n",
       "      <th>business_code</th>\n",
       "      <th>cust_number</th>\n",
       "      <th>name_customer</th>\n",
       "      <th>document_create_date</th>\n",
       "      <th>invoice_id</th>\n",
       "      <th>baseline_create_date</th>\n",
       "      <th>invoice_date_norm</th>\n",
       "      <th>total_open_amount</th>\n",
       "      <th>shipping_date</th>\n",
       "      <th>clear_date</th>\n",
       "      <th>is_open_invoice</th>\n",
       "      <th>invoice_currency</th>\n",
       "      <th>actual_outstanding_amount</th>\n",
       "      <th>payment_amount</th>\n",
       "      <th>days_past_duedate</th>\n",
       "      <th>age_invoice</th>\n",
       "      <th>business_code_mapped</th>\n",
       "    </tr>\n",
       "  </thead>\n",
       "  <tbody>\n",
       "    <tr>\n",
       "      <th>40196</th>\n",
       "      <td>531520333</td>\n",
       "      <td>28347387</td>\n",
       "      <td>skes8</td>\n",
       "      <td>228098</td>\n",
       "      <td>skynetpwc softwares</td>\n",
       "      <td>2017-05-01</td>\n",
       "      <td>28347387</td>\n",
       "      <td>2017-05-01</td>\n",
       "      <td>2017-05-01</td>\n",
       "      <td>0.0</td>\n",
       "      <td>05/01/2017</td>\n",
       "      <td>2017-06-10</td>\n",
       "      <td>0</td>\n",
       "      <td>1998.80</td>\n",
       "      <td>1998.80</td>\n",
       "      <td>180.55</td>\n",
       "      <td>110</td>\n",
       "      <td>170</td>\n",
       "      <td>20</td>\n",
       "    </tr>\n",
       "    <tr>\n",
       "      <th>38306</th>\n",
       "      <td>531533090</td>\n",
       "      <td>28364248</td>\n",
       "      <td>holi10</td>\n",
       "      <td>218995</td>\n",
       "      <td>hooli</td>\n",
       "      <td>2017-05-02</td>\n",
       "      <td>28364248</td>\n",
       "      <td>2017-05-02</td>\n",
       "      <td>2017-05-02</td>\n",
       "      <td>0.0</td>\n",
       "      <td>05/02/2017</td>\n",
       "      <td>2017-06-15</td>\n",
       "      <td>0</td>\n",
       "      <td>17582.86</td>\n",
       "      <td>17582.86</td>\n",
       "      <td>17582.86</td>\n",
       "      <td>88</td>\n",
       "      <td>148</td>\n",
       "      <td>35</td>\n",
       "    </tr>\n",
       "    <tr>\n",
       "      <th>34428</th>\n",
       "      <td>531533086</td>\n",
       "      <td>28364219</td>\n",
       "      <td>holi10</td>\n",
       "      <td>218995</td>\n",
       "      <td>hooli</td>\n",
       "      <td>2017-05-02</td>\n",
       "      <td>28364219</td>\n",
       "      <td>2017-05-02</td>\n",
       "      <td>2017-05-02</td>\n",
       "      <td>0.0</td>\n",
       "      <td>05/02/2017</td>\n",
       "      <td>2017-06-15</td>\n",
       "      <td>0</td>\n",
       "      <td>13168.57</td>\n",
       "      <td>13168.57</td>\n",
       "      <td>13168.57</td>\n",
       "      <td>88</td>\n",
       "      <td>148</td>\n",
       "      <td>35</td>\n",
       "    </tr>\n",
       "    <tr>\n",
       "      <th>8976</th>\n",
       "      <td>531517996</td>\n",
       "      <td>28332803</td>\n",
       "      <td>holi10</td>\n",
       "      <td>218995</td>\n",
       "      <td>hooli</td>\n",
       "      <td>2017-05-01</td>\n",
       "      <td>28332803</td>\n",
       "      <td>2017-05-01</td>\n",
       "      <td>2017-05-01</td>\n",
       "      <td>0.0</td>\n",
       "      <td>05/01/2017</td>\n",
       "      <td>2017-06-15</td>\n",
       "      <td>0</td>\n",
       "      <td>2568.83</td>\n",
       "      <td>2568.83</td>\n",
       "      <td>2568.83</td>\n",
       "      <td>89</td>\n",
       "      <td>149</td>\n",
       "      <td>35</td>\n",
       "    </tr>\n",
       "    <tr>\n",
       "      <th>29734</th>\n",
       "      <td>531533082</td>\n",
       "      <td>28364165</td>\n",
       "      <td>holi10</td>\n",
       "      <td>218995</td>\n",
       "      <td>hooli</td>\n",
       "      <td>2017-05-02</td>\n",
       "      <td>28364165</td>\n",
       "      <td>2017-05-02</td>\n",
       "      <td>2017-05-02</td>\n",
       "      <td>0.0</td>\n",
       "      <td>05/02/2017</td>\n",
       "      <td>2017-06-15</td>\n",
       "      <td>0</td>\n",
       "      <td>4443.26</td>\n",
       "      <td>4443.26</td>\n",
       "      <td>4443.26</td>\n",
       "      <td>88</td>\n",
       "      <td>148</td>\n",
       "      <td>35</td>\n",
       "    </tr>\n",
       "  </tbody>\n",
       "</table>\n",
       "</div>"
      ],
      "text/plain": [
       "       acct_doc_header_id  doc_number business_code  cust_number  \\\n",
       "40196           531520333    28347387         skes8       228098   \n",
       "38306           531533090    28364248        holi10       218995   \n",
       "34428           531533086    28364219        holi10       218995   \n",
       "8976            531517996    28332803        holi10       218995   \n",
       "29734           531533082    28364165        holi10       218995   \n",
       "\n",
       "             name_customer document_create_date  invoice_id  \\\n",
       "40196  skynetpwc softwares           2017-05-01    28347387   \n",
       "38306                hooli           2017-05-02    28364248   \n",
       "34428                hooli           2017-05-02    28364219   \n",
       "8976                 hooli           2017-05-01    28332803   \n",
       "29734                hooli           2017-05-02    28364165   \n",
       "\n",
       "      baseline_create_date invoice_date_norm  total_open_amount shipping_date  \\\n",
       "40196           2017-05-01        2017-05-01                0.0    05/01/2017   \n",
       "38306           2017-05-02        2017-05-02                0.0    05/02/2017   \n",
       "34428           2017-05-02        2017-05-02                0.0    05/02/2017   \n",
       "8976            2017-05-01        2017-05-01                0.0    05/01/2017   \n",
       "29734           2017-05-02        2017-05-02                0.0    05/02/2017   \n",
       "\n",
       "       clear_date  is_open_invoice  invoice_currency  \\\n",
       "40196  2017-06-10                0           1998.80   \n",
       "38306  2017-06-15                0          17582.86   \n",
       "34428  2017-06-15                0          13168.57   \n",
       "8976   2017-06-15                0           2568.83   \n",
       "29734  2017-06-15                0           4443.26   \n",
       "\n",
       "       actual_outstanding_amount  payment_amount  days_past_duedate  \\\n",
       "40196                    1998.80          180.55                110   \n",
       "38306                   17582.86        17582.86                 88   \n",
       "34428                   13168.57        13168.57                 88   \n",
       "8976                     2568.83         2568.83                 89   \n",
       "29734                    4443.26         4443.26                 88   \n",
       "\n",
       "       age_invoice  business_code_mapped  \n",
       "40196          170                    20  \n",
       "38306          148                    35  \n",
       "34428          148                    35  \n",
       "8976           149                    35  \n",
       "29734          148                    35  "
      ]
     },
     "execution_count": 15,
     "metadata": {},
     "output_type": "execute_result"
    }
   ],
   "source": [
    "#droping the correlated/duplicate colums\n",
    "df=df.drop(columns=['doc_number_norm','cust_number_norm','invoice_id_norm','total_open_amount_norm','doc_id','document_create_date_norm','clear_date_norm'])\n",
    "df.head()"
   ]
  },
  {
   "cell_type": "code",
   "execution_count": 16,
   "metadata": {},
   "outputs": [
    {
     "name": "stdout",
     "output_type": "stream",
     "text": [
      "<class 'pandas.core.frame.DataFrame'>\n",
      "Int64Index: 46397 entries, 40196 to 48798\n",
      "Data columns (total 19 columns):\n",
      " #   Column                     Non-Null Count  Dtype  \n",
      "---  ------                     --------------  -----  \n",
      " 0   acct_doc_header_id         46397 non-null  int64  \n",
      " 1   doc_number                 46397 non-null  int64  \n",
      " 2   business_code              46397 non-null  object \n",
      " 3   cust_number                46397 non-null  int64  \n",
      " 4   name_customer              46397 non-null  object \n",
      " 5   document_create_date       46397 non-null  object \n",
      " 6   invoice_id                 46397 non-null  int64  \n",
      " 7   baseline_create_date       9776 non-null   object \n",
      " 8   invoice_date_norm          9776 non-null   object \n",
      " 9   total_open_amount          46397 non-null  float64\n",
      " 10  shipping_date              9776 non-null   object \n",
      " 11  clear_date                 41397 non-null  object \n",
      " 12  is_open_invoice            46397 non-null  int64  \n",
      " 13  invoice_currency           46397 non-null  float64\n",
      " 14  actual_outstanding_amount  46397 non-null  float64\n",
      " 15  payment_amount             46397 non-null  float64\n",
      " 16  days_past_duedate          46397 non-null  int64  \n",
      " 17  age_invoice                46397 non-null  int64  \n",
      " 18  business_code_mapped       46397 non-null  int64  \n",
      "dtypes: float64(4), int64(8), object(7)\n",
      "memory usage: 8.3+ MB\n"
     ]
    }
   ],
   "source": [
    "\n",
    "df.info()    "
   ]
  },
  {
   "cell_type": "markdown",
   "metadata": {},
   "source": [
    "Calculating the mean,median,mode,variance and standard deviation of actual outstanding amount."
   ]
  },
  {
   "cell_type": "code",
   "execution_count": 17,
   "metadata": {},
   "outputs": [],
   "source": [
    "d_sum=df['actual_outstanding_amount'].sum()"
   ]
  },
  {
   "cell_type": "code",
   "execution_count": 18,
   "metadata": {},
   "outputs": [],
   "source": [
    "d_count=df['actual_outstanding_amount'].count()"
   ]
  },
  {
   "cell_type": "code",
   "execution_count": 19,
   "metadata": {},
   "outputs": [
    {
     "name": "stdout",
     "output_type": "stream",
     "text": [
      "Mean actual_oustanding_amount is: 8539.91074573787\n"
     ]
    }
   ],
   "source": [
    "d_mean=d_sum/d_count\n",
    "print(\"Mean actual_oustanding_amount is:\", d_mean)"
   ]
  },
  {
   "cell_type": "code",
   "execution_count": 20,
   "metadata": {},
   "outputs": [
    {
     "data": {
      "text/plain": [
       "46397"
      ]
     },
     "execution_count": 20,
     "metadata": {},
     "output_type": "execute_result"
    }
   ],
   "source": [
    "df_pd= df.sort_values(['actual_outstanding_amount'])\n",
    "d_count"
   ]
  },
  {
   "cell_type": "code",
   "execution_count": 21,
   "metadata": {},
   "outputs": [
    {
     "name": "stdout",
     "output_type": "stream",
     "text": [
      "Median of data-set is : 5024.66 \n"
     ]
    }
   ],
   "source": [
    "import statistics\n",
    "print(\"Median of data-set is : % s \"\n",
    "        % (statistics.median(df_pd.actual_outstanding_amount)))"
   ]
  },
  {
   "cell_type": "code",
   "execution_count": 22,
   "metadata": {},
   "outputs": [
    {
     "name": "stdout",
     "output_type": "stream",
     "text": [
      "The most common actual outstanding amount is, as indicated by its mode, is: 459.99\n"
     ]
    }
   ],
   "source": [
    "df_mode = df_pd.actual_outstanding_amount.value_counts().index[0]\n",
    "print(\"The most common actual outstanding amount is, as indicated by its mode, is:\", df_mode)"
   ]
  },
  {
   "cell_type": "code",
   "execution_count": 23,
   "metadata": {},
   "outputs": [
    {
     "name": "stdout",
     "output_type": "stream",
     "text": [
      "Variance is: 304966460.87633675\n"
     ]
    }
   ],
   "source": [
    "df_pd['actual_outstanding_amount_dev'] = (df_pd['actual_outstanding_amount'] - d_mean) ** 2\n",
    "d_variance = df_pd.actual_outstanding_amount_dev.sum() / (d_count - 1)\n",
    "print(\"Variance is:\", d_variance)"
   ]
  },
  {
   "cell_type": "code",
   "execution_count": 24,
   "metadata": {},
   "outputs": [
    {
     "name": "stdout",
     "output_type": "stream",
     "text": [
      "Standard Deviation is: 17463.28894785678\n"
     ]
    }
   ],
   "source": [
    "d_SD = np.sqrt(d_variance)\n",
    "print(\"Standard Deviation is:\", d_SD)"
   ]
  },
  {
   "cell_type": "code",
   "execution_count": 25,
   "metadata": {},
   "outputs": [
    {
     "data": {
      "text/html": [
       "<div>\n",
       "<style scoped>\n",
       "    .dataframe tbody tr th:only-of-type {\n",
       "        vertical-align: middle;\n",
       "    }\n",
       "\n",
       "    .dataframe tbody tr th {\n",
       "        vertical-align: top;\n",
       "    }\n",
       "\n",
       "    .dataframe thead th {\n",
       "        text-align: right;\n",
       "    }\n",
       "</style>\n",
       "<table border=\"1\" class=\"dataframe\">\n",
       "  <thead>\n",
       "    <tr style=\"text-align: right;\">\n",
       "      <th></th>\n",
       "      <th>acct_doc_header_id</th>\n",
       "      <th>doc_number</th>\n",
       "      <th>cust_number</th>\n",
       "      <th>invoice_id</th>\n",
       "      <th>total_open_amount</th>\n",
       "      <th>is_open_invoice</th>\n",
       "      <th>invoice_currency</th>\n",
       "      <th>actual_outstanding_amount</th>\n",
       "      <th>payment_amount</th>\n",
       "      <th>days_past_duedate</th>\n",
       "      <th>age_invoice</th>\n",
       "      <th>business_code_mapped</th>\n",
       "      <th>actual_outstanding_amount_dev</th>\n",
       "    </tr>\n",
       "  </thead>\n",
       "  <tbody>\n",
       "    <tr>\n",
       "      <th>count</th>\n",
       "      <td>4.639700e+04</td>\n",
       "      <td>4.639700e+04</td>\n",
       "      <td>46397.000000</td>\n",
       "      <td>4.639700e+04</td>\n",
       "      <td>46397.000000</td>\n",
       "      <td>46397.000000</td>\n",
       "      <td>4.639700e+04</td>\n",
       "      <td>4.639700e+04</td>\n",
       "      <td>4.639700e+04</td>\n",
       "      <td>46397.000000</td>\n",
       "      <td>46397.000000</td>\n",
       "      <td>46397.000000</td>\n",
       "      <td>4.639700e+04</td>\n",
       "    </tr>\n",
       "    <tr>\n",
       "      <th>mean</th>\n",
       "      <td>5.387213e+08</td>\n",
       "      <td>3.899861e+07</td>\n",
       "      <td>223534.684398</td>\n",
       "      <td>3.899861e+07</td>\n",
       "      <td>890.499372</td>\n",
       "      <td>0.083497</td>\n",
       "      <td>8.539911e+03</td>\n",
       "      <td>8.539911e+03</td>\n",
       "      <td>7.385753e+03</td>\n",
       "      <td>8.332586</td>\n",
       "      <td>69.401125</td>\n",
       "      <td>12.308813</td>\n",
       "      <td>3.049599e+08</td>\n",
       "    </tr>\n",
       "    <tr>\n",
       "      <th>std</th>\n",
       "      <td>4.224339e+06</td>\n",
       "      <td>6.755627e+06</td>\n",
       "      <td>4443.115524</td>\n",
       "      <td>6.755627e+06</td>\n",
       "      <td>5534.757000</td>\n",
       "      <td>0.276635</td>\n",
       "      <td>1.746329e+04</td>\n",
       "      <td>1.746329e+04</td>\n",
       "      <td>1.656593e+04</td>\n",
       "      <td>35.001317</td>\n",
       "      <td>34.958528</td>\n",
       "      <td>9.922833</td>\n",
       "      <td>2.230812e+10</td>\n",
       "    </tr>\n",
       "    <tr>\n",
       "      <th>min</th>\n",
       "      <td>5.315170e+08</td>\n",
       "      <td>2.832870e+07</td>\n",
       "      <td>218994.000000</td>\n",
       "      <td>2.832870e+07</td>\n",
       "      <td>0.000000</td>\n",
       "      <td>0.000000</td>\n",
       "      <td>1.420000e+00</td>\n",
       "      <td>1.420000e+00</td>\n",
       "      <td>0.000000e+00</td>\n",
       "      <td>-69.000000</td>\n",
       "      <td>4.000000</td>\n",
       "      <td>0.000000</td>\n",
       "      <td>7.966323e-03</td>\n",
       "    </tr>\n",
       "    <tr>\n",
       "      <th>25%</th>\n",
       "      <td>5.353374e+08</td>\n",
       "      <td>3.290410e+07</td>\n",
       "      <td>218997.000000</td>\n",
       "      <td>3.290410e+07</td>\n",
       "      <td>0.000000</td>\n",
       "      <td>0.000000</td>\n",
       "      <td>1.699170e+03</td>\n",
       "      <td>1.699170e+03</td>\n",
       "      <td>8.630100e+02</td>\n",
       "      <td>-2.000000</td>\n",
       "      <td>59.000000</td>\n",
       "      <td>5.000000</td>\n",
       "      <td>1.073965e+07</td>\n",
       "    </tr>\n",
       "    <tr>\n",
       "      <th>50%</th>\n",
       "      <td>5.386262e+08</td>\n",
       "      <td>3.863673e+07</td>\n",
       "      <td>226546.000000</td>\n",
       "      <td>3.863673e+07</td>\n",
       "      <td>0.000000</td>\n",
       "      <td>0.000000</td>\n",
       "      <td>5.024660e+03</td>\n",
       "      <td>5.024660e+03</td>\n",
       "      <td>3.878070e+03</td>\n",
       "      <td>2.000000</td>\n",
       "      <td>62.000000</td>\n",
       "      <td>10.000000</td>\n",
       "      <td>3.683775e+07</td>\n",
       "    </tr>\n",
       "    <tr>\n",
       "      <th>75%</th>\n",
       "      <td>5.424193e+08</td>\n",
       "      <td>4.447530e+07</td>\n",
       "      <td>228098.000000</td>\n",
       "      <td>4.447530e+07</td>\n",
       "      <td>0.000000</td>\n",
       "      <td>0.000000</td>\n",
       "      <td>1.122364e+04</td>\n",
       "      <td>1.122364e+04</td>\n",
       "      <td>9.854090e+03</td>\n",
       "      <td>6.000000</td>\n",
       "      <td>68.000000</td>\n",
       "      <td>20.000000</td>\n",
       "      <td>6.165690e+07</td>\n",
       "    </tr>\n",
       "    <tr>\n",
       "      <th>max</th>\n",
       "      <td>5.459100e+08</td>\n",
       "      <td>5.153547e+07</td>\n",
       "      <td>229624.000000</td>\n",
       "      <td>5.153547e+07</td>\n",
       "      <td>589327.200000</td>\n",
       "      <td>1.000000</td>\n",
       "      <td>2.166982e+06</td>\n",
       "      <td>2.166982e+06</td>\n",
       "      <td>2.166982e+06</td>\n",
       "      <td>558.000000</td>\n",
       "      <td>618.000000</td>\n",
       "      <td>50.000000</td>\n",
       "      <td>4.658871e+12</td>\n",
       "    </tr>\n",
       "  </tbody>\n",
       "</table>\n",
       "</div>"
      ],
      "text/plain": [
       "       acct_doc_header_id    doc_number    cust_number    invoice_id  \\\n",
       "count        4.639700e+04  4.639700e+04   46397.000000  4.639700e+04   \n",
       "mean         5.387213e+08  3.899861e+07  223534.684398  3.899861e+07   \n",
       "std          4.224339e+06  6.755627e+06    4443.115524  6.755627e+06   \n",
       "min          5.315170e+08  2.832870e+07  218994.000000  2.832870e+07   \n",
       "25%          5.353374e+08  3.290410e+07  218997.000000  3.290410e+07   \n",
       "50%          5.386262e+08  3.863673e+07  226546.000000  3.863673e+07   \n",
       "75%          5.424193e+08  4.447530e+07  228098.000000  4.447530e+07   \n",
       "max          5.459100e+08  5.153547e+07  229624.000000  5.153547e+07   \n",
       "\n",
       "       total_open_amount  is_open_invoice  invoice_currency  \\\n",
       "count       46397.000000     46397.000000      4.639700e+04   \n",
       "mean          890.499372         0.083497      8.539911e+03   \n",
       "std          5534.757000         0.276635      1.746329e+04   \n",
       "min             0.000000         0.000000      1.420000e+00   \n",
       "25%             0.000000         0.000000      1.699170e+03   \n",
       "50%             0.000000         0.000000      5.024660e+03   \n",
       "75%             0.000000         0.000000      1.122364e+04   \n",
       "max        589327.200000         1.000000      2.166982e+06   \n",
       "\n",
       "       actual_outstanding_amount  payment_amount  days_past_duedate  \\\n",
       "count               4.639700e+04    4.639700e+04       46397.000000   \n",
       "mean                8.539911e+03    7.385753e+03           8.332586   \n",
       "std                 1.746329e+04    1.656593e+04          35.001317   \n",
       "min                 1.420000e+00    0.000000e+00         -69.000000   \n",
       "25%                 1.699170e+03    8.630100e+02          -2.000000   \n",
       "50%                 5.024660e+03    3.878070e+03           2.000000   \n",
       "75%                 1.122364e+04    9.854090e+03           6.000000   \n",
       "max                 2.166982e+06    2.166982e+06         558.000000   \n",
       "\n",
       "        age_invoice  business_code_mapped  actual_outstanding_amount_dev  \n",
       "count  46397.000000          46397.000000                   4.639700e+04  \n",
       "mean      69.401125             12.308813                   3.049599e+08  \n",
       "std       34.958528              9.922833                   2.230812e+10  \n",
       "min        4.000000              0.000000                   7.966323e-03  \n",
       "25%       59.000000              5.000000                   1.073965e+07  \n",
       "50%       62.000000             10.000000                   3.683775e+07  \n",
       "75%       68.000000             20.000000                   6.165690e+07  \n",
       "max      618.000000             50.000000                   4.658871e+12  "
      ]
     },
     "execution_count": 25,
     "metadata": {},
     "output_type": "execute_result"
    }
   ],
   "source": [
    "df_pd.describe()"
   ]
  },
  {
   "cell_type": "code",
   "execution_count": 26,
   "metadata": {},
   "outputs": [
    {
     "data": {
      "image/png": "[encoded data removed]",
      "text/plain": [
       "<Figure size 432x288 with 1 Axes>"
      ]
     },
     "metadata": {
      "needs_background": "light"
     },
     "output_type": "display_data"
    }
   ],
   "source": [
    "fig=df.actual_outstanding_amount.hist(bins=50)"
   ]
  },
  {
   "cell_type": "markdown",
   "metadata": {},
   "source": [
    "Calculating the mean,median,mode,variance and standard deviation of payment amount"
   ]
  },
  {
   "cell_type": "code",
   "execution_count": 27,
   "metadata": {},
   "outputs": [
    {
     "name": "stdout",
     "output_type": "stream",
     "text": [
      "Mean of payement amount is 7385.753059896113\n"
     ]
    }
   ],
   "source": [
    "pa_sum=df['payment_amount'].sum()\n",
    "pa_count=df['payment_amount'].count()\n",
    "pa_mean=pa_sum/pa_count\n",
    "print(\"Mean of payement amount is\",pa_mean)"
   ]
  },
  {
   "cell_type": "code",
   "execution_count": 28,
   "metadata": {},
   "outputs": [
    {
     "data": {
      "text/plain": [
       "46397"
      ]
     },
     "execution_count": 28,
     "metadata": {},
     "output_type": "execute_result"
    }
   ],
   "source": [
    "df_pa= df.sort_values(['payment_amount'])\n",
    "pa_count"
   ]
  },
  {
   "cell_type": "code",
   "execution_count": 29,
   "metadata": {},
   "outputs": [
    {
     "name": "stdout",
     "output_type": "stream",
     "text": [
      "Median of data-set is : 3878.07 \n"
     ]
    }
   ],
   "source": [
    "print(\"Median of data-set is : % s \"\n",
    "        % (statistics.median(df_pa.payment_amount)))"
   ]
  },
  {
   "cell_type": "code",
   "execution_count": 30,
   "metadata": {},
   "outputs": [
    {
     "name": "stdout",
     "output_type": "stream",
     "text": [
      "The most payment amount is, as indicated by its mode, is: 0.0\n"
     ]
    }
   ],
   "source": [
    "pa_mode = df_pa.payment_amount.value_counts().index[0]\n",
    "print(\"The most payment amount is, as indicated by its mode, is:\", pa_mode)"
   ]
  },
  {
   "cell_type": "code",
   "execution_count": 31,
   "metadata": {},
   "outputs": [
    {
     "name": "stdout",
     "output_type": "stream",
     "text": [
      "Variance is: 274429969.68171036\n"
     ]
    }
   ],
   "source": [
    "df_pa['payment_amount_dev'] = (df_pa['payment_amount'] - pa_mean) ** 2\n",
    "pa_variance = df_pa.payment_amount_dev.sum() / (pa_count - 1)\n",
    "print(\"Variance is:\", pa_variance)"
   ]
  },
  {
   "cell_type": "code",
   "execution_count": 32,
   "metadata": {},
   "outputs": [
    {
     "name": "stdout",
     "output_type": "stream",
     "text": [
      "Standard Deviation is: 16565.92797526629\n"
     ]
    }
   ],
   "source": [
    "pa_SD = np.sqrt(pa_variance)\n",
    "print(\"Standard Deviation is:\", pa_SD)"
   ]
  },
  {
   "cell_type": "code",
   "execution_count": 33,
   "metadata": {},
   "outputs": [
    {
     "data": {
      "image/png": "[encoded data removed]",
      "text/plain": [
       "<Figure size 432x288 with 1 Axes>"
      ]
     },
     "metadata": {
      "needs_background": "light"
     },
     "output_type": "display_data"
    }
   ],
   "source": [
    "fig=df.payment_amount.hist(bins=50)"
   ]
  },
  {
   "cell_type": "code",
   "execution_count": 34,
   "metadata": {},
   "outputs": [
    {
     "data": {
      "text/html": [
       "<div>\n",
       "<style scoped>\n",
       "    .dataframe tbody tr th:only-of-type {\n",
       "        vertical-align: middle;\n",
       "    }\n",
       "\n",
       "    .dataframe tbody tr th {\n",
       "        vertical-align: top;\n",
       "    }\n",
       "\n",
       "    .dataframe thead th {\n",
       "        text-align: right;\n",
       "    }\n",
       "</style>\n",
       "<table border=\"1\" class=\"dataframe\">\n",
       "  <thead>\n",
       "    <tr style=\"text-align: right;\">\n",
       "      <th></th>\n",
       "      <th>acct_doc_header_id</th>\n",
       "      <th>doc_number</th>\n",
       "      <th>cust_number</th>\n",
       "      <th>invoice_id</th>\n",
       "      <th>total_open_amount</th>\n",
       "      <th>is_open_invoice</th>\n",
       "      <th>invoice_currency</th>\n",
       "      <th>actual_outstanding_amount</th>\n",
       "      <th>payment_amount</th>\n",
       "      <th>days_past_duedate</th>\n",
       "      <th>age_invoice</th>\n",
       "      <th>business_code_mapped</th>\n",
       "      <th>payment_amount_dev</th>\n",
       "    </tr>\n",
       "  </thead>\n",
       "  <tbody>\n",
       "    <tr>\n",
       "      <th>count</th>\n",
       "      <td>4.639700e+04</td>\n",
       "      <td>4.639700e+04</td>\n",
       "      <td>46397.000000</td>\n",
       "      <td>4.639700e+04</td>\n",
       "      <td>46397.000000</td>\n",
       "      <td>46397.000000</td>\n",
       "      <td>4.639700e+04</td>\n",
       "      <td>4.639700e+04</td>\n",
       "      <td>4.639700e+04</td>\n",
       "      <td>46397.000000</td>\n",
       "      <td>46397.000000</td>\n",
       "      <td>46397.000000</td>\n",
       "      <td>4.639700e+04</td>\n",
       "    </tr>\n",
       "    <tr>\n",
       "      <th>mean</th>\n",
       "      <td>5.387213e+08</td>\n",
       "      <td>3.899861e+07</td>\n",
       "      <td>223534.684398</td>\n",
       "      <td>3.899861e+07</td>\n",
       "      <td>890.499372</td>\n",
       "      <td>0.083497</td>\n",
       "      <td>8.539911e+03</td>\n",
       "      <td>8.539911e+03</td>\n",
       "      <td>7.385753e+03</td>\n",
       "      <td>8.332586</td>\n",
       "      <td>69.401125</td>\n",
       "      <td>12.308813</td>\n",
       "      <td>2.744241e+08</td>\n",
       "    </tr>\n",
       "    <tr>\n",
       "      <th>std</th>\n",
       "      <td>4.224339e+06</td>\n",
       "      <td>6.755627e+06</td>\n",
       "      <td>4443.115524</td>\n",
       "      <td>6.755627e+06</td>\n",
       "      <td>5534.757000</td>\n",
       "      <td>0.276635</td>\n",
       "      <td>1.746329e+04</td>\n",
       "      <td>1.746329e+04</td>\n",
       "      <td>1.656593e+04</td>\n",
       "      <td>35.001317</td>\n",
       "      <td>34.958528</td>\n",
       "      <td>9.922833</td>\n",
       "      <td>2.216347e+10</td>\n",
       "    </tr>\n",
       "    <tr>\n",
       "      <th>min</th>\n",
       "      <td>5.315170e+08</td>\n",
       "      <td>2.832870e+07</td>\n",
       "      <td>218994.000000</td>\n",
       "      <td>2.832870e+07</td>\n",
       "      <td>0.000000</td>\n",
       "      <td>0.000000</td>\n",
       "      <td>1.420000e+00</td>\n",
       "      <td>1.420000e+00</td>\n",
       "      <td>0.000000e+00</td>\n",
       "      <td>-69.000000</td>\n",
       "      <td>4.000000</td>\n",
       "      <td>0.000000</td>\n",
       "      <td>5.881971e-01</td>\n",
       "    </tr>\n",
       "    <tr>\n",
       "      <th>25%</th>\n",
       "      <td>5.353374e+08</td>\n",
       "      <td>3.290410e+07</td>\n",
       "      <td>218997.000000</td>\n",
       "      <td>3.290410e+07</td>\n",
       "      <td>0.000000</td>\n",
       "      <td>0.000000</td>\n",
       "      <td>1.699170e+03</td>\n",
       "      <td>1.699170e+03</td>\n",
       "      <td>8.630100e+02</td>\n",
       "      <td>-2.000000</td>\n",
       "      <td>59.000000</td>\n",
       "      <td>5.000000</td>\n",
       "      <td>1.034995e+07</td>\n",
       "    </tr>\n",
       "    <tr>\n",
       "      <th>50%</th>\n",
       "      <td>5.386262e+08</td>\n",
       "      <td>3.863673e+07</td>\n",
       "      <td>226546.000000</td>\n",
       "      <td>3.863673e+07</td>\n",
       "      <td>0.000000</td>\n",
       "      <td>0.000000</td>\n",
       "      <td>5.024660e+03</td>\n",
       "      <td>5.024660e+03</td>\n",
       "      <td>3.878070e+03</td>\n",
       "      <td>2.000000</td>\n",
       "      <td>62.000000</td>\n",
       "      <td>10.000000</td>\n",
       "      <td>3.417306e+07</td>\n",
       "    </tr>\n",
       "    <tr>\n",
       "      <th>75%</th>\n",
       "      <td>5.424193e+08</td>\n",
       "      <td>4.447530e+07</td>\n",
       "      <td>228098.000000</td>\n",
       "      <td>4.447530e+07</td>\n",
       "      <td>0.000000</td>\n",
       "      <td>0.000000</td>\n",
       "      <td>1.122364e+04</td>\n",
       "      <td>1.122364e+04</td>\n",
       "      <td>9.854090e+03</td>\n",
       "      <td>6.000000</td>\n",
       "      <td>68.000000</td>\n",
       "      <td>20.000000</td>\n",
       "      <td>5.454935e+07</td>\n",
       "    </tr>\n",
       "    <tr>\n",
       "      <th>max</th>\n",
       "      <td>5.459100e+08</td>\n",
       "      <td>5.153547e+07</td>\n",
       "      <td>229624.000000</td>\n",
       "      <td>5.153547e+07</td>\n",
       "      <td>589327.200000</td>\n",
       "      <td>1.000000</td>\n",
       "      <td>2.166982e+06</td>\n",
       "      <td>2.166982e+06</td>\n",
       "      <td>2.166982e+06</td>\n",
       "      <td>558.000000</td>\n",
       "      <td>618.000000</td>\n",
       "      <td>50.000000</td>\n",
       "      <td>4.663855e+12</td>\n",
       "    </tr>\n",
       "  </tbody>\n",
       "</table>\n",
       "</div>"
      ],
      "text/plain": [
       "       acct_doc_header_id    doc_number    cust_number    invoice_id  \\\n",
       "count        4.639700e+04  4.639700e+04   46397.000000  4.639700e+04   \n",
       "mean         5.387213e+08  3.899861e+07  223534.684398  3.899861e+07   \n",
       "std          4.224339e+06  6.755627e+06    4443.115524  6.755627e+06   \n",
       "min          5.315170e+08  2.832870e+07  218994.000000  2.832870e+07   \n",
       "25%          5.353374e+08  3.290410e+07  218997.000000  3.290410e+07   \n",
       "50%          5.386262e+08  3.863673e+07  226546.000000  3.863673e+07   \n",
       "75%          5.424193e+08  4.447530e+07  228098.000000  4.447530e+07   \n",
       "max          5.459100e+08  5.153547e+07  229624.000000  5.153547e+07   \n",
       "\n",
       "       total_open_amount  is_open_invoice  invoice_currency  \\\n",
       "count       46397.000000     46397.000000      4.639700e+04   \n",
       "mean          890.499372         0.083497      8.539911e+03   \n",
       "std          5534.757000         0.276635      1.746329e+04   \n",
       "min             0.000000         0.000000      1.420000e+00   \n",
       "25%             0.000000         0.000000      1.699170e+03   \n",
       "50%             0.000000         0.000000      5.024660e+03   \n",
       "75%             0.000000         0.000000      1.122364e+04   \n",
       "max        589327.200000         1.000000      2.166982e+06   \n",
       "\n",
       "       actual_outstanding_amount  payment_amount  days_past_duedate  \\\n",
       "count               4.639700e+04    4.639700e+04       46397.000000   \n",
       "mean                8.539911e+03    7.385753e+03           8.332586   \n",
       "std                 1.746329e+04    1.656593e+04          35.001317   \n",
       "min                 1.420000e+00    0.000000e+00         -69.000000   \n",
       "25%                 1.699170e+03    8.630100e+02          -2.000000   \n",
       "50%                 5.024660e+03    3.878070e+03           2.000000   \n",
       "75%                 1.122364e+04    9.854090e+03           6.000000   \n",
       "max                 2.166982e+06    2.166982e+06         558.000000   \n",
       "\n",
       "        age_invoice  business_code_mapped  payment_amount_dev  \n",
       "count  46397.000000          46397.000000        4.639700e+04  \n",
       "mean      69.401125             12.308813        2.744241e+08  \n",
       "std       34.958528              9.922833        2.216347e+10  \n",
       "min        4.000000              0.000000        5.881971e-01  \n",
       "25%       59.000000              5.000000        1.034995e+07  \n",
       "50%       62.000000             10.000000        3.417306e+07  \n",
       "75%       68.000000             20.000000        5.454935e+07  \n",
       "max      618.000000             50.000000        4.663855e+12  "
      ]
     },
     "execution_count": 34,
     "metadata": {},
     "output_type": "execute_result"
    }
   ],
   "source": [
    "df_pa.describe()"
   ]
  },
  {
   "cell_type": "code",
   "execution_count": 35,
   "metadata": {},
   "outputs": [],
   "source": [
    "#change the datatype of clear date to datetime\n",
    "df['clear_date'] = pd.to_datetime(df.clear_date)"
   ]
  },
  {
   "cell_type": "code",
   "execution_count": 36,
   "metadata": {},
   "outputs": [],
   "source": [
    "#mapping the customer name and age invoice column using mean of age invoice so that it can be used a feature \n",
    "mapper=df.groupby('name_customer')['age_invoice'].agg('mean')\n",
    "df['age_invoice_avg']=df['name_customer'].map(mapper)"
   ]
  },
  {
   "cell_type": "code",
   "execution_count": 37,
   "metadata": {},
   "outputs": [],
   "source": [
    "#mapping the business code and age outstanding amount using mean of outstanding amount to be paid so that it can be used a feature \n",
    "mapper=df.groupby('business_code')['actual_outstanding_amount'].agg('mean')\n",
    "df['actual_outstanding_amount_avg']=df['business_code'].map(mapper)"
   ]
  },
  {
   "cell_type": "code",
   "execution_count": 38,
   "metadata": {},
   "outputs": [],
   "source": [
    "#mapping the customer name and days past due date mentioned in invoice using mean of days after due date  so that it can be used a feature \n",
    "mapper=df.groupby('name_customer')['days_past_duedate'].agg('mean')\n",
    "df['days_past_duedate_avg']=df['name_customer'].map(mapper)"
   ]
  },
  {
   "cell_type": "markdown",
   "metadata": {},
   "source": [
    "Transforming invoice currency so that the distribution is better than normal distribution"
   ]
  },
  {
   "cell_type": "code",
   "execution_count": 39,
   "metadata": {},
   "outputs": [
    {
     "data": {
      "image/png": "[encoded data removed]",
      "text/plain": [
       "<Figure size 1080x432 with 2 Axes>"
      ]
     },
     "metadata": {
      "needs_background": "light"
     },
     "output_type": "display_data"
    }
   ],
   "source": [
    "def diagnostic_plots(df, variable):\n",
    "    # function to plot a histogram and a Q-Q plot\n",
    "    # side by side, for a certain variable\n",
    "    \n",
    "    plt.figure(figsize=(15,6))\n",
    "    plt.subplot(1, 2, 1)\n",
    "    df[variable].hist()\n",
    "\n",
    "    plt.subplot(1, 2, 2)\n",
    "    stats.probplot(df[variable], dist=\"norm\", plot=pylab)\n",
    "\n",
    "    plt.show()\n",
    "    \n",
    "diagnostic_plots(df, 'invoice_currency')"
   ]
  },
  {
   "cell_type": "code",
   "execution_count": 40,
   "metadata": {},
   "outputs": [
    {
     "data": {
      "image/png": "[encoded data removed]",
      "text/plain": [
       "<Figure size 1080x432 with 2 Axes>"
      ]
     },
     "metadata": {
      "needs_background": "light"
     },
     "output_type": "display_data"
    }
   ],
   "source": [
    "df['N_invoice_currency'] = data.invoice_currency**(1/1.2) \n",
    "\n",
    "diagnostic_plots(df, 'N_invoice_currency')"
   ]
  },
  {
   "cell_type": "code",
   "execution_count": 41,
   "metadata": {},
   "outputs": [
    {
     "data": {
      "image/png": "[encoded data removed]",
      "text/plain": [
       "<Figure size 1080x432 with 2 Axes>"
      ]
     },
     "metadata": {
      "needs_background": "light"
     },
     "output_type": "display_data"
    }
   ],
   "source": [
    "df['N_invoice_currency'] =df.invoice_currency**(1/2)\n",
    "\n",
    "diagnostic_plots(df, 'N_invoice_currency')"
   ]
  },
  {
   "cell_type": "code",
   "execution_count": 42,
   "metadata": {},
   "outputs": [
    {
     "name": "stdout",
     "output_type": "stream",
     "text": [
      "Optimal λ:  0.2156702116017453\n"
     ]
    },
    {
     "data": {
      "image/png": "[encoded data removed]",
      "text/plain": [
       "<Figure size 1080x432 with 2 Axes>"
      ]
     },
     "metadata": {
      "needs_background": "light"
     },
     "output_type": "display_data"
    }
   ],
   "source": [
    "df['N_invoice_currency'], param = stats.boxcox(df.invoice_currency) \n",
    "\n",
    "print('Optimal λ: ', param)\n",
    "\n",
    "diagnostic_plots(df, 'N_invoice_currency')\n",
    "#Hence box cox gives the best transformation"
   ]
  },
  {
   "cell_type": "code",
   "execution_count": 43,
   "metadata": {},
   "outputs": [
    {
     "data": {
      "text/html": [
       "<div>\n",
       "<style scoped>\n",
       "    .dataframe tbody tr th:only-of-type {\n",
       "        vertical-align: middle;\n",
       "    }\n",
       "\n",
       "    .dataframe tbody tr th {\n",
       "        vertical-align: top;\n",
       "    }\n",
       "\n",
       "    .dataframe thead th {\n",
       "        text-align: right;\n",
       "    }\n",
       "</style>\n",
       "<table border=\"1\" class=\"dataframe\">\n",
       "  <thead>\n",
       "    <tr style=\"text-align: right;\">\n",
       "      <th></th>\n",
       "      <th>acct_doc_header_id</th>\n",
       "      <th>doc_number</th>\n",
       "      <th>business_code</th>\n",
       "      <th>cust_number</th>\n",
       "      <th>name_customer</th>\n",
       "      <th>document_create_date</th>\n",
       "      <th>invoice_id</th>\n",
       "      <th>baseline_create_date</th>\n",
       "      <th>invoice_date_norm</th>\n",
       "      <th>total_open_amount</th>\n",
       "      <th>...</th>\n",
       "      <th>invoice_currency</th>\n",
       "      <th>actual_outstanding_amount</th>\n",
       "      <th>payment_amount</th>\n",
       "      <th>days_past_duedate</th>\n",
       "      <th>age_invoice</th>\n",
       "      <th>business_code_mapped</th>\n",
       "      <th>age_invoice_avg</th>\n",
       "      <th>actual_outstanding_amount_avg</th>\n",
       "      <th>days_past_duedate_avg</th>\n",
       "      <th>N_invoice_currency</th>\n",
       "    </tr>\n",
       "  </thead>\n",
       "  <tbody>\n",
       "    <tr>\n",
       "      <th>40196</th>\n",
       "      <td>531520333</td>\n",
       "      <td>28347387</td>\n",
       "      <td>skes8</td>\n",
       "      <td>228098</td>\n",
       "      <td>skynetpwc softwares</td>\n",
       "      <td>2017-05-01</td>\n",
       "      <td>28347387</td>\n",
       "      <td>2017-05-01</td>\n",
       "      <td>2017-05-01</td>\n",
       "      <td>0.0</td>\n",
       "      <td>...</td>\n",
       "      <td>1998.80</td>\n",
       "      <td>1998.80</td>\n",
       "      <td>180.55</td>\n",
       "      <td>110</td>\n",
       "      <td>170</td>\n",
       "      <td>20</td>\n",
       "      <td>63.020588</td>\n",
       "      <td>4956.737980</td>\n",
       "      <td>3.020588</td>\n",
       "      <td>19.246213</td>\n",
       "    </tr>\n",
       "    <tr>\n",
       "      <th>38306</th>\n",
       "      <td>531533090</td>\n",
       "      <td>28364248</td>\n",
       "      <td>holi10</td>\n",
       "      <td>218995</td>\n",
       "      <td>hooli</td>\n",
       "      <td>2017-05-02</td>\n",
       "      <td>28364248</td>\n",
       "      <td>2017-05-02</td>\n",
       "      <td>2017-05-02</td>\n",
       "      <td>0.0</td>\n",
       "      <td>...</td>\n",
       "      <td>17582.86</td>\n",
       "      <td>17582.86</td>\n",
       "      <td>17582.86</td>\n",
       "      <td>88</td>\n",
       "      <td>148</td>\n",
       "      <td>35</td>\n",
       "      <td>75.318792</td>\n",
       "      <td>9135.160906</td>\n",
       "      <td>15.318792</td>\n",
       "      <td>33.535667</td>\n",
       "    </tr>\n",
       "    <tr>\n",
       "      <th>34428</th>\n",
       "      <td>531533086</td>\n",
       "      <td>28364219</td>\n",
       "      <td>holi10</td>\n",
       "      <td>218995</td>\n",
       "      <td>hooli</td>\n",
       "      <td>2017-05-02</td>\n",
       "      <td>28364219</td>\n",
       "      <td>2017-05-02</td>\n",
       "      <td>2017-05-02</td>\n",
       "      <td>0.0</td>\n",
       "      <td>...</td>\n",
       "      <td>13168.57</td>\n",
       "      <td>13168.57</td>\n",
       "      <td>13168.57</td>\n",
       "      <td>88</td>\n",
       "      <td>148</td>\n",
       "      <td>35</td>\n",
       "      <td>75.318792</td>\n",
       "      <td>9135.160906</td>\n",
       "      <td>15.318792</td>\n",
       "      <td>31.228354</td>\n",
       "    </tr>\n",
       "    <tr>\n",
       "      <th>8976</th>\n",
       "      <td>531517996</td>\n",
       "      <td>28332803</td>\n",
       "      <td>holi10</td>\n",
       "      <td>218995</td>\n",
       "      <td>hooli</td>\n",
       "      <td>2017-05-01</td>\n",
       "      <td>28332803</td>\n",
       "      <td>2017-05-01</td>\n",
       "      <td>2017-05-01</td>\n",
       "      <td>0.0</td>\n",
       "      <td>...</td>\n",
       "      <td>2568.83</td>\n",
       "      <td>2568.83</td>\n",
       "      <td>2568.83</td>\n",
       "      <td>89</td>\n",
       "      <td>149</td>\n",
       "      <td>35</td>\n",
       "      <td>75.318792</td>\n",
       "      <td>9135.160906</td>\n",
       "      <td>15.318792</td>\n",
       "      <td>20.574181</td>\n",
       "    </tr>\n",
       "    <tr>\n",
       "      <th>29734</th>\n",
       "      <td>531533082</td>\n",
       "      <td>28364165</td>\n",
       "      <td>holi10</td>\n",
       "      <td>218995</td>\n",
       "      <td>hooli</td>\n",
       "      <td>2017-05-02</td>\n",
       "      <td>28364165</td>\n",
       "      <td>2017-05-02</td>\n",
       "      <td>2017-05-02</td>\n",
       "      <td>0.0</td>\n",
       "      <td>...</td>\n",
       "      <td>4443.26</td>\n",
       "      <td>4443.26</td>\n",
       "      <td>4443.26</td>\n",
       "      <td>88</td>\n",
       "      <td>148</td>\n",
       "      <td>35</td>\n",
       "      <td>75.318792</td>\n",
       "      <td>9135.160906</td>\n",
       "      <td>15.318792</td>\n",
       "      <td>23.736630</td>\n",
       "    </tr>\n",
       "  </tbody>\n",
       "</table>\n",
       "<p>5 rows × 23 columns</p>\n",
       "</div>"
      ],
      "text/plain": [
       "       acct_doc_header_id  doc_number business_code  cust_number  \\\n",
       "40196           531520333    28347387         skes8       228098   \n",
       "38306           531533090    28364248        holi10       218995   \n",
       "34428           531533086    28364219        holi10       218995   \n",
       "8976            531517996    28332803        holi10       218995   \n",
       "29734           531533082    28364165        holi10       218995   \n",
       "\n",
       "             name_customer document_create_date  invoice_id  \\\n",
       "40196  skynetpwc softwares           2017-05-01    28347387   \n",
       "38306                hooli           2017-05-02    28364248   \n",
       "34428                hooli           2017-05-02    28364219   \n",
       "8976                 hooli           2017-05-01    28332803   \n",
       "29734                hooli           2017-05-02    28364165   \n",
       "\n",
       "      baseline_create_date invoice_date_norm  total_open_amount  ...  \\\n",
       "40196           2017-05-01        2017-05-01                0.0  ...   \n",
       "38306           2017-05-02        2017-05-02                0.0  ...   \n",
       "34428           2017-05-02        2017-05-02                0.0  ...   \n",
       "8976            2017-05-01        2017-05-01                0.0  ...   \n",
       "29734           2017-05-02        2017-05-02                0.0  ...   \n",
       "\n",
       "      invoice_currency actual_outstanding_amount  payment_amount  \\\n",
       "40196          1998.80                   1998.80          180.55   \n",
       "38306         17582.86                  17582.86        17582.86   \n",
       "34428         13168.57                  13168.57        13168.57   \n",
       "8976           2568.83                   2568.83         2568.83   \n",
       "29734          4443.26                   4443.26         4443.26   \n",
       "\n",
       "       days_past_duedate  age_invoice  business_code_mapped  age_invoice_avg  \\\n",
       "40196                110          170                    20        63.020588   \n",
       "38306                 88          148                    35        75.318792   \n",
       "34428                 88          148                    35        75.318792   \n",
       "8976                  89          149                    35        75.318792   \n",
       "29734                 88          148                    35        75.318792   \n",
       "\n",
       "       actual_outstanding_amount_avg  days_past_duedate_avg  \\\n",
       "40196                    4956.737980               3.020588   \n",
       "38306                    9135.160906              15.318792   \n",
       "34428                    9135.160906              15.318792   \n",
       "8976                     9135.160906              15.318792   \n",
       "29734                    9135.160906              15.318792   \n",
       "\n",
       "       N_invoice_currency  \n",
       "40196           19.246213  \n",
       "38306           33.535667  \n",
       "34428           31.228354  \n",
       "8976            20.574181  \n",
       "29734           23.736630  \n",
       "\n",
       "[5 rows x 23 columns]"
      ]
     },
     "execution_count": 43,
     "metadata": {},
     "output_type": "execute_result"
    }
   ],
   "source": [
    "df.head()"
   ]
  },
  {
   "cell_type": "code",
   "execution_count": 44,
   "metadata": {},
   "outputs": [
    {
     "data": {
      "text/plain": [
       "(46397, 23)"
      ]
     },
     "execution_count": 44,
     "metadata": {},
     "output_type": "execute_result"
    }
   ],
   "source": [
    "df.shape"
   ]
  },
  {
   "cell_type": "code",
   "execution_count": 45,
   "metadata": {
    "scrolled": true
   },
   "outputs": [
    {
     "data": {
      "text/plain": [
       "acct_doc_header_id                        int64\n",
       "doc_number                                int64\n",
       "business_code                            object\n",
       "cust_number                               int64\n",
       "name_customer                            object\n",
       "document_create_date                     object\n",
       "invoice_id                                int64\n",
       "baseline_create_date                     object\n",
       "invoice_date_norm                        object\n",
       "total_open_amount                       float64\n",
       "shipping_date                            object\n",
       "clear_date                       datetime64[ns]\n",
       "is_open_invoice                           int64\n",
       "invoice_currency                        float64\n",
       "actual_outstanding_amount               float64\n",
       "payment_amount                          float64\n",
       "days_past_duedate                         int64\n",
       "age_invoice                               int64\n",
       "business_code_mapped                      int64\n",
       "age_invoice_avg                         float64\n",
       "actual_outstanding_amount_avg           float64\n",
       "days_past_duedate_avg                   float64\n",
       "N_invoice_currency                      float64\n",
       "dtype: object"
      ]
     },
     "execution_count": 45,
     "metadata": {},
     "output_type": "execute_result"
    }
   ],
   "source": [
    "\n",
    "df.dtypes"
   ]
  },
  {
   "cell_type": "code",
   "execution_count": 46,
   "metadata": {},
   "outputs": [],
   "source": [
    "#including only numerics and datetime labels in the dataframe\n",
    "numerics = ['int16', 'int32', 'int64', 'float16', 'float32', 'float64','datetime']\n",
    "numerical_vars = list(df.select_dtypes(include=numerics).columns)\n",
    "df= df[numerical_vars]"
   ]
  },
  {
   "cell_type": "code",
   "execution_count": 47,
   "metadata": {},
   "outputs": [
    {
     "data": {
      "text/plain": [
       "acct_doc_header_id                        int64\n",
       "doc_number                                int64\n",
       "cust_number                               int64\n",
       "invoice_id                                int64\n",
       "total_open_amount                       float64\n",
       "clear_date                       datetime64[ns]\n",
       "is_open_invoice                           int64\n",
       "invoice_currency                        float64\n",
       "actual_outstanding_amount               float64\n",
       "payment_amount                          float64\n",
       "days_past_duedate                         int64\n",
       "age_invoice                               int64\n",
       "business_code_mapped                      int64\n",
       "age_invoice_avg                         float64\n",
       "actual_outstanding_amount_avg           float64\n",
       "days_past_duedate_avg                   float64\n",
       "N_invoice_currency                      float64\n",
       "dtype: object"
      ]
     },
     "execution_count": 47,
     "metadata": {},
     "output_type": "execute_result"
    }
   ],
   "source": [
    "df.dtypes"
   ]
  },
  {
   "cell_type": "code",
   "execution_count": 48,
   "metadata": {},
   "outputs": [
    {
     "data": {
      "text/plain": [
       "((41397, 17), (5000, 17))"
      ]
     },
     "execution_count": 48,
     "metadata": {},
     "output_type": "execute_result"
    }
   ],
   "source": [
    "#Splitting of train and test with the condition that train will have data where clear date is not null and test will have data where clear date is null \n",
    "X_test=df.loc[df.clear_date.isnull()].copy()\n",
    "X_train=df.loc[df.clear_date.notnull()].copy()\n",
    "X_train.shape,X_test.shape"
   ]
  },
  {
   "cell_type": "code",
   "execution_count": 49,
   "metadata": {},
   "outputs": [],
   "source": [
    "#excluding datetime label from train and test set\n",
    "X_train=X_train.select_dtypes(exclude=['datetime'])\n",
    "X_test=X_test.select_dtypes(exclude=['datetime'])"
   ]
  },
  {
   "cell_type": "code",
   "execution_count": 50,
   "metadata": {},
   "outputs": [],
   "source": [
    "#mapping the customer name and invoice currency using mean of invoice currency  so that it can be used a feature \n",
    "mapper=X_train.groupby('cust_number')['invoice_currency'].agg('mean')\n",
    "X_train['invoice_avg']=X_train['cust_number'].map(mapper)\n",
    "X_test['invoice_avg']=X_test['cust_number'].map(mapper)"
   ]
  },
  {
   "cell_type": "code",
   "execution_count": 51,
   "metadata": {},
   "outputs": [
    {
     "name": "stdout",
     "output_type": "stream",
     "text": [
      "       acct_doc_header_id  doc_number  cust_number  invoice_id  \\\n",
      "2274            532714300    30058103       219001    30058103   \n",
      "24727           537291227    36553383       228104    36553383   \n",
      "1473            542256937    44073800       218996    44073800   \n",
      "29319           533814499    31470216       218997    31470216   \n",
      "4256            538842095    38812158       226550    38812158   \n",
      "...                   ...         ...          ...         ...   \n",
      "28456           533609265    31220404       218996    31220404   \n",
      "29208           535473615    33167175       218996    33167175   \n",
      "25362           543971484    48056042       228453    48056042   \n",
      "27586           531598327    28489899       228084    28489899   \n",
      "34117           536788203    35777708       219001    35777708   \n",
      "\n",
      "       total_open_amount  is_open_invoice  invoice_currency  \\\n",
      "2274                 0.0                0           1748.37   \n",
      "24727                0.0                0          23772.92   \n",
      "1473                 0.0                0          26873.19   \n",
      "29319                0.0                0           1809.73   \n",
      "4256                 0.0                0            598.10   \n",
      "...                  ...              ...               ...   \n",
      "28456                0.0                0           7617.45   \n",
      "29208                0.0                0          44311.79   \n",
      "25362                0.0                0           9089.91   \n",
      "27586                0.0                0          30036.15   \n",
      "34117                0.0                0             65.78   \n",
      "\n",
      "       actual_outstanding_amount  days_past_duedate  age_invoice  \\\n",
      "2274                     1748.37                 37           97   \n",
      "24727                   23772.92                  3           63   \n",
      "1473                    26873.19                 11           86   \n",
      "29319                    1809.73                  2           62   \n",
      "4256                      598.10                  3           63   \n",
      "...                          ...                ...          ...   \n",
      "28456                    7617.45                 -1           59   \n",
      "29208                   44311.79                  3           63   \n",
      "25362                    9089.91                -15           45   \n",
      "27586                   30036.15                117          177   \n",
      "34117                      65.78                 -3           57   \n",
      "\n",
      "       business_code_mapped  age_invoice_avg  actual_outstanding_amount_avg  \\\n",
      "2274                      5        67.740114                    7111.062675   \n",
      "24727                    31        59.224215                   13782.790807   \n",
      "1473                      0        76.819075                   11208.213403   \n",
      "29319                    10        64.291640                    6895.967103   \n",
      "4256                      7        68.877595                    7987.627165   \n",
      "...                     ...              ...                            ...   \n",
      "28456                     0        76.819075                   11208.213403   \n",
      "29208                     0        76.819075                   11208.213403   \n",
      "25362                    26        48.129032                   13341.600516   \n",
      "27586                    19        76.323625                   16262.699903   \n",
      "34117                     5        67.740114                    7111.062675   \n",
      "\n",
      "       days_past_duedate_avg  N_invoice_currency   invoice_avg  \n",
      "2274                7.740114           18.566564   7214.938671  \n",
      "24727              -0.775785           36.101364  14016.067087  \n",
      "1473                7.202976           37.192731  10858.422140  \n",
      "29319               4.291640           18.739823   7082.949874  \n",
      "4256                8.877595           13.774285   8126.881657  \n",
      "...                      ...                 ...           ...  \n",
      "28456               7.202976           27.234647  10858.422140  \n",
      "29208               7.202976           41.956823  10858.422140  \n",
      "25362             -11.870968           28.472837  13162.560970  \n",
      "27586              16.517799           38.208703  16075.380266  \n",
      "34117               7.740114            6.800460   7214.938671  \n",
      "\n",
      "[28977 rows x 16 columns]\n"
     ]
    }
   ],
   "source": [
    "#Validation set\n",
    "val_train,val_test, y_train, y_test = train_test_split(\n",
    "    X_train.drop(labels=['payment_amount'], axis=1),\n",
    "    X_train['payment_amount'],\n",
    "    test_size=0.3,\n",
    "    random_state=42)\n",
    "print(val_train)"
   ]
  },
  {
   "cell_type": "code",
   "execution_count": 52,
   "metadata": {},
   "outputs": [],
   "source": [
    "#dropping columns which would play no role in prediction \n",
    "val_train.drop(['acct_doc_header_id','doc_number','cust_number','invoice_id','invoice_currency','actual_outstanding_amount'], axis=1, inplace=True)"
   ]
  },
  {
   "cell_type": "code",
   "execution_count": 53,
   "metadata": {},
   "outputs": [],
   "source": [
    "#dropping columns which would play no role in prediction \n",
    "val_test.drop(['acct_doc_header_id','doc_number','cust_number','invoice_id','invoice_currency','actual_outstanding_amount'], axis=1, inplace=True)"
   ]
  },
  {
   "cell_type": "code",
   "execution_count": null,
   "metadata": {},
   "outputs": [],
   "source": []
  },
  {
   "cell_type": "code",
   "execution_count": 54,
   "metadata": {},
   "outputs": [
    {
     "data": {
      "text/plain": [
       "VarianceThreshold(threshold=0)"
      ]
     },
     "execution_count": 54,
     "metadata": {},
     "output_type": "execute_result"
    }
   ],
   "source": [
    "from sklearn.feature_selection import VarianceThreshold\n",
    "sel = VarianceThreshold(threshold=0)\n",
    "sel.fit(val_train)  # fit finds the features with zero variance i.e same values throughout the column "
   ]
  },
  {
   "cell_type": "code",
   "execution_count": 55,
   "metadata": {},
   "outputs": [
    {
     "data": {
      "text/plain": [
       "8"
      ]
     },
     "execution_count": 55,
     "metadata": {},
     "output_type": "execute_result"
    }
   ],
   "source": [
    "sum(sel.get_support())"
   ]
  },
  {
   "cell_type": "code",
   "execution_count": 56,
   "metadata": {},
   "outputs": [
    {
     "data": {
      "text/plain": [
       "8"
      ]
     },
     "execution_count": 56,
     "metadata": {},
     "output_type": "execute_result"
    }
   ],
   "source": [
    "len(val_train.columns[sel.get_support()])\n"
   ]
  },
  {
   "cell_type": "code",
   "execution_count": 57,
   "metadata": {},
   "outputs": [
    {
     "name": "stdout",
     "output_type": "stream",
     "text": [
      "2\n"
     ]
    },
    {
     "data": {
      "text/plain": [
       "['total_open_amount', 'is_open_invoice']"
      ]
     },
     "execution_count": 57,
     "metadata": {},
     "output_type": "execute_result"
    }
   ],
   "source": [
    "print(\n",
    "    len([\n",
    "        x for x in val_train.columns\n",
    "        if x not in val_train.columns[sel.get_support()]\n",
    "    ]))\n",
    "\n",
    "[x for x in val_train.columns if x not in val_train.columns[sel.get_support()]]"
   ]
  },
  {
   "cell_type": "code",
   "execution_count": 58,
   "metadata": {},
   "outputs": [
    {
     "data": {
      "text/plain": [
       "((28977, 8), (12420, 8))"
      ]
     },
     "execution_count": 58,
     "metadata": {},
     "output_type": "execute_result"
    }
   ],
   "source": [
    "#dropping those columns with no variance \n",
    "val_train = sel.transform(val_train)\n",
    "val_test = sel.transform(val_test)\n",
    "\n",
    "val_train.shape, val_test.shape"
   ]
  },
  {
   "cell_type": "code",
   "execution_count": 59,
   "metadata": {},
   "outputs": [
    {
     "data": {
      "text/plain": [
       "2274      1748.37\n",
       "24727    23772.92\n",
       "1473     26873.19\n",
       "29319     1809.73\n",
       "4256       598.10\n",
       "           ...   \n",
       "28456     7617.45\n",
       "29208    44311.79\n",
       "25362     9089.91\n",
       "27586    30036.15\n",
       "34117       65.78\n",
       "Name: payment_amount, Length: 28977, dtype: float64"
      ]
     },
     "execution_count": 59,
     "metadata": {},
     "output_type": "execute_result"
    }
   ],
   "source": [
    "y_train"
   ]
  },
  {
   "cell_type": "code",
   "execution_count": 60,
   "metadata": {},
   "outputs": [
    {
     "data": {
      "text/plain": [
       "array([[ 3.70000000e+01,  9.70000000e+01,  5.00000000e+00, ...,\n",
       "         7.74011407e+00,  1.85665644e+01,  7.21493867e+03],\n",
       "       [ 3.00000000e+00,  6.30000000e+01,  3.10000000e+01, ...,\n",
       "        -7.75784753e-01,  3.61013639e+01,  1.40160671e+04],\n",
       "       [ 1.10000000e+01,  8.60000000e+01,  0.00000000e+00, ...,\n",
       "         7.20297556e+00,  3.71927310e+01,  1.08584221e+04],\n",
       "       ...,\n",
       "       [-1.50000000e+01,  4.50000000e+01,  2.60000000e+01, ...,\n",
       "        -1.18709677e+01,  2.84728365e+01,  1.31625610e+04],\n",
       "       [ 1.17000000e+02,  1.77000000e+02,  1.90000000e+01, ...,\n",
       "         1.65177994e+01,  3.82087029e+01,  1.60753803e+04],\n",
       "       [-3.00000000e+00,  5.70000000e+01,  5.00000000e+00, ...,\n",
       "         7.74011407e+00,  6.80045970e+00,  7.21493867e+03]])"
      ]
     },
     "execution_count": 60,
     "metadata": {},
     "output_type": "execute_result"
    }
   ],
   "source": [
    "val_train"
   ]
  },
  {
   "cell_type": "code",
   "execution_count": 62,
   "metadata": {},
   "outputs": [
    {
     "name": "stdout",
     "output_type": "stream",
     "text": [
      "[[ 3.70000000e+01  9.70000000e+01  5.00000000e+00 ...  7.74011407e+00\n",
      "   1.85665644e+01  7.21493867e+03]\n",
      " [ 3.00000000e+00  6.30000000e+01  3.10000000e+01 ... -7.75784753e-01\n",
      "   3.61013639e+01  1.40160671e+04]\n",
      " [ 1.10000000e+01  8.60000000e+01  0.00000000e+00 ...  7.20297556e+00\n",
      "   3.71927310e+01  1.08584221e+04]\n",
      " ...\n",
      " [-1.50000000e+01  4.50000000e+01  2.60000000e+01 ... -1.18709677e+01\n",
      "   2.84728365e+01  1.31625610e+04]\n",
      " [ 1.17000000e+02  1.77000000e+02  1.90000000e+01 ...  1.65177994e+01\n",
      "   3.82087029e+01  1.60753803e+04]\n",
      " [-3.00000000e+00  5.70000000e+01  5.00000000e+00 ...  7.74011407e+00\n",
      "   6.80045970e+00  7.21493867e+03]]\n"
     ]
    }
   ],
   "source": [
    "#linear regession \n",
    "from sklearn.linear_model import LinearRegression\n",
    "reg = LinearRegression(normalize=True)\n",
    "reg.fit(val_train, y_train)\n",
    "print(val_train)"
   ]
  },
  {
   "cell_type": "code",
   "execution_count": 63,
   "metadata": {},
   "outputs": [
    {
     "data": {
      "image/png": "[encoded data removed]",
      "text/plain": [
       "<Figure size 432x288 with 1 Axes>"
      ]
     },
     "metadata": {
      "needs_background": "light"
     },
     "output_type": "display_data"
    }
   ],
   "source": [
    "y_hat=reg.predict(val_train)\n",
    "plt.scatter(y_train,y_hat)\n",
    "plt.xlabel('Target(y-train)',size=18)\n",
    "plt.ylabel('prediction(y-hat)',size=18)\n",
    "plt.show()"
   ]
  },
  {
   "cell_type": "code",
   "execution_count": 64,
   "metadata": {},
   "outputs": [
    {
     "data": {
      "text/plain": [
       "Text(0.5, 1.0, 'residuals')"
      ]
     },
     "execution_count": 64,
     "metadata": {},
     "output_type": "execute_result"
    },
    {
     "data": {
      "image/png": "[encoded data removed]",
      "text/plain": [
       "<Figure size 432x288 with 1 Axes>"
      ]
     },
     "metadata": {
      "needs_background": "light"
     },
     "output_type": "display_data"
    }
   ],
   "source": [
    "sns.distplot(y_train-y_hat)\n",
    "plt.title('residuals',size=18)"
   ]
  },
  {
   "cell_type": "code",
   "execution_count": 65,
   "metadata": {},
   "outputs": [
    {
     "name": "stdout",
     "output_type": "stream",
     "text": [
      "47.60221188991599\n"
     ]
    }
   ],
   "source": [
    "accuracy=reg.score(val_train, y_train)*100\n",
    "print(accuracy)"
   ]
  },
  {
   "cell_type": "code",
   "execution_count": 66,
   "metadata": {},
   "outputs": [
    {
     "data": {
      "image/png": "[encoded data removed]",
      "text/plain": [
       "<Figure size 432x288 with 1 Axes>"
      ]
     },
     "metadata": {
      "needs_background": "light"
     },
     "output_type": "display_data"
    }
   ],
   "source": [
    "y_hat_test=reg.predict(val_test)\n",
    "plt.scatter(y_test,y_hat_test)\n",
    "plt.xlabel('Target(y-test)',size=18)\n",
    "plt.ylabel('prediction(y-hat-test)',size=18)\n",
    "plt.show()"
   ]
  },
  {
   "cell_type": "code",
   "execution_count": 67,
   "metadata": {
    "scrolled": true
   },
   "outputs": [
    {
     "data": {
      "text/html": [
       "<div>\n",
       "<style scoped>\n",
       "    .dataframe tbody tr th:only-of-type {\n",
       "        vertical-align: middle;\n",
       "    }\n",
       "\n",
       "    .dataframe tbody tr th {\n",
       "        vertical-align: top;\n",
       "    }\n",
       "\n",
       "    .dataframe thead th {\n",
       "        text-align: right;\n",
       "    }\n",
       "</style>\n",
       "<table border=\"1\" class=\"dataframe\">\n",
       "  <thead>\n",
       "    <tr style=\"text-align: right;\">\n",
       "      <th></th>\n",
       "      <th>predictions</th>\n",
       "    </tr>\n",
       "  </thead>\n",
       "  <tbody>\n",
       "    <tr>\n",
       "      <th>0</th>\n",
       "      <td>5676.343656</td>\n",
       "    </tr>\n",
       "    <tr>\n",
       "      <th>1</th>\n",
       "      <td>-928.280510</td>\n",
       "    </tr>\n",
       "    <tr>\n",
       "      <th>2</th>\n",
       "      <td>-2800.972314</td>\n",
       "    </tr>\n",
       "    <tr>\n",
       "      <th>3</th>\n",
       "      <td>15099.555005</td>\n",
       "    </tr>\n",
       "    <tr>\n",
       "      <th>4</th>\n",
       "      <td>17404.956087</td>\n",
       "    </tr>\n",
       "  </tbody>\n",
       "</table>\n",
       "</div>"
      ],
      "text/plain": [
       "    predictions\n",
       "0   5676.343656\n",
       "1   -928.280510\n",
       "2  -2800.972314\n",
       "3  15099.555005\n",
       "4  17404.956087"
      ]
     },
     "execution_count": 67,
     "metadata": {},
     "output_type": "execute_result"
    }
   ],
   "source": [
    "df_pf=pd.DataFrame(y_hat_test,columns=['predictions'])\n",
    "df_pf.head()"
   ]
  },
  {
   "cell_type": "code",
   "execution_count": 68,
   "metadata": {},
   "outputs": [
    {
     "data": {
      "text/plain": [
       "0     3265.01\n",
       "1     1450.00\n",
       "2      672.00\n",
       "3     4221.92\n",
       "4    13689.15\n",
       "Name: payment_amount, dtype: float64"
      ]
     },
     "execution_count": 68,
     "metadata": {},
     "output_type": "execute_result"
    }
   ],
   "source": [
    "y_test=y_test.reset_index(drop='True')\n",
    "y_test.head()"
   ]
  },
  {
   "cell_type": "code",
   "execution_count": 69,
   "metadata": {},
   "outputs": [
    {
     "data": {
      "text/html": [
       "<div>\n",
       "<style scoped>\n",
       "    .dataframe tbody tr th:only-of-type {\n",
       "        vertical-align: middle;\n",
       "    }\n",
       "\n",
       "    .dataframe tbody tr th {\n",
       "        vertical-align: top;\n",
       "    }\n",
       "\n",
       "    .dataframe thead th {\n",
       "        text-align: right;\n",
       "    }\n",
       "</style>\n",
       "<table border=\"1\" class=\"dataframe\">\n",
       "  <thead>\n",
       "    <tr style=\"text-align: right;\">\n",
       "      <th></th>\n",
       "      <th>predictions</th>\n",
       "      <th>target</th>\n",
       "    </tr>\n",
       "  </thead>\n",
       "  <tbody>\n",
       "    <tr>\n",
       "      <th>0</th>\n",
       "      <td>5676.343656</td>\n",
       "      <td>3265.01</td>\n",
       "    </tr>\n",
       "    <tr>\n",
       "      <th>1</th>\n",
       "      <td>-928.280510</td>\n",
       "      <td>1450.00</td>\n",
       "    </tr>\n",
       "    <tr>\n",
       "      <th>2</th>\n",
       "      <td>-2800.972314</td>\n",
       "      <td>672.00</td>\n",
       "    </tr>\n",
       "    <tr>\n",
       "      <th>3</th>\n",
       "      <td>15099.555005</td>\n",
       "      <td>4221.92</td>\n",
       "    </tr>\n",
       "    <tr>\n",
       "      <th>4</th>\n",
       "      <td>17404.956087</td>\n",
       "      <td>13689.15</td>\n",
       "    </tr>\n",
       "  </tbody>\n",
       "</table>\n",
       "</div>"
      ],
      "text/plain": [
       "    predictions    target\n",
       "0   5676.343656   3265.01\n",
       "1   -928.280510   1450.00\n",
       "2  -2800.972314    672.00\n",
       "3  15099.555005   4221.92\n",
       "4  17404.956087  13689.15"
      ]
     },
     "execution_count": 69,
     "metadata": {},
     "output_type": "execute_result"
    }
   ],
   "source": [
    "df_pf['target']=y_test\n",
    "df_pf.head()"
   ]
  },
  {
   "cell_type": "code",
   "execution_count": 70,
   "metadata": {},
   "outputs": [
    {
     "data": {
      "text/plain": [
       "4085.6938886964026"
      ]
     },
     "execution_count": 70,
     "metadata": {},
     "output_type": "execute_result"
    }
   ],
   "source": [
    "#checking the mean absolute error of our model\n",
    "#model should not have way too good(close to zero) which implies there is a leakage \n",
    "from sklearn.metrics import mean_absolute_error\n",
    "y_true = df_pf['target']\n",
    "y_pred = df_pf['predictions']\n",
    "mean_absolute_error(y_true, y_pred)"
   ]
  },
  {
   "cell_type": "code",
   "execution_count": 71,
   "metadata": {},
   "outputs": [],
   "source": [
    "import pickle\n",
    "filename='1704119.pkl'\n",
    "pickle.dump(reg,open(filename,\"wb\"));"
   ]
  },
  {
   "cell_type": "code",
   "execution_count": null,
   "metadata": {},
   "outputs": [],
   "source": []
  }
 ],
 "metadata": {
  "kernelspec": {
   "display_name": "Python 3",
   "language": "python",
   "name": "python3"
  },
  "language_info": {
   "codemirror_mode": {
    "name": "ipython",
    "version": 3
   },
   "file_extension": ".py",
   "mimetype": "text/x-python",
   "name": "python",
   "nbconvert_exporter": "python",
   "pygments_lexer": "ipython3",
   "version": "3.7.6"
  }
 },
 "nbformat": 4,
 "nbformat_minor": 4
}
